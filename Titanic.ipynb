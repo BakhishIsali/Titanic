{
 "cells": [
  {
   "cell_type": "code",
   "execution_count": 1,
   "metadata": {},
   "outputs": [],
   "source": [
    "import numpy as np\n",
    "import pandas as pd\n",
    "import seaborn as sns\n",
    "import matplotlib.pyplot as plt\n",
    "from sklearn.impute import KNNImputer\n",
    "from sklearn.preprocessing import LabelEncoder\n",
    "pd.set_option(\"display.max_columns\", None)\n",
    "pd.set_option(\"display.width\",500) \n",
    "import warnings\n",
    "warnings.simplefilter('ignore', category=FutureWarning)"
   ]
  },
  {
   "cell_type": "code",
   "execution_count": 2,
   "metadata": {},
   "outputs": [],
   "source": [
    "train_df=pd.read_csv(r\"C:\\Users\\user\\Downloads\\train.csv\")"
   ]
  },
  {
   "cell_type": "code",
   "execution_count": 3,
   "metadata": {},
   "outputs": [],
   "source": [
    "test_df=pd.read_csv(r\"C:\\Users\\user\\Downloads\\test (1).csv\")"
   ]
  },
  {
   "cell_type": "code",
   "execution_count": 4,
   "metadata": {
    "scrolled": true
   },
   "outputs": [
    {
     "data": {
      "text/plain": [
       "0    549\n",
       "1    342\n",
       "Name: Survived, dtype: int64"
      ]
     },
     "execution_count": 4,
     "metadata": {},
     "output_type": "execute_result"
    }
   ],
   "source": [
    "train_df[\"Survived\"].value_counts()"
   ]
  },
  {
   "cell_type": "code",
   "execution_count": 5,
   "metadata": {
    "scrolled": true
   },
   "outputs": [
    {
     "data": {
      "text/plain": [
       "array(['male', 'female'], dtype=object)"
      ]
     },
     "execution_count": 5,
     "metadata": {},
     "output_type": "execute_result"
    }
   ],
   "source": [
    "train_df[\"Sex\"].unique()"
   ]
  },
  {
   "cell_type": "code",
   "execution_count": 6,
   "metadata": {
    "scrolled": true
   },
   "outputs": [
    {
     "data": {
      "text/plain": [
       "array([3, 1, 2], dtype=int64)"
      ]
     },
     "execution_count": 6,
     "metadata": {},
     "output_type": "execute_result"
    }
   ],
   "source": [
    "train_df[\"Pclass\"].unique()"
   ]
  },
  {
   "cell_type": "code",
   "execution_count": 7,
   "metadata": {},
   "outputs": [
    {
     "data": {
      "text/html": [
       "<div>\n",
       "<style scoped>\n",
       "    .dataframe tbody tr th:only-of-type {\n",
       "        vertical-align: middle;\n",
       "    }\n",
       "\n",
       "    .dataframe tbody tr th {\n",
       "        vertical-align: top;\n",
       "    }\n",
       "\n",
       "    .dataframe thead th {\n",
       "        text-align: right;\n",
       "    }\n",
       "</style>\n",
       "<table border=\"1\" class=\"dataframe\">\n",
       "  <thead>\n",
       "    <tr style=\"text-align: right;\">\n",
       "      <th></th>\n",
       "      <th>PassengerId</th>\n",
       "      <th>Survived</th>\n",
       "      <th>Pclass</th>\n",
       "      <th>Name</th>\n",
       "      <th>Sex</th>\n",
       "      <th>Age</th>\n",
       "      <th>SibSp</th>\n",
       "      <th>Parch</th>\n",
       "      <th>Ticket</th>\n",
       "      <th>Fare</th>\n",
       "      <th>Cabin</th>\n",
       "      <th>Embarked</th>\n",
       "    </tr>\n",
       "  </thead>\n",
       "  <tbody>\n",
       "    <tr>\n",
       "      <th>0</th>\n",
       "      <td>1</td>\n",
       "      <td>0</td>\n",
       "      <td>3</td>\n",
       "      <td>Braund, Mr. Owen Harris</td>\n",
       "      <td>male</td>\n",
       "      <td>22.0</td>\n",
       "      <td>1</td>\n",
       "      <td>0</td>\n",
       "      <td>A/5 21171</td>\n",
       "      <td>7.2500</td>\n",
       "      <td>NaN</td>\n",
       "      <td>S</td>\n",
       "    </tr>\n",
       "    <tr>\n",
       "      <th>1</th>\n",
       "      <td>2</td>\n",
       "      <td>1</td>\n",
       "      <td>1</td>\n",
       "      <td>Cumings, Mrs. John Bradley (Florence Briggs Th...</td>\n",
       "      <td>female</td>\n",
       "      <td>38.0</td>\n",
       "      <td>1</td>\n",
       "      <td>0</td>\n",
       "      <td>PC 17599</td>\n",
       "      <td>71.2833</td>\n",
       "      <td>C85</td>\n",
       "      <td>C</td>\n",
       "    </tr>\n",
       "    <tr>\n",
       "      <th>2</th>\n",
       "      <td>3</td>\n",
       "      <td>1</td>\n",
       "      <td>3</td>\n",
       "      <td>Heikkinen, Miss. Laina</td>\n",
       "      <td>female</td>\n",
       "      <td>26.0</td>\n",
       "      <td>0</td>\n",
       "      <td>0</td>\n",
       "      <td>STON/O2. 3101282</td>\n",
       "      <td>7.9250</td>\n",
       "      <td>NaN</td>\n",
       "      <td>S</td>\n",
       "    </tr>\n",
       "    <tr>\n",
       "      <th>3</th>\n",
       "      <td>4</td>\n",
       "      <td>1</td>\n",
       "      <td>1</td>\n",
       "      <td>Futrelle, Mrs. Jacques Heath (Lily May Peel)</td>\n",
       "      <td>female</td>\n",
       "      <td>35.0</td>\n",
       "      <td>1</td>\n",
       "      <td>0</td>\n",
       "      <td>113803</td>\n",
       "      <td>53.1000</td>\n",
       "      <td>C123</td>\n",
       "      <td>S</td>\n",
       "    </tr>\n",
       "    <tr>\n",
       "      <th>4</th>\n",
       "      <td>5</td>\n",
       "      <td>0</td>\n",
       "      <td>3</td>\n",
       "      <td>Allen, Mr. William Henry</td>\n",
       "      <td>male</td>\n",
       "      <td>35.0</td>\n",
       "      <td>0</td>\n",
       "      <td>0</td>\n",
       "      <td>373450</td>\n",
       "      <td>8.0500</td>\n",
       "      <td>NaN</td>\n",
       "      <td>S</td>\n",
       "    </tr>\n",
       "    <tr>\n",
       "      <th>...</th>\n",
       "      <td>...</td>\n",
       "      <td>...</td>\n",
       "      <td>...</td>\n",
       "      <td>...</td>\n",
       "      <td>...</td>\n",
       "      <td>...</td>\n",
       "      <td>...</td>\n",
       "      <td>...</td>\n",
       "      <td>...</td>\n",
       "      <td>...</td>\n",
       "      <td>...</td>\n",
       "      <td>...</td>\n",
       "    </tr>\n",
       "    <tr>\n",
       "      <th>886</th>\n",
       "      <td>887</td>\n",
       "      <td>0</td>\n",
       "      <td>2</td>\n",
       "      <td>Montvila, Rev. Juozas</td>\n",
       "      <td>male</td>\n",
       "      <td>27.0</td>\n",
       "      <td>0</td>\n",
       "      <td>0</td>\n",
       "      <td>211536</td>\n",
       "      <td>13.0000</td>\n",
       "      <td>NaN</td>\n",
       "      <td>S</td>\n",
       "    </tr>\n",
       "    <tr>\n",
       "      <th>887</th>\n",
       "      <td>888</td>\n",
       "      <td>1</td>\n",
       "      <td>1</td>\n",
       "      <td>Graham, Miss. Margaret Edith</td>\n",
       "      <td>female</td>\n",
       "      <td>19.0</td>\n",
       "      <td>0</td>\n",
       "      <td>0</td>\n",
       "      <td>112053</td>\n",
       "      <td>30.0000</td>\n",
       "      <td>B42</td>\n",
       "      <td>S</td>\n",
       "    </tr>\n",
       "    <tr>\n",
       "      <th>888</th>\n",
       "      <td>889</td>\n",
       "      <td>0</td>\n",
       "      <td>3</td>\n",
       "      <td>Johnston, Miss. Catherine Helen \"Carrie\"</td>\n",
       "      <td>female</td>\n",
       "      <td>NaN</td>\n",
       "      <td>1</td>\n",
       "      <td>2</td>\n",
       "      <td>W./C. 6607</td>\n",
       "      <td>23.4500</td>\n",
       "      <td>NaN</td>\n",
       "      <td>S</td>\n",
       "    </tr>\n",
       "    <tr>\n",
       "      <th>889</th>\n",
       "      <td>890</td>\n",
       "      <td>1</td>\n",
       "      <td>1</td>\n",
       "      <td>Behr, Mr. Karl Howell</td>\n",
       "      <td>male</td>\n",
       "      <td>26.0</td>\n",
       "      <td>0</td>\n",
       "      <td>0</td>\n",
       "      <td>111369</td>\n",
       "      <td>30.0000</td>\n",
       "      <td>C148</td>\n",
       "      <td>C</td>\n",
       "    </tr>\n",
       "    <tr>\n",
       "      <th>890</th>\n",
       "      <td>891</td>\n",
       "      <td>0</td>\n",
       "      <td>3</td>\n",
       "      <td>Dooley, Mr. Patrick</td>\n",
       "      <td>male</td>\n",
       "      <td>32.0</td>\n",
       "      <td>0</td>\n",
       "      <td>0</td>\n",
       "      <td>370376</td>\n",
       "      <td>7.7500</td>\n",
       "      <td>NaN</td>\n",
       "      <td>Q</td>\n",
       "    </tr>\n",
       "  </tbody>\n",
       "</table>\n",
       "<p>891 rows × 12 columns</p>\n",
       "</div>"
      ],
      "text/plain": [
       "     PassengerId  Survived  Pclass                                               Name     Sex   Age  SibSp  Parch            Ticket     Fare Cabin Embarked\n",
       "0              1         0       3                            Braund, Mr. Owen Harris    male  22.0      1      0         A/5 21171   7.2500   NaN        S\n",
       "1              2         1       1  Cumings, Mrs. John Bradley (Florence Briggs Th...  female  38.0      1      0          PC 17599  71.2833   C85        C\n",
       "2              3         1       3                             Heikkinen, Miss. Laina  female  26.0      0      0  STON/O2. 3101282   7.9250   NaN        S\n",
       "3              4         1       1       Futrelle, Mrs. Jacques Heath (Lily May Peel)  female  35.0      1      0            113803  53.1000  C123        S\n",
       "4              5         0       3                           Allen, Mr. William Henry    male  35.0      0      0            373450   8.0500   NaN        S\n",
       "..           ...       ...     ...                                                ...     ...   ...    ...    ...               ...      ...   ...      ...\n",
       "886          887         0       2                              Montvila, Rev. Juozas    male  27.0      0      0            211536  13.0000   NaN        S\n",
       "887          888         1       1                       Graham, Miss. Margaret Edith  female  19.0      0      0            112053  30.0000   B42        S\n",
       "888          889         0       3           Johnston, Miss. Catherine Helen \"Carrie\"  female   NaN      1      2        W./C. 6607  23.4500   NaN        S\n",
       "889          890         1       1                              Behr, Mr. Karl Howell    male  26.0      0      0            111369  30.0000  C148        C\n",
       "890          891         0       3                                Dooley, Mr. Patrick    male  32.0      0      0            370376   7.7500   NaN        Q\n",
       "\n",
       "[891 rows x 12 columns]"
      ]
     },
     "execution_count": 7,
     "metadata": {},
     "output_type": "execute_result"
    }
   ],
   "source": [
    "train_df"
   ]
  },
  {
   "cell_type": "code",
   "execution_count": 8,
   "metadata": {},
   "outputs": [],
   "source": [
    "def check_df(dataframe1,dataframe2,x=5):\n",
    "    print(\"INFO\")\n",
    "    print(dataframe1.info(),'\\n\\n',dataframe2.info())\n",
    "    print(\"COLUMNS\")\n",
    "    print(dataframe1.columns,'\\n\\n',dataframe2.columns)\n",
    "    print(\"TYPES\")\n",
    "    print(dataframe1.dtypes,'\\n\\n',dataframe2.dtypes)\n",
    "    print(\"HEAD\")\n",
    "    print(dataframe1.head(x),'\\n\\n',dataframe2.head(x))\n",
    "    print(\"TAIL\")\n",
    "    print(dataframe1.tail(x),'\\n\\n',dataframe2.tail(x))\n",
    "    print(\"NULL VARIABLES\")\n",
    "    print(dataframe1.isnull().sum(),'\\n\\n',dataframe2.isnull().sum())\n",
    "    print(\"QUANTILES\")\n",
    "    print(dataframe1.describe([0,0.05,0.5,0.95,0.99,1]).T,'\\n\\n',dataframe2.describe([0,0.05,0.5,0.95,0.99,1]).T)"
   ]
  },
  {
   "cell_type": "code",
   "execution_count": 9,
   "metadata": {},
   "outputs": [
    {
     "name": "stdout",
     "output_type": "stream",
     "text": [
      "INFO\n",
      "<class 'pandas.core.frame.DataFrame'>\n",
      "RangeIndex: 891 entries, 0 to 890\n",
      "Data columns (total 12 columns):\n",
      " #   Column       Non-Null Count  Dtype  \n",
      "---  ------       --------------  -----  \n",
      " 0   PassengerId  891 non-null    int64  \n",
      " 1   Survived     891 non-null    int64  \n",
      " 2   Pclass       891 non-null    int64  \n",
      " 3   Name         891 non-null    object \n",
      " 4   Sex          891 non-null    object \n",
      " 5   Age          714 non-null    float64\n",
      " 6   SibSp        891 non-null    int64  \n",
      " 7   Parch        891 non-null    int64  \n",
      " 8   Ticket       891 non-null    object \n",
      " 9   Fare         891 non-null    float64\n",
      " 10  Cabin        204 non-null    object \n",
      " 11  Embarked     889 non-null    object \n",
      "dtypes: float64(2), int64(5), object(5)\n",
      "memory usage: 83.7+ KB\n",
      "<class 'pandas.core.frame.DataFrame'>\n",
      "RangeIndex: 418 entries, 0 to 417\n",
      "Data columns (total 11 columns):\n",
      " #   Column       Non-Null Count  Dtype  \n",
      "---  ------       --------------  -----  \n",
      " 0   PassengerId  418 non-null    int64  \n",
      " 1   Pclass       418 non-null    int64  \n",
      " 2   Name         418 non-null    object \n",
      " 3   Sex          418 non-null    object \n",
      " 4   Age          332 non-null    float64\n",
      " 5   SibSp        418 non-null    int64  \n",
      " 6   Parch        418 non-null    int64  \n",
      " 7   Ticket       418 non-null    object \n",
      " 8   Fare         417 non-null    float64\n",
      " 9   Cabin        91 non-null     object \n",
      " 10  Embarked     418 non-null    object \n",
      "dtypes: float64(2), int64(4), object(5)\n",
      "memory usage: 36.0+ KB\n",
      "None \n",
      "\n",
      " None\n",
      "COLUMNS\n",
      "Index(['PassengerId', 'Survived', 'Pclass', 'Name', 'Sex', 'Age', 'SibSp', 'Parch', 'Ticket', 'Fare', 'Cabin', 'Embarked'], dtype='object') \n",
      "\n",
      " Index(['PassengerId', 'Pclass', 'Name', 'Sex', 'Age', 'SibSp', 'Parch', 'Ticket', 'Fare', 'Cabin', 'Embarked'], dtype='object')\n",
      "TYPES\n",
      "PassengerId      int64\n",
      "Survived         int64\n",
      "Pclass           int64\n",
      "Name            object\n",
      "Sex             object\n",
      "Age            float64\n",
      "SibSp            int64\n",
      "Parch            int64\n",
      "Ticket          object\n",
      "Fare           float64\n",
      "Cabin           object\n",
      "Embarked        object\n",
      "dtype: object \n",
      "\n",
      " PassengerId      int64\n",
      "Pclass           int64\n",
      "Name            object\n",
      "Sex             object\n",
      "Age            float64\n",
      "SibSp            int64\n",
      "Parch            int64\n",
      "Ticket          object\n",
      "Fare           float64\n",
      "Cabin           object\n",
      "Embarked        object\n",
      "dtype: object\n",
      "HEAD\n",
      "   PassengerId  Survived  Pclass                                               Name     Sex   Age  SibSp  Parch            Ticket     Fare Cabin Embarked\n",
      "0            1         0       3                            Braund, Mr. Owen Harris    male  22.0      1      0         A/5 21171   7.2500   NaN        S\n",
      "1            2         1       1  Cumings, Mrs. John Bradley (Florence Briggs Th...  female  38.0      1      0          PC 17599  71.2833   C85        C\n",
      "2            3         1       3                             Heikkinen, Miss. Laina  female  26.0      0      0  STON/O2. 3101282   7.9250   NaN        S\n",
      "3            4         1       1       Futrelle, Mrs. Jacques Heath (Lily May Peel)  female  35.0      1      0            113803  53.1000  C123        S\n",
      "4            5         0       3                           Allen, Mr. William Henry    male  35.0      0      0            373450   8.0500   NaN        S \n",
      "\n",
      "    PassengerId  Pclass                                          Name     Sex   Age  SibSp  Parch   Ticket     Fare Cabin Embarked\n",
      "0          892       3                              Kelly, Mr. James    male  34.5      0      0   330911   7.8292   NaN        Q\n",
      "1          893       3              Wilkes, Mrs. James (Ellen Needs)  female  47.0      1      0   363272   7.0000   NaN        S\n",
      "2          894       2                     Myles, Mr. Thomas Francis    male  62.0      0      0   240276   9.6875   NaN        Q\n",
      "3          895       3                              Wirz, Mr. Albert    male  27.0      0      0   315154   8.6625   NaN        S\n",
      "4          896       3  Hirvonen, Mrs. Alexander (Helga E Lindqvist)  female  22.0      1      1  3101298  12.2875   NaN        S\n",
      "TAIL\n",
      "     PassengerId  Survived  Pclass                                      Name     Sex   Age  SibSp  Parch      Ticket   Fare Cabin Embarked\n",
      "886          887         0       2                     Montvila, Rev. Juozas    male  27.0      0      0      211536  13.00   NaN        S\n",
      "887          888         1       1              Graham, Miss. Margaret Edith  female  19.0      0      0      112053  30.00   B42        S\n",
      "888          889         0       3  Johnston, Miss. Catherine Helen \"Carrie\"  female   NaN      1      2  W./C. 6607  23.45   NaN        S\n",
      "889          890         1       1                     Behr, Mr. Karl Howell    male  26.0      0      0      111369  30.00  C148        C\n",
      "890          891         0       3                       Dooley, Mr. Patrick    male  32.0      0      0      370376   7.75   NaN        Q \n",
      "\n",
      "      PassengerId  Pclass                          Name     Sex   Age  SibSp  Parch              Ticket      Fare Cabin Embarked\n",
      "413         1305       3            Spector, Mr. Woolf    male   NaN      0      0           A.5. 3236    8.0500   NaN        S\n",
      "414         1306       1  Oliva y Ocana, Dona. Fermina  female  39.0      0      0            PC 17758  108.9000  C105        C\n",
      "415         1307       3  Saether, Mr. Simon Sivertsen    male  38.5      0      0  SOTON/O.Q. 3101262    7.2500   NaN        S\n",
      "416         1308       3           Ware, Mr. Frederick    male   NaN      0      0              359309    8.0500   NaN        S\n",
      "417         1309       3      Peter, Master. Michael J    male   NaN      1      1                2668   22.3583   NaN        C\n",
      "NULL VARIABLES\n",
      "PassengerId      0\n",
      "Survived         0\n",
      "Pclass           0\n",
      "Name             0\n",
      "Sex              0\n",
      "Age            177\n",
      "SibSp            0\n",
      "Parch            0\n",
      "Ticket           0\n",
      "Fare             0\n",
      "Cabin          687\n",
      "Embarked         2\n",
      "dtype: int64 \n",
      "\n",
      " PassengerId      0\n",
      "Pclass           0\n",
      "Name             0\n",
      "Sex              0\n",
      "Age             86\n",
      "SibSp            0\n",
      "Parch            0\n",
      "Ticket           0\n",
      "Fare             1\n",
      "Cabin          327\n",
      "Embarked         0\n",
      "dtype: int64\n",
      "QUANTILES\n",
      "             count        mean         std   min    0%      5%       50%        95%        99%      100%       max\n",
      "PassengerId  891.0  446.000000  257.353842  1.00  1.00  45.500  446.0000  846.50000  882.10000  891.0000  891.0000\n",
      "Survived     891.0    0.383838    0.486592  0.00  0.00   0.000    0.0000    1.00000    1.00000    1.0000    1.0000\n",
      "Pclass       891.0    2.308642    0.836071  1.00  1.00   1.000    3.0000    3.00000    3.00000    3.0000    3.0000\n",
      "Age          714.0   29.699118   14.526497  0.42  0.42   4.000   28.0000   56.00000   65.87000   80.0000   80.0000\n",
      "SibSp        891.0    0.523008    1.102743  0.00  0.00   0.000    0.0000    3.00000    5.00000    8.0000    8.0000\n",
      "Parch        891.0    0.381594    0.806057  0.00  0.00   0.000    0.0000    2.00000    4.00000    6.0000    6.0000\n",
      "Fare         891.0   32.204208   49.693429  0.00  0.00   7.225   14.4542  112.07915  249.00622  512.3292  512.3292 \n",
      "\n",
      "              count         mean         std     min      0%        5%        50%      95%       99%       100%        max\n",
      "PassengerId  418.0  1100.500000  120.810458  892.00  892.00  912.8500  1100.5000  1288.15  1304.830  1309.0000  1309.0000\n",
      "Pclass       418.0     2.265550    0.841838    1.00    1.00    1.0000     3.0000     3.00     3.000     3.0000     3.0000\n",
      "Age          332.0    30.272590   14.181209    0.17    0.17    8.0000    27.0000    57.00    64.000    76.0000    76.0000\n",
      "SibSp        418.0     0.447368    0.896760    0.00    0.00    0.0000     0.0000     2.00     4.000     8.0000     8.0000\n",
      "Parch        418.0     0.392344    0.981429    0.00    0.00    0.0000     0.0000     2.00     4.000     9.0000     9.0000\n",
      "Fare         417.0    35.627188   55.907576    0.00    0.00    7.2292    14.4542   151.55   262.375   512.3292   512.3292\n"
     ]
    }
   ],
   "source": [
    "check_df(train_df,test_df)"
   ]
  },
  {
   "cell_type": "code",
   "execution_count": 10,
   "metadata": {},
   "outputs": [
    {
     "data": {
      "text/plain": [
       "['Name', 'Sex', 'Ticket', 'Cabin', 'Embarked']"
      ]
     },
     "execution_count": 10,
     "metadata": {},
     "output_type": "execute_result"
    }
   ],
   "source": [
    "cat_cols=[col for col in train_df.columns if str(train_df[col].dtypes) in ['category','object','bool']]\n",
    "cat_cols"
   ]
  },
  {
   "cell_type": "code",
   "execution_count": 11,
   "metadata": {},
   "outputs": [
    {
     "data": {
      "text/plain": [
       "['Survived', 'Pclass', 'SibSp', 'Parch']"
      ]
     },
     "execution_count": 11,
     "metadata": {},
     "output_type": "execute_result"
    }
   ],
   "source": [
    "num_but_cat=[col for col in train_df.columns if train_df[col].nunique()<10 and train_df[col].dtypes in ['int64','float64']]\n",
    "num_but_cat"
   ]
  },
  {
   "cell_type": "code",
   "execution_count": 12,
   "metadata": {},
   "outputs": [
    {
     "data": {
      "text/plain": [
       "['Name', 'Ticket', 'Cabin']"
      ]
     },
     "execution_count": 12,
     "metadata": {},
     "output_type": "execute_result"
    }
   ],
   "source": [
    "cat_but_car=[col for col in train_df.columns if train_df[col].nunique()>20 and train_df[col].dtypes in [\"object\",'category']]\n",
    "cat_but_car"
   ]
  },
  {
   "cell_type": "code",
   "execution_count": 13,
   "metadata": {},
   "outputs": [
    {
     "data": {
      "text/plain": [
       "['Embarked', 'Sex']"
      ]
     },
     "execution_count": 13,
     "metadata": {},
     "output_type": "execute_result"
    }
   ],
   "source": [
    "cat_cols=list(set(cat_cols)-set(cat_but_car))\n",
    "cat_cols"
   ]
  },
  {
   "cell_type": "code",
   "execution_count": 14,
   "metadata": {},
   "outputs": [
    {
     "data": {
      "text/plain": [
       "['Embarked', 'Sex', 'Survived', 'Pclass', 'SibSp', 'Parch']"
      ]
     },
     "execution_count": 14,
     "metadata": {},
     "output_type": "execute_result"
    }
   ],
   "source": [
    "cat_cols=cat_cols+num_but_cat\n",
    "cat_cols"
   ]
  },
  {
   "cell_type": "code",
   "execution_count": 15,
   "metadata": {},
   "outputs": [],
   "source": [
    "def summary(dataframe,col_name):\n",
    "    print(pd.DataFrame({col_name:dataframe[col_name].value_counts(),\"Ratio\":100*dataframe[col_name].value_counts()/len(dataframe)}))"
   ]
  },
  {
   "cell_type": "code",
   "execution_count": 16,
   "metadata": {},
   "outputs": [
    {
     "name": "stdout",
     "output_type": "stream",
     "text": [
      "   Embarked      Ratio\n",
      "S       644  72.278339\n",
      "C       168  18.855219\n",
      "Q        77   8.641975\n",
      "        Sex      Ratio\n",
      "male    577  64.758698\n",
      "female  314  35.241302\n",
      "   Survived      Ratio\n",
      "0       549  61.616162\n",
      "1       342  38.383838\n",
      "   Pclass      Ratio\n",
      "3     491  55.106622\n",
      "1     216  24.242424\n",
      "2     184  20.650954\n",
      "   SibSp      Ratio\n",
      "0    608  68.237935\n",
      "1    209  23.456790\n",
      "2     28   3.142536\n",
      "4     18   2.020202\n",
      "3     16   1.795735\n",
      "8      7   0.785634\n",
      "5      5   0.561167\n",
      "   Parch      Ratio\n",
      "0    678  76.094276\n",
      "1    118  13.243547\n",
      "2     80   8.978676\n",
      "5      5   0.561167\n",
      "3      5   0.561167\n",
      "4      4   0.448934\n",
      "6      1   0.112233\n"
     ]
    }
   ],
   "source": [
    "for i in cat_cols:\n",
    "    summary(train_df,i)"
   ]
  },
  {
   "cell_type": "code",
   "execution_count": 17,
   "metadata": {},
   "outputs": [],
   "source": [
    "def summary(dataframe,col_name,plot=True):\n",
    "    print(pd.DataFrame({col_name:dataframe[col_name].value_counts(),\"Ratio\":100*dataframe[col_name].value_counts()/len(dataframe)}))\n",
    "    if plot:\n",
    "        sns.countplot(x=dataframe[col_name],data=dataframe)\n",
    "        plt.show(block=True)"
   ]
  },
  {
   "cell_type": "code",
   "execution_count": 18,
   "metadata": {},
   "outputs": [
    {
     "name": "stdout",
     "output_type": "stream",
     "text": [
      "   Embarked      Ratio\n",
      "S       644  72.278339\n",
      "C       168  18.855219\n",
      "Q        77   8.641975\n"
     ]
    },
    {
     "data": {
      "image/png": "[encoded data removed]",
      "text/plain": [
       "<Figure size 432x288 with 1 Axes>"
      ]
     },
     "metadata": {
      "needs_background": "light"
     },
     "output_type": "display_data"
    },
    {
     "name": "stdout",
     "output_type": "stream",
     "text": [
      "        Sex      Ratio\n",
      "male    577  64.758698\n",
      "female  314  35.241302\n"
     ]
    },
    {
     "data": {
      "image/png": "[encoded data removed]",
      "text/plain": [
       "<Figure size 432x288 with 1 Axes>"
      ]
     },
     "metadata": {
      "needs_background": "light"
     },
     "output_type": "display_data"
    },
    {
     "name": "stdout",
     "output_type": "stream",
     "text": [
      "   Survived      Ratio\n",
      "0       549  61.616162\n",
      "1       342  38.383838\n"
     ]
    },
    {
     "data": {
      "image/png": "[encoded data removed]",
      "text/plain": [
       "<Figure size 432x288 with 1 Axes>"
      ]
     },
     "metadata": {
      "needs_background": "light"
     },
     "output_type": "display_data"
    },
    {
     "name": "stdout",
     "output_type": "stream",
     "text": [
      "   Pclass      Ratio\n",
      "3     491  55.106622\n",
      "1     216  24.242424\n",
      "2     184  20.650954\n"
     ]
    },
    {
     "data": {
      "image/png": "[encoded data removed]",
      "text/plain": [
       "<Figure size 432x288 with 1 Axes>"
      ]
     },
     "metadata": {
      "needs_background": "light"
     },
     "output_type": "display_data"
    },
    {
     "name": "stdout",
     "output_type": "stream",
     "text": [
      "   SibSp      Ratio\n",
      "0    608  68.237935\n",
      "1    209  23.456790\n",
      "2     28   3.142536\n",
      "4     18   2.020202\n",
      "3     16   1.795735\n",
      "8      7   0.785634\n",
      "5      5   0.561167\n"
     ]
    },
    {
     "data": {
      "image/png": "[encoded data removed]",
      "text/plain": [
       "<Figure size 432x288 with 1 Axes>"
      ]
     },
     "metadata": {
      "needs_background": "light"
     },
     "output_type": "display_data"
    },
    {
     "name": "stdout",
     "output_type": "stream",
     "text": [
      "   Parch      Ratio\n",
      "0    678  76.094276\n",
      "1    118  13.243547\n",
      "2     80   8.978676\n",
      "5      5   0.561167\n",
      "3      5   0.561167\n",
      "4      4   0.448934\n",
      "6      1   0.112233\n"
     ]
    },
    {
     "data": {
      "image/png": "[encoded data removed]",
      "text/plain": [
       "<Figure size 432x288 with 1 Axes>"
      ]
     },
     "metadata": {
      "needs_background": "light"
     },
     "output_type": "display_data"
    }
   ],
   "source": [
    "for i in cat_cols:\n",
    "    if train_df[i].dtypes=='bool':\n",
    "        print(\"That isn't categorical varaibles\")\n",
    "    else:\n",
    "        summary(train_df,i,plot=True)"
   ]
  },
  {
   "cell_type": "code",
   "execution_count": 19,
   "metadata": {
    "scrolled": true
   },
   "outputs": [
    {
     "data": {
      "text/html": [
       "<div>\n",
       "<style scoped>\n",
       "    .dataframe tbody tr th:only-of-type {\n",
       "        vertical-align: middle;\n",
       "    }\n",
       "\n",
       "    .dataframe tbody tr th {\n",
       "        vertical-align: top;\n",
       "    }\n",
       "\n",
       "    .dataframe thead th {\n",
       "        text-align: right;\n",
       "    }\n",
       "</style>\n",
       "<table border=\"1\" class=\"dataframe\">\n",
       "  <thead>\n",
       "    <tr style=\"text-align: right;\">\n",
       "      <th></th>\n",
       "      <th>Survived</th>\n",
       "      <th>Pclass</th>\n",
       "      <th>SibSp</th>\n",
       "      <th>Parch</th>\n",
       "    </tr>\n",
       "  </thead>\n",
       "  <tbody>\n",
       "    <tr>\n",
       "      <th>Survived</th>\n",
       "      <td>1.000000</td>\n",
       "      <td>-0.338481</td>\n",
       "      <td>-0.035322</td>\n",
       "      <td>0.081629</td>\n",
       "    </tr>\n",
       "    <tr>\n",
       "      <th>Pclass</th>\n",
       "      <td>-0.338481</td>\n",
       "      <td>1.000000</td>\n",
       "      <td>0.083081</td>\n",
       "      <td>0.018443</td>\n",
       "    </tr>\n",
       "    <tr>\n",
       "      <th>SibSp</th>\n",
       "      <td>-0.035322</td>\n",
       "      <td>0.083081</td>\n",
       "      <td>1.000000</td>\n",
       "      <td>0.414838</td>\n",
       "    </tr>\n",
       "    <tr>\n",
       "      <th>Parch</th>\n",
       "      <td>0.081629</td>\n",
       "      <td>0.018443</td>\n",
       "      <td>0.414838</td>\n",
       "      <td>1.000000</td>\n",
       "    </tr>\n",
       "  </tbody>\n",
       "</table>\n",
       "</div>"
      ],
      "text/plain": [
       "          Survived    Pclass     SibSp     Parch\n",
       "Survived  1.000000 -0.338481 -0.035322  0.081629\n",
       "Pclass   -0.338481  1.000000  0.083081  0.018443\n",
       "SibSp    -0.035322  0.083081  1.000000  0.414838\n",
       "Parch     0.081629  0.018443  0.414838  1.000000"
      ]
     },
     "execution_count": 19,
     "metadata": {},
     "output_type": "execute_result"
    }
   ],
   "source": [
    "corr=train_df[cat_cols].corr()\n",
    "corr"
   ]
  },
  {
   "cell_type": "code",
   "execution_count": 20,
   "metadata": {
    "scrolled": true
   },
   "outputs": [
    {
     "data": {
      "text/plain": [
       "<AxesSubplot:>"
      ]
     },
     "execution_count": 20,
     "metadata": {},
     "output_type": "execute_result"
    },
    {
     "data": {
      "image/png": "[encoded data removed]",
      "text/plain": [
       "<Figure size 1080x360 with 2 Axes>"
      ]
     },
     "metadata": {},
     "output_type": "display_data"
    }
   ],
   "source": [
    "sns.set(rc={\"figure.figsize\":(15,5)})\n",
    "sns.heatmap(corr,cmap=None)"
   ]
  },
  {
   "cell_type": "code",
   "execution_count": 21,
   "metadata": {},
   "outputs": [
    {
     "data": {
      "text/html": [
       "<div>\n",
       "<style scoped>\n",
       "    .dataframe tbody tr th:only-of-type {\n",
       "        vertical-align: middle;\n",
       "    }\n",
       "\n",
       "    .dataframe tbody tr th {\n",
       "        vertical-align: top;\n",
       "    }\n",
       "\n",
       "    .dataframe thead th {\n",
       "        text-align: right;\n",
       "    }\n",
       "</style>\n",
       "<table border=\"1\" class=\"dataframe\">\n",
       "  <thead>\n",
       "    <tr style=\"text-align: right;\">\n",
       "      <th></th>\n",
       "      <th>Age</th>\n",
       "      <th>Parch</th>\n",
       "      <th>Pclass</th>\n",
       "      <th>SibSp</th>\n",
       "    </tr>\n",
       "    <tr>\n",
       "      <th>Survived</th>\n",
       "      <th></th>\n",
       "      <th></th>\n",
       "      <th></th>\n",
       "      <th></th>\n",
       "    </tr>\n",
       "  </thead>\n",
       "  <tbody>\n",
       "    <tr>\n",
       "      <th>0</th>\n",
       "      <td>30.626179</td>\n",
       "      <td>0.329690</td>\n",
       "      <td>2.531876</td>\n",
       "      <td>0.553734</td>\n",
       "    </tr>\n",
       "    <tr>\n",
       "      <th>1</th>\n",
       "      <td>28.343690</td>\n",
       "      <td>0.464912</td>\n",
       "      <td>1.950292</td>\n",
       "      <td>0.473684</td>\n",
       "    </tr>\n",
       "  </tbody>\n",
       "</table>\n",
       "</div>"
      ],
      "text/plain": [
       "                Age     Parch    Pclass     SibSp\n",
       "Survived                                         \n",
       "0         30.626179  0.329690  2.531876  0.553734\n",
       "1         28.343690  0.464912  1.950292  0.473684"
      ]
     },
     "execution_count": 21,
     "metadata": {},
     "output_type": "execute_result"
    }
   ],
   "source": [
    "pd.pivot_table(train_df,index=\"Survived\",values=[\"Pclass\",\"SibSp\",\"Parch\",\"Age\"])"
   ]
  },
  {
   "cell_type": "code",
   "execution_count": 22,
   "metadata": {},
   "outputs": [],
   "source": [
    "train_df=train_df.drop(['PassengerId'], axis=1)"
   ]
  },
  {
   "cell_type": "code",
   "execution_count": 23,
   "metadata": {},
   "outputs": [],
   "source": [
    "num_cols=[col for col in train_df.columns if train_df[col].dtypes in ['float64','int64']]\n",
    "num_cols=[col for col in num_cols if col not in cat_cols]"
   ]
  },
  {
   "cell_type": "code",
   "execution_count": 24,
   "metadata": {},
   "outputs": [
    {
     "data": {
      "text/plain": [
       "['Age', 'Fare']"
      ]
     },
     "execution_count": 24,
     "metadata": {},
     "output_type": "execute_result"
    }
   ],
   "source": [
    "num_cols"
   ]
  },
  {
   "cell_type": "code",
   "execution_count": 25,
   "metadata": {},
   "outputs": [
    {
     "data": {
      "text/html": [
       "<div>\n",
       "<style scoped>\n",
       "    .dataframe tbody tr th:only-of-type {\n",
       "        vertical-align: middle;\n",
       "    }\n",
       "\n",
       "    .dataframe tbody tr th {\n",
       "        vertical-align: top;\n",
       "    }\n",
       "\n",
       "    .dataframe thead th {\n",
       "        text-align: right;\n",
       "    }\n",
       "</style>\n",
       "<table border=\"1\" class=\"dataframe\">\n",
       "  <thead>\n",
       "    <tr style=\"text-align: right;\">\n",
       "      <th></th>\n",
       "      <th>count</th>\n",
       "      <th>mean</th>\n",
       "      <th>std</th>\n",
       "      <th>min</th>\n",
       "      <th>25%</th>\n",
       "      <th>50%</th>\n",
       "      <th>75%</th>\n",
       "      <th>max</th>\n",
       "    </tr>\n",
       "  </thead>\n",
       "  <tbody>\n",
       "    <tr>\n",
       "      <th>Age</th>\n",
       "      <td>714.0</td>\n",
       "      <td>29.699118</td>\n",
       "      <td>14.526497</td>\n",
       "      <td>0.42</td>\n",
       "      <td>20.1250</td>\n",
       "      <td>28.0000</td>\n",
       "      <td>38.0</td>\n",
       "      <td>80.0000</td>\n",
       "    </tr>\n",
       "    <tr>\n",
       "      <th>Fare</th>\n",
       "      <td>891.0</td>\n",
       "      <td>32.204208</td>\n",
       "      <td>49.693429</td>\n",
       "      <td>0.00</td>\n",
       "      <td>7.9104</td>\n",
       "      <td>14.4542</td>\n",
       "      <td>31.0</td>\n",
       "      <td>512.3292</td>\n",
       "    </tr>\n",
       "  </tbody>\n",
       "</table>\n",
       "</div>"
      ],
      "text/plain": [
       "      count       mean        std   min      25%      50%   75%       max\n",
       "Age   714.0  29.699118  14.526497  0.42  20.1250  28.0000  38.0   80.0000\n",
       "Fare  891.0  32.204208  49.693429  0.00   7.9104  14.4542  31.0  512.3292"
      ]
     },
     "execution_count": 25,
     "metadata": {},
     "output_type": "execute_result"
    }
   ],
   "source": [
    "train_df[['Age','Fare']].describe().T"
   ]
  },
  {
   "cell_type": "code",
   "execution_count": 26,
   "metadata": {},
   "outputs": [],
   "source": [
    "def summary(dataframe,col,plot=False):\n",
    "    quantiles=[0.05,0.10,0.20,0.30,0.40,0.50,0.60,0.70,0.80,0.90,0.95,0.99]\n",
    "    print(dataframe[col].describe(quantiles).T)\n",
    "    if plot: \n",
    "        dataframe[col].hist()\n",
    "        plt.xlabel('numerical')\n",
    "        plt.ylabel('describe')\n",
    "        plt.title(col)\n",
    "        plt.show(block=True)"
   ]
  },
  {
   "cell_type": "code",
   "execution_count": 27,
   "metadata": {},
   "outputs": [
    {
     "name": "stdout",
     "output_type": "stream",
     "text": [
      "count    714.000000\n",
      "mean      29.699118\n",
      "std       14.526497\n",
      "min        0.420000\n",
      "5%         4.000000\n",
      "10%       14.000000\n",
      "20%       19.000000\n",
      "30%       22.000000\n",
      "40%       25.000000\n",
      "50%       28.000000\n",
      "60%       31.800000\n",
      "70%       36.000000\n",
      "80%       41.000000\n",
      "90%       50.000000\n",
      "95%       56.000000\n",
      "99%       65.870000\n",
      "max       80.000000\n",
      "Name: Age, dtype: float64\n"
     ]
    },
    {
     "data": {
      "image/png": "[encoded data removed]",
      "text/plain": [
       "<Figure size 1080x360 with 1 Axes>"
      ]
     },
     "metadata": {},
     "output_type": "display_data"
    },
    {
     "name": "stdout",
     "output_type": "stream",
     "text": [
      "count    891.000000\n",
      "mean      32.204208\n",
      "std       49.693429\n",
      "min        0.000000\n",
      "5%         7.225000\n",
      "10%        7.550000\n",
      "20%        7.854200\n",
      "30%        8.050000\n",
      "40%       10.500000\n",
      "50%       14.454200\n",
      "60%       21.679200\n",
      "70%       27.000000\n",
      "80%       39.687500\n",
      "90%       77.958300\n",
      "95%      112.079150\n",
      "99%      249.006220\n",
      "max      512.329200\n",
      "Name: Fare, dtype: float64\n"
     ]
    },
    {
     "data": {
      "image/png": "[encoded data removed]",
      "text/plain": [
       "<Figure size 1080x360 with 1 Axes>"
      ]
     },
     "metadata": {},
     "output_type": "display_data"
    }
   ],
   "source": [
    "for i in num_cols:\n",
    "    summary(train_df,i,plot=True)"
   ]
  },
  {
   "cell_type": "code",
   "execution_count": 28,
   "metadata": {},
   "outputs": [],
   "source": [
    "def target1(dataframe,n,col):\n",
    "    print(pd.DataFrame({\"Target_Mean\":dataframe.groupby(col)[n].mean()}))"
   ]
  },
  {
   "cell_type": "code",
   "execution_count": 29,
   "metadata": {},
   "outputs": [
    {
     "name": "stdout",
     "output_type": "stream",
     "text": [
      "          Target_Mean\n",
      "Embarked             \n",
      "C            0.553571\n",
      "Q            0.389610\n",
      "S            0.336957\n",
      "None\n",
      "        Target_Mean\n",
      "Sex                \n",
      "female     0.742038\n",
      "male       0.188908\n",
      "None\n",
      "          Target_Mean\n",
      "Survived             \n",
      "0                   0\n",
      "1                   1\n",
      "None\n",
      "        Target_Mean\n",
      "Pclass             \n",
      "1          0.629630\n",
      "2          0.472826\n",
      "3          0.242363\n",
      "None\n",
      "       Target_Mean\n",
      "SibSp             \n",
      "0         0.345395\n",
      "1         0.535885\n",
      "2         0.464286\n",
      "3         0.250000\n",
      "4         0.166667\n",
      "5         0.000000\n",
      "8         0.000000\n",
      "None\n",
      "       Target_Mean\n",
      "Parch             \n",
      "0         0.343658\n",
      "1         0.550847\n",
      "2         0.500000\n",
      "3         0.600000\n",
      "4         0.000000\n",
      "5         0.200000\n",
      "6         0.000000\n",
      "None\n"
     ]
    }
   ],
   "source": [
    "for i in cat_cols:\n",
    "    print(target1(train_df,\"Survived\",i))"
   ]
  },
  {
   "cell_type": "code",
   "execution_count": 30,
   "metadata": {},
   "outputs": [],
   "source": [
    "def target2(dataframe,n,col):\n",
    "    print(dataframe.groupby(\"Survived\").agg({col:\"mean\"}))"
   ]
  },
  {
   "cell_type": "code",
   "execution_count": 31,
   "metadata": {
    "scrolled": true
   },
   "outputs": [
    {
     "name": "stdout",
     "output_type": "stream",
     "text": [
      "                Age\n",
      "Survived           \n",
      "0         30.626179\n",
      "1         28.343690\n",
      "None\n",
      "               Fare\n",
      "Survived           \n",
      "0         22.117887\n",
      "1         48.395408\n",
      "None\n"
     ]
    }
   ],
   "source": [
    "for i in num_cols:\n",
    "    print(target2(train_df,\"Survived\",i))"
   ]
  },
  {
   "cell_type": "code",
   "execution_count": 32,
   "metadata": {},
   "outputs": [
    {
     "data": {
      "text/plain": [
       "0.3838383838383838"
      ]
     },
     "execution_count": 32,
     "metadata": {},
     "output_type": "execute_result"
    }
   ],
   "source": [
    "survival_rate = sum(train_df[\"Survived\"]) / len(train_df[\"Survived\"])\n",
    "survival_rate"
   ]
  },
  {
   "cell_type": "code",
   "execution_count": 33,
   "metadata": {},
   "outputs": [],
   "source": [
    "train_df = train_df.drop(['Ticket', 'Cabin','Name'], axis=1)\n",
    "test_df = test_df.drop(['Ticket', 'Cabin','Name'], axis=1)\n"
   ]
  },
  {
   "cell_type": "code",
   "execution_count": 34,
   "metadata": {},
   "outputs": [],
   "source": [
    "df=[train_df,test_df]"
   ]
  },
  {
   "cell_type": "code",
   "execution_count": 35,
   "metadata": {},
   "outputs": [],
   "source": [
    "for dataset in df:\n",
    "    dataset['Sex']=dataset[\"Sex\"].map({\"female\":1,\"male\":0})"
   ]
  },
  {
   "cell_type": "code",
   "execution_count": 36,
   "metadata": {},
   "outputs": [],
   "source": [
    "for i in df:\n",
    "    age_by_sex = i.groupby('Sex')['Age'].median()\n",
    "    i['Age'] = i.apply(lambda x:age_by_sex[x['Sex']] if pd.isnull(x['Age']) else x['Age'],axis=1)\n",
    "    i['Age'] = i['Age'].astype(int)"
   ]
  },
  {
   "cell_type": "code",
   "execution_count": 37,
   "metadata": {},
   "outputs": [],
   "source": [
    "for dataset in df:    \n",
    "    dataset.loc[ dataset['Age']<=15,'Age']= 0\n",
    "    dataset.loc[(dataset['Age']>15)&(dataset['Age']<=30),'Age']= 1\n",
    "    dataset.loc[(dataset['Age']>30)&(dataset['Age']<=45),'Age']= 2\n",
    "    dataset.loc[(dataset['Age']>45)&(dataset['Age']<=60),'Age']= 3\n",
    "    dataset.loc[ dataset['Age']>60,'Age']= 4"
   ]
  },
  {
   "cell_type": "code",
   "execution_count": 38,
   "metadata": {
    "scrolled": true
   },
   "outputs": [],
   "source": [
    "for i in df:\n",
    "    i.dropna(subset=[\"Embarked\"],inplace=True)"
   ]
  },
  {
   "cell_type": "code",
   "execution_count": 39,
   "metadata": {},
   "outputs": [],
   "source": [
    "test_df['Fare'].fillna(test_df['Fare'].dropna().median(), inplace=True)"
   ]
  },
  {
   "cell_type": "code",
   "execution_count": 40,
   "metadata": {},
   "outputs": [],
   "source": [
    "for i in df:\n",
    "    i['Embarked'] = i['Embarked'].map( {'S': 0, 'C': 1, 'Q': 2} ).astype(int)"
   ]
  },
  {
   "cell_type": "code",
   "execution_count": 41,
   "metadata": {},
   "outputs": [
    {
     "data": {
      "text/html": [
       "<div>\n",
       "<style scoped>\n",
       "    .dataframe tbody tr th:only-of-type {\n",
       "        vertical-align: middle;\n",
       "    }\n",
       "\n",
       "    .dataframe tbody tr th {\n",
       "        vertical-align: top;\n",
       "    }\n",
       "\n",
       "    .dataframe thead th {\n",
       "        text-align: right;\n",
       "    }\n",
       "</style>\n",
       "<table border=\"1\" class=\"dataframe\">\n",
       "  <thead>\n",
       "    <tr style=\"text-align: right;\">\n",
       "      <th></th>\n",
       "      <th>Survived</th>\n",
       "      <th>Pclass</th>\n",
       "      <th>Sex</th>\n",
       "      <th>Age</th>\n",
       "      <th>SibSp</th>\n",
       "      <th>Parch</th>\n",
       "      <th>Fare</th>\n",
       "      <th>Embarked</th>\n",
       "      <th>Fare2</th>\n",
       "    </tr>\n",
       "  </thead>\n",
       "  <tbody>\n",
       "    <tr>\n",
       "      <th>0</th>\n",
       "      <td>0</td>\n",
       "      <td>3</td>\n",
       "      <td>0</td>\n",
       "      <td>1</td>\n",
       "      <td>1</td>\n",
       "      <td>0</td>\n",
       "      <td>7.2500</td>\n",
       "      <td>0</td>\n",
       "      <td>(-0.001, 7.896]</td>\n",
       "    </tr>\n",
       "    <tr>\n",
       "      <th>1</th>\n",
       "      <td>1</td>\n",
       "      <td>1</td>\n",
       "      <td>1</td>\n",
       "      <td>2</td>\n",
       "      <td>1</td>\n",
       "      <td>0</td>\n",
       "      <td>71.2833</td>\n",
       "      <td>1</td>\n",
       "      <td>(31.0, 512.329]</td>\n",
       "    </tr>\n",
       "    <tr>\n",
       "      <th>2</th>\n",
       "      <td>1</td>\n",
       "      <td>3</td>\n",
       "      <td>1</td>\n",
       "      <td>1</td>\n",
       "      <td>0</td>\n",
       "      <td>0</td>\n",
       "      <td>7.9250</td>\n",
       "      <td>0</td>\n",
       "      <td>(7.896, 14.454]</td>\n",
       "    </tr>\n",
       "    <tr>\n",
       "      <th>3</th>\n",
       "      <td>1</td>\n",
       "      <td>1</td>\n",
       "      <td>1</td>\n",
       "      <td>2</td>\n",
       "      <td>1</td>\n",
       "      <td>0</td>\n",
       "      <td>53.1000</td>\n",
       "      <td>0</td>\n",
       "      <td>(31.0, 512.329]</td>\n",
       "    </tr>\n",
       "    <tr>\n",
       "      <th>4</th>\n",
       "      <td>0</td>\n",
       "      <td>3</td>\n",
       "      <td>0</td>\n",
       "      <td>2</td>\n",
       "      <td>0</td>\n",
       "      <td>0</td>\n",
       "      <td>8.0500</td>\n",
       "      <td>0</td>\n",
       "      <td>(7.896, 14.454]</td>\n",
       "    </tr>\n",
       "    <tr>\n",
       "      <th>...</th>\n",
       "      <td>...</td>\n",
       "      <td>...</td>\n",
       "      <td>...</td>\n",
       "      <td>...</td>\n",
       "      <td>...</td>\n",
       "      <td>...</td>\n",
       "      <td>...</td>\n",
       "      <td>...</td>\n",
       "      <td>...</td>\n",
       "    </tr>\n",
       "    <tr>\n",
       "      <th>886</th>\n",
       "      <td>0</td>\n",
       "      <td>2</td>\n",
       "      <td>0</td>\n",
       "      <td>1</td>\n",
       "      <td>0</td>\n",
       "      <td>0</td>\n",
       "      <td>13.0000</td>\n",
       "      <td>0</td>\n",
       "      <td>(7.896, 14.454]</td>\n",
       "    </tr>\n",
       "    <tr>\n",
       "      <th>887</th>\n",
       "      <td>1</td>\n",
       "      <td>1</td>\n",
       "      <td>1</td>\n",
       "      <td>1</td>\n",
       "      <td>0</td>\n",
       "      <td>0</td>\n",
       "      <td>30.0000</td>\n",
       "      <td>0</td>\n",
       "      <td>(14.454, 31.0]</td>\n",
       "    </tr>\n",
       "    <tr>\n",
       "      <th>888</th>\n",
       "      <td>0</td>\n",
       "      <td>3</td>\n",
       "      <td>1</td>\n",
       "      <td>1</td>\n",
       "      <td>1</td>\n",
       "      <td>2</td>\n",
       "      <td>23.4500</td>\n",
       "      <td>0</td>\n",
       "      <td>(14.454, 31.0]</td>\n",
       "    </tr>\n",
       "    <tr>\n",
       "      <th>889</th>\n",
       "      <td>1</td>\n",
       "      <td>1</td>\n",
       "      <td>0</td>\n",
       "      <td>1</td>\n",
       "      <td>0</td>\n",
       "      <td>0</td>\n",
       "      <td>30.0000</td>\n",
       "      <td>1</td>\n",
       "      <td>(14.454, 31.0]</td>\n",
       "    </tr>\n",
       "    <tr>\n",
       "      <th>890</th>\n",
       "      <td>0</td>\n",
       "      <td>3</td>\n",
       "      <td>0</td>\n",
       "      <td>2</td>\n",
       "      <td>0</td>\n",
       "      <td>0</td>\n",
       "      <td>7.7500</td>\n",
       "      <td>2</td>\n",
       "      <td>(-0.001, 7.896]</td>\n",
       "    </tr>\n",
       "  </tbody>\n",
       "</table>\n",
       "<p>889 rows × 9 columns</p>\n",
       "</div>"
      ],
      "text/plain": [
       "     Survived  Pclass  Sex  Age  SibSp  Parch     Fare  Embarked            Fare2\n",
       "0           0       3    0    1      1      0   7.2500         0  (-0.001, 7.896]\n",
       "1           1       1    1    2      1      0  71.2833         1  (31.0, 512.329]\n",
       "2           1       3    1    1      0      0   7.9250         0  (7.896, 14.454]\n",
       "3           1       1    1    2      1      0  53.1000         0  (31.0, 512.329]\n",
       "4           0       3    0    2      0      0   8.0500         0  (7.896, 14.454]\n",
       "..        ...     ...  ...  ...    ...    ...      ...       ...              ...\n",
       "886         0       2    0    1      0      0  13.0000         0  (7.896, 14.454]\n",
       "887         1       1    1    1      0      0  30.0000         0   (14.454, 31.0]\n",
       "888         0       3    1    1      1      2  23.4500         0   (14.454, 31.0]\n",
       "889         1       1    0    1      0      0  30.0000         1   (14.454, 31.0]\n",
       "890         0       3    0    2      0      0   7.7500         2  (-0.001, 7.896]\n",
       "\n",
       "[889 rows x 9 columns]"
      ]
     },
     "execution_count": 41,
     "metadata": {},
     "output_type": "execute_result"
    }
   ],
   "source": [
    "train_df['Fare2'] = pd.qcut(train_df['Fare'], 4)\n",
    "train_df"
   ]
  },
  {
   "cell_type": "code",
   "execution_count": 42,
   "metadata": {},
   "outputs": [],
   "source": [
    "\n",
    "for i in df:\n",
    "    i.loc[i['Fare']<=7.91,'Fare']= 0\n",
    "    i.loc[(i['Fare']>7.91)&(i['Fare']<=14.454),'Fare']= 1\n",
    "    i.loc[(i['Fare']>14.454)&(i['Fare']<=31),'Fare']= 2\n",
    "    i.loc[ i['Fare']>31,'Fare']= 3\n",
    "    i['Fare'] = i['Fare'].astype(int)\n",
    "\n",
    "train_df = train_df.drop(['Fare2'], axis=1)"
   ]
  },
  {
   "cell_type": "code",
   "execution_count": 43,
   "metadata": {},
   "outputs": [
    {
     "data": {
      "text/html": [
       "<div>\n",
       "<style scoped>\n",
       "    .dataframe tbody tr th:only-of-type {\n",
       "        vertical-align: middle;\n",
       "    }\n",
       "\n",
       "    .dataframe tbody tr th {\n",
       "        vertical-align: top;\n",
       "    }\n",
       "\n",
       "    .dataframe thead th {\n",
       "        text-align: right;\n",
       "    }\n",
       "</style>\n",
       "<table border=\"1\" class=\"dataframe\">\n",
       "  <thead>\n",
       "    <tr style=\"text-align: right;\">\n",
       "      <th></th>\n",
       "      <th>Survived</th>\n",
       "      <th>Pclass</th>\n",
       "      <th>Sex</th>\n",
       "      <th>Age</th>\n",
       "      <th>SibSp</th>\n",
       "      <th>Parch</th>\n",
       "      <th>Fare</th>\n",
       "      <th>Embarked</th>\n",
       "    </tr>\n",
       "  </thead>\n",
       "  <tbody>\n",
       "    <tr>\n",
       "      <th>0</th>\n",
       "      <td>0</td>\n",
       "      <td>3</td>\n",
       "      <td>0</td>\n",
       "      <td>1</td>\n",
       "      <td>1</td>\n",
       "      <td>0</td>\n",
       "      <td>0</td>\n",
       "      <td>0</td>\n",
       "    </tr>\n",
       "    <tr>\n",
       "      <th>1</th>\n",
       "      <td>1</td>\n",
       "      <td>1</td>\n",
       "      <td>1</td>\n",
       "      <td>2</td>\n",
       "      <td>1</td>\n",
       "      <td>0</td>\n",
       "      <td>3</td>\n",
       "      <td>1</td>\n",
       "    </tr>\n",
       "    <tr>\n",
       "      <th>2</th>\n",
       "      <td>1</td>\n",
       "      <td>3</td>\n",
       "      <td>1</td>\n",
       "      <td>1</td>\n",
       "      <td>0</td>\n",
       "      <td>0</td>\n",
       "      <td>1</td>\n",
       "      <td>0</td>\n",
       "    </tr>\n",
       "    <tr>\n",
       "      <th>3</th>\n",
       "      <td>1</td>\n",
       "      <td>1</td>\n",
       "      <td>1</td>\n",
       "      <td>2</td>\n",
       "      <td>1</td>\n",
       "      <td>0</td>\n",
       "      <td>3</td>\n",
       "      <td>0</td>\n",
       "    </tr>\n",
       "    <tr>\n",
       "      <th>4</th>\n",
       "      <td>0</td>\n",
       "      <td>3</td>\n",
       "      <td>0</td>\n",
       "      <td>2</td>\n",
       "      <td>0</td>\n",
       "      <td>0</td>\n",
       "      <td>1</td>\n",
       "      <td>0</td>\n",
       "    </tr>\n",
       "    <tr>\n",
       "      <th>...</th>\n",
       "      <td>...</td>\n",
       "      <td>...</td>\n",
       "      <td>...</td>\n",
       "      <td>...</td>\n",
       "      <td>...</td>\n",
       "      <td>...</td>\n",
       "      <td>...</td>\n",
       "      <td>...</td>\n",
       "    </tr>\n",
       "    <tr>\n",
       "      <th>886</th>\n",
       "      <td>0</td>\n",
       "      <td>2</td>\n",
       "      <td>0</td>\n",
       "      <td>1</td>\n",
       "      <td>0</td>\n",
       "      <td>0</td>\n",
       "      <td>1</td>\n",
       "      <td>0</td>\n",
       "    </tr>\n",
       "    <tr>\n",
       "      <th>887</th>\n",
       "      <td>1</td>\n",
       "      <td>1</td>\n",
       "      <td>1</td>\n",
       "      <td>1</td>\n",
       "      <td>0</td>\n",
       "      <td>0</td>\n",
       "      <td>2</td>\n",
       "      <td>0</td>\n",
       "    </tr>\n",
       "    <tr>\n",
       "      <th>888</th>\n",
       "      <td>0</td>\n",
       "      <td>3</td>\n",
       "      <td>1</td>\n",
       "      <td>1</td>\n",
       "      <td>1</td>\n",
       "      <td>2</td>\n",
       "      <td>2</td>\n",
       "      <td>0</td>\n",
       "    </tr>\n",
       "    <tr>\n",
       "      <th>889</th>\n",
       "      <td>1</td>\n",
       "      <td>1</td>\n",
       "      <td>0</td>\n",
       "      <td>1</td>\n",
       "      <td>0</td>\n",
       "      <td>0</td>\n",
       "      <td>2</td>\n",
       "      <td>1</td>\n",
       "    </tr>\n",
       "    <tr>\n",
       "      <th>890</th>\n",
       "      <td>0</td>\n",
       "      <td>3</td>\n",
       "      <td>0</td>\n",
       "      <td>2</td>\n",
       "      <td>0</td>\n",
       "      <td>0</td>\n",
       "      <td>0</td>\n",
       "      <td>2</td>\n",
       "    </tr>\n",
       "  </tbody>\n",
       "</table>\n",
       "<p>889 rows × 8 columns</p>\n",
       "</div>"
      ],
      "text/plain": [
       "     Survived  Pclass  Sex  Age  SibSp  Parch  Fare  Embarked\n",
       "0           0       3    0    1      1      0     0         0\n",
       "1           1       1    1    2      1      0     3         1\n",
       "2           1       3    1    1      0      0     1         0\n",
       "3           1       1    1    2      1      0     3         0\n",
       "4           0       3    0    2      0      0     1         0\n",
       "..        ...     ...  ...  ...    ...    ...   ...       ...\n",
       "886         0       2    0    1      0      0     1         0\n",
       "887         1       1    1    1      0      0     2         0\n",
       "888         0       3    1    1      1      2     2         0\n",
       "889         1       1    0    1      0      0     2         1\n",
       "890         0       3    0    2      0      0     0         2\n",
       "\n",
       "[889 rows x 8 columns]"
      ]
     },
     "execution_count": 43,
     "metadata": {},
     "output_type": "execute_result"
    }
   ],
   "source": [
    "train_df"
   ]
  },
  {
   "cell_type": "code",
   "execution_count": 44,
   "metadata": {
    "scrolled": true
   },
   "outputs": [
    {
     "data": {
      "text/html": [
       "<div>\n",
       "<style scoped>\n",
       "    .dataframe tbody tr th:only-of-type {\n",
       "        vertical-align: middle;\n",
       "    }\n",
       "\n",
       "    .dataframe tbody tr th {\n",
       "        vertical-align: top;\n",
       "    }\n",
       "\n",
       "    .dataframe thead th {\n",
       "        text-align: right;\n",
       "    }\n",
       "</style>\n",
       "<table border=\"1\" class=\"dataframe\">\n",
       "  <thead>\n",
       "    <tr style=\"text-align: right;\">\n",
       "      <th></th>\n",
       "      <th>PassengerId</th>\n",
       "      <th>Pclass</th>\n",
       "      <th>Sex</th>\n",
       "      <th>Age</th>\n",
       "      <th>SibSp</th>\n",
       "      <th>Parch</th>\n",
       "      <th>Fare</th>\n",
       "      <th>Embarked</th>\n",
       "    </tr>\n",
       "  </thead>\n",
       "  <tbody>\n",
       "    <tr>\n",
       "      <th>0</th>\n",
       "      <td>892</td>\n",
       "      <td>3</td>\n",
       "      <td>0</td>\n",
       "      <td>2</td>\n",
       "      <td>0</td>\n",
       "      <td>0</td>\n",
       "      <td>0</td>\n",
       "      <td>2</td>\n",
       "    </tr>\n",
       "    <tr>\n",
       "      <th>1</th>\n",
       "      <td>893</td>\n",
       "      <td>3</td>\n",
       "      <td>1</td>\n",
       "      <td>3</td>\n",
       "      <td>1</td>\n",
       "      <td>0</td>\n",
       "      <td>0</td>\n",
       "      <td>0</td>\n",
       "    </tr>\n",
       "    <tr>\n",
       "      <th>2</th>\n",
       "      <td>894</td>\n",
       "      <td>2</td>\n",
       "      <td>0</td>\n",
       "      <td>4</td>\n",
       "      <td>0</td>\n",
       "      <td>0</td>\n",
       "      <td>1</td>\n",
       "      <td>2</td>\n",
       "    </tr>\n",
       "    <tr>\n",
       "      <th>3</th>\n",
       "      <td>895</td>\n",
       "      <td>3</td>\n",
       "      <td>0</td>\n",
       "      <td>1</td>\n",
       "      <td>0</td>\n",
       "      <td>0</td>\n",
       "      <td>1</td>\n",
       "      <td>0</td>\n",
       "    </tr>\n",
       "    <tr>\n",
       "      <th>4</th>\n",
       "      <td>896</td>\n",
       "      <td>3</td>\n",
       "      <td>1</td>\n",
       "      <td>1</td>\n",
       "      <td>1</td>\n",
       "      <td>1</td>\n",
       "      <td>1</td>\n",
       "      <td>0</td>\n",
       "    </tr>\n",
       "    <tr>\n",
       "      <th>...</th>\n",
       "      <td>...</td>\n",
       "      <td>...</td>\n",
       "      <td>...</td>\n",
       "      <td>...</td>\n",
       "      <td>...</td>\n",
       "      <td>...</td>\n",
       "      <td>...</td>\n",
       "      <td>...</td>\n",
       "    </tr>\n",
       "    <tr>\n",
       "      <th>413</th>\n",
       "      <td>1305</td>\n",
       "      <td>3</td>\n",
       "      <td>0</td>\n",
       "      <td>1</td>\n",
       "      <td>0</td>\n",
       "      <td>0</td>\n",
       "      <td>1</td>\n",
       "      <td>0</td>\n",
       "    </tr>\n",
       "    <tr>\n",
       "      <th>414</th>\n",
       "      <td>1306</td>\n",
       "      <td>1</td>\n",
       "      <td>1</td>\n",
       "      <td>2</td>\n",
       "      <td>0</td>\n",
       "      <td>0</td>\n",
       "      <td>3</td>\n",
       "      <td>1</td>\n",
       "    </tr>\n",
       "    <tr>\n",
       "      <th>415</th>\n",
       "      <td>1307</td>\n",
       "      <td>3</td>\n",
       "      <td>0</td>\n",
       "      <td>2</td>\n",
       "      <td>0</td>\n",
       "      <td>0</td>\n",
       "      <td>0</td>\n",
       "      <td>0</td>\n",
       "    </tr>\n",
       "    <tr>\n",
       "      <th>416</th>\n",
       "      <td>1308</td>\n",
       "      <td>3</td>\n",
       "      <td>0</td>\n",
       "      <td>1</td>\n",
       "      <td>0</td>\n",
       "      <td>0</td>\n",
       "      <td>1</td>\n",
       "      <td>0</td>\n",
       "    </tr>\n",
       "    <tr>\n",
       "      <th>417</th>\n",
       "      <td>1309</td>\n",
       "      <td>3</td>\n",
       "      <td>0</td>\n",
       "      <td>1</td>\n",
       "      <td>1</td>\n",
       "      <td>1</td>\n",
       "      <td>2</td>\n",
       "      <td>1</td>\n",
       "    </tr>\n",
       "  </tbody>\n",
       "</table>\n",
       "<p>418 rows × 8 columns</p>\n",
       "</div>"
      ],
      "text/plain": [
       "     PassengerId  Pclass  Sex  Age  SibSp  Parch  Fare  Embarked\n",
       "0            892       3    0    2      0      0     0         2\n",
       "1            893       3    1    3      1      0     0         0\n",
       "2            894       2    0    4      0      0     1         2\n",
       "3            895       3    0    1      0      0     1         0\n",
       "4            896       3    1    1      1      1     1         0\n",
       "..           ...     ...  ...  ...    ...    ...   ...       ...\n",
       "413         1305       3    0    1      0      0     1         0\n",
       "414         1306       1    1    2      0      0     3         1\n",
       "415         1307       3    0    2      0      0     0         0\n",
       "416         1308       3    0    1      0      0     1         0\n",
       "417         1309       3    0    1      1      1     2         1\n",
       "\n",
       "[418 rows x 8 columns]"
      ]
     },
     "execution_count": 44,
     "metadata": {},
     "output_type": "execute_result"
    }
   ],
   "source": [
    "test_df"
   ]
  },
  {
   "cell_type": "code",
   "execution_count": 45,
   "metadata": {},
   "outputs": [],
   "source": [
    "from sklearn.model_selection import GridSearchCV,cross_validate\n",
    "from sklearn.linear_model import LogisticRegression\n",
    "from sklearn.tree import DecisionTreeClassifier\n",
    "from sklearn.neighbors import KNeighborsClassifier\n",
    "from sklearn.metrics import classification_report,roc_auc_score,accuracy_score,confusion_matrix\n",
    "from sklearn.ensemble import RandomForestClassifier, GradientBoostingClassifier\n",
    "from lightgbm import LGBMClassifier"
   ]
  },
  {
   "cell_type": "code",
   "execution_count": 46,
   "metadata": {},
   "outputs": [],
   "source": [
    "y_train=train_df['Survived']\n",
    "X_train=train_df.drop(['Survived'],axis=1)\n",
    "X_test=test_df.drop([\"PassengerId\"],axis=1).copy()"
   ]
  },
  {
   "cell_type": "code",
   "execution_count": 47,
   "metadata": {
    "scrolled": true
   },
   "outputs": [
    {
     "data": {
      "text/plain": [
       "array([0, 0, 0, 0, 1, 0, 1, 0, 1, 0, 0, 0, 1, 0, 1, 1, 0, 0, 1, 1, 0, 0,\n",
       "       1, 1, 1, 0, 1, 0, 0, 0, 0, 0, 0, 1, 1, 0, 1, 1, 0, 0, 0, 1, 0, 1,\n",
       "       1, 0, 0, 0, 1, 1, 1, 0, 1, 1, 0, 0, 0, 0, 0, 1, 0, 0, 0, 1, 1, 1,\n",
       "       1, 0, 0, 1, 1, 0, 1, 1, 1, 1, 0, 1, 0, 1, 0, 0, 0, 0, 0, 0, 1, 1,\n",
       "       1, 0, 1, 0, 1, 0, 1, 0, 1, 0, 1, 0, 1, 0, 0, 0, 1, 0, 0, 0, 0, 0,\n",
       "       0, 1, 1, 1, 1, 0, 0, 1, 1, 1, 1, 0, 1, 0, 0, 1, 0, 1, 0, 0, 0, 0,\n",
       "       1, 0, 0, 0, 0, 0, 1, 0, 0, 1, 0, 0, 0, 0, 1, 0, 1, 0, 1, 0, 0, 0,\n",
       "       0, 0, 1, 1, 0, 1, 1, 0, 1, 0, 0, 1, 0, 0, 1, 1, 0, 0, 0, 0, 0, 1,\n",
       "       1, 0, 1, 1, 0, 0, 1, 0, 1, 0, 1, 0, 0, 0, 0, 1, 0, 0, 0, 0, 1, 1,\n",
       "       0, 1, 1, 0, 0, 1, 0, 1, 1, 0, 1, 0, 0, 0, 0, 1, 0, 0, 1, 0, 1, 0,\n",
       "       1, 0, 1, 0, 1, 1, 0, 1, 0, 0, 1, 1, 0, 0, 0, 0, 0, 0, 1, 1, 1, 1,\n",
       "       0, 0, 0, 0, 1, 0, 1, 1, 1, 0, 1, 0, 0, 0, 0, 0, 1, 0, 0, 0, 1, 1,\n",
       "       0, 0, 0, 0, 1, 0, 0, 0, 1, 1, 0, 1, 0, 0, 0, 0, 1, 0, 1, 1, 1, 0,\n",
       "       0, 1, 0, 0, 1, 1, 0, 0, 0, 0, 1, 0, 1, 0, 0, 0, 0, 0, 1, 1, 0, 0,\n",
       "       0, 0, 0, 0, 0, 1, 1, 1, 0, 0, 0, 0, 0, 0, 0, 0, 1, 0, 1, 0, 0, 0,\n",
       "       1, 0, 0, 1, 0, 1, 0, 0, 0, 0, 0, 0, 0, 1, 0, 1, 0, 1, 0, 1, 1, 0,\n",
       "       0, 0, 1, 0, 1, 0, 0, 1, 0, 1, 1, 0, 1, 0, 0, 1, 1, 0, 0, 1, 0, 0,\n",
       "       1, 1, 0, 0, 0, 0, 0, 0, 1, 1, 0, 1, 0, 0, 0, 0, 1, 1, 0, 0, 0, 1,\n",
       "       0, 1, 0, 0, 1, 0, 1, 1, 0, 0, 0, 0, 1, 1, 1, 1, 1, 0, 1, 0, 0, 0],\n",
       "      dtype=int64)"
      ]
     },
     "execution_count": 47,
     "metadata": {},
     "output_type": "execute_result"
    }
   ],
   "source": [
    "log_model=LogisticRegression()\n",
    "log = LogisticRegression().fit(X_train,y_train)\n",
    "y_pred = log.predict(X_test)\n",
    "y_pred"
   ]
  },
  {
   "cell_type": "code",
   "execution_count": 48,
   "metadata": {
    "scrolled": true
   },
   "outputs": [
    {
     "data": {
      "text/plain": [
       "array([0.09404335, 0.26063976, 0.11598586, 0.12473127, 0.51906559,\n",
       "       0.18560019, 0.68224365, 0.21244185, 0.6288229 , 0.08204572,\n",
       "       0.09367335, 0.29690107, 0.9285157 , 0.07059991, 0.83549504,\n",
       "       0.83586591, 0.25124578, 0.11581682, 0.55418544, 0.51441038,\n",
       "       0.33229808, 0.12549741, 0.95063875, 0.62099612, 0.80816406,\n",
       "       0.04926425, 0.95493783, 0.11581682, 0.40309498, 0.10174911,\n",
       "       0.10832192, 0.22415511, 0.4468778 , 0.56370663, 0.56001335,\n",
       "       0.11581682, 0.64827272, 0.64827272, 0.12473127, 0.21316768,\n",
       "       0.08929711, 0.51922228, 0.06070526, 0.81206668, 0.89037688,\n",
       "       0.12473127, 0.46116483, 0.14237252, 0.90515605, 0.54501908,\n",
       "       0.50107115, 0.36861078, 0.70176081, 0.81664755, 0.36861078,\n",
       "       0.08313382, 0.06070526, 0.09367335, 0.11701441, 0.93850817,\n",
       "       0.09367335, 0.1728099 , 0.09367335, 0.68224365, 0.50856819,\n",
       "       0.85627772, 0.68224365, 0.36798244, 0.46116483, 0.74267067,\n",
       "       0.68224365, 0.09367335, 0.64827272, 0.57782684, 0.93850817,\n",
       "       0.54129634, 0.12473127, 0.71300179, 0.25042826, 0.68224365,\n",
       "       0.18910068, 0.19714195, 0.29690107, 0.09367335, 0.34922075,\n",
       "       0.14380004, 0.68224365, 0.64827272, 0.68224365, 0.30137558,\n",
       "       0.55418544, 0.09367335, 0.90733455, 0.12473127, 0.57782684,\n",
       "       0.09367335, 0.76052699, 0.12473127, 0.57205457, 0.08181921,\n",
       "       0.91145475, 0.23704086, 0.14237252, 0.09367335, 0.57767371,\n",
       "       0.16422078, 0.14237252, 0.14237252, 0.12473127, 0.25042826,\n",
       "       0.26743137, 0.68224365, 0.93850817, 0.68224365, 0.76052699,\n",
       "       0.14380004, 0.11581682, 0.70412709, 0.54129634, 0.80072836,\n",
       "       0.90501433, 0.10068994, 0.91145475, 0.09367335, 0.14237252,\n",
       "       0.68812652, 0.09367335, 0.64994947, 0.1728099 , 0.12473127,\n",
       "       0.08181921, 0.34860721, 0.59085096, 0.08117312, 0.06070526,\n",
       "       0.09367335, 0.11581682, 0.25042826, 0.64827272, 0.04665977,\n",
       "       0.37086965, 0.92332855, 0.16921329, 0.31537413, 0.40309498,\n",
       "       0.03632518, 0.59824159, 0.12473127, 0.51922228, 0.21244185,\n",
       "       0.95493783, 0.11581682, 0.0713471 , 0.46489502, 0.06330144,\n",
       "       0.09367335, 0.95063875, 0.57205457, 0.40309498, 0.58148234,\n",
       "       0.68224365, 0.18910068, 0.81206668, 0.09367335, 0.1728099 ,\n",
       "       0.59809071, 0.42459207, 0.08500192, 0.94653008, 0.64827272,\n",
       "       0.09367335, 0.11581682, 0.08768548, 0.11581682, 0.05336327,\n",
       "       0.90828294, 0.89147807, 0.33229808, 0.77074541, 0.81813575,\n",
       "       0.25042826, 0.40863924, 0.9285157 , 0.14237252, 0.93460903,\n",
       "       0.22363184, 0.83799908, 0.0608772 , 0.10159945, 0.1728099 ,\n",
       "       0.16267134, 0.51922228, 0.1554085 , 0.11598586, 0.43364934,\n",
       "       0.06070526, 0.69465951, 0.57205457, 0.25042826, 0.64827272,\n",
       "       0.80321889, 0.14660878, 0.33229808, 0.84800885, 0.25042826,\n",
       "       0.57782684, 0.57311925, 0.25042826, 0.91714478, 0.09367335,\n",
       "       0.10942133, 0.09367335, 0.38843482, 0.61107357, 0.1153415 ,\n",
       "       0.48216529, 0.68224365, 0.25425652, 0.84822135, 0.12473127,\n",
       "       0.78693826, 0.12473127, 0.81206668, 0.09367335, 0.87376407,\n",
       "       0.70827272, 0.09367335, 0.68224365, 0.10942133, 0.1728099 ,\n",
       "       0.50390409, 0.93318974, 0.06516514, 0.14237252, 0.44317245,\n",
       "       0.09367335, 0.23733934, 0.11581682, 0.71673823, 0.86553168,\n",
       "       0.87376407, 0.73742066, 0.40863924, 0.09367335, 0.09082478,\n",
       "       0.38574628, 0.85627772, 0.1886869 , 0.80072836, 0.68476225,\n",
       "       0.82888872, 0.12473127, 0.56001335, 0.12473127, 0.08181921,\n",
       "       0.09367335, 0.14237252, 0.12473127, 0.81206668, 0.09367335,\n",
       "       0.07652511, 0.09367335, 0.81789017, 0.63316344, 0.29746516,\n",
       "       0.09367335, 0.36227437, 0.09367335, 0.64827272, 0.12473127,\n",
       "       0.42459207, 0.14237252, 0.94273205, 0.73354356, 0.11581682,\n",
       "       0.80072836, 0.25042826, 0.16267134, 0.23704086, 0.25042826,\n",
       "       0.64827272, 0.11773952, 0.68224365, 0.75100144, 0.70412709,\n",
       "       0.06070526, 0.09367335, 0.50107115, 0.11581682, 0.12473127,\n",
       "       0.59824159, 0.68224365, 0.11581682, 0.25425652, 0.08181921,\n",
       "       0.09367335, 0.89434571, 0.10174911, 0.59824159, 0.09367335,\n",
       "       0.06070526, 0.36861078, 0.20005949, 0.12473127, 0.68224365,\n",
       "       0.66664669, 0.43086833, 0.1651837 , 0.25425652, 0.43735183,\n",
       "       0.12473127, 0.11581682, 0.09367335, 0.57311925, 0.90515605,\n",
       "       0.68224365, 0.33229808, 0.25042826, 0.09367335, 0.22415511,\n",
       "       0.09367335, 0.11581682, 0.25042826, 0.40309498, 0.92332855,\n",
       "       0.09367335, 0.83840747, 0.42459207, 0.23704086, 0.25042826,\n",
       "       0.70771437, 0.46116483, 0.11581682, 0.65349727, 0.09367335,\n",
       "       0.51922228, 0.1728099 , 0.05815323, 0.38843482, 0.11581682,\n",
       "       0.25042826, 0.06070526, 0.04873165, 0.89231198, 0.1031866 ,\n",
       "       0.57205457, 0.25042826, 0.51441038, 0.25042826, 0.78838185,\n",
       "       0.92983062, 0.25042826, 0.38843482, 0.11210925, 0.67386797,\n",
       "       0.29690107, 0.77403284, 0.09367335, 0.14237252, 0.63153624,\n",
       "       0.01379049, 0.85908418, 0.78838185, 0.12473127, 0.94273205,\n",
       "       0.39851828, 0.14380004, 0.77797229, 0.92983062, 0.29746516,\n",
       "       0.18389342, 0.93850817, 0.18175057, 0.1728099 , 0.81514387,\n",
       "       0.93850817, 0.45604803, 0.25042826, 0.36798244, 0.06330144,\n",
       "       0.14237252, 0.14237252, 0.71761707, 0.63153624, 0.25042826,\n",
       "       0.8068196 , 0.09367335, 0.11554054, 0.14237252, 0.07723555,\n",
       "       0.59824159, 0.86734049, 0.19150915, 0.11554054, 0.04973524,\n",
       "       0.9285157 , 0.14237252, 0.84822135, 0.09367335, 0.09404335,\n",
       "       0.95063875, 0.16267134, 0.95493783, 0.59824159, 0.36597734,\n",
       "       0.29746516, 0.18389342, 0.30172303, 0.68224365, 0.63316344,\n",
       "       0.68224365, 0.92880391, 0.57205457, 0.12473127, 0.93850817,\n",
       "       0.06070526, 0.12473127, 0.12726314])"
      ]
     },
     "execution_count": 48,
     "metadata": {},
     "output_type": "execute_result"
    }
   ],
   "source": [
    "y_prob=log.predict_proba(X_test)[:,1]\n",
    "y_prob"
   ]
  },
  {
   "cell_type": "code",
   "execution_count": 49,
   "metadata": {},
   "outputs": [],
   "source": [
    "cv_results=cross_validate(log_model,X_train,y_train,cv=5, scoring=[\"accuracy\",\"f1\",\"roc_auc\"])"
   ]
  },
  {
   "cell_type": "code",
   "execution_count": 50,
   "metadata": {},
   "outputs": [
    {
     "data": {
      "text/plain": [
       "0.7840665270107282"
      ]
     },
     "execution_count": 50,
     "metadata": {},
     "output_type": "execute_result"
    }
   ],
   "source": [
    "cv_results[\"test_accuracy\"].mean()"
   ]
  },
  {
   "cell_type": "code",
   "execution_count": 51,
   "metadata": {},
   "outputs": [
    {
     "data": {
      "text/plain": [
       "0.7103496761272629"
      ]
     },
     "execution_count": 51,
     "metadata": {},
     "output_type": "execute_result"
    }
   ],
   "source": [
    "cv_results[\"test_f1\"].mean()"
   ]
  },
  {
   "cell_type": "code",
   "execution_count": 52,
   "metadata": {},
   "outputs": [
    {
     "data": {
      "text/plain": [
       "0.8472605848010597"
      ]
     },
     "execution_count": 52,
     "metadata": {},
     "output_type": "execute_result"
    }
   ],
   "source": [
    "cv_results[\"test_roc_auc\"].mean()"
   ]
  },
  {
   "cell_type": "code",
   "execution_count": 53,
   "metadata": {},
   "outputs": [
    {
     "data": {
      "text/plain": [
       "{'C': 1.0,\n",
       " 'class_weight': None,\n",
       " 'dual': False,\n",
       " 'fit_intercept': True,\n",
       " 'intercept_scaling': 1,\n",
       " 'l1_ratio': None,\n",
       " 'max_iter': 100,\n",
       " 'multi_class': 'auto',\n",
       " 'n_jobs': None,\n",
       " 'penalty': 'l2',\n",
       " 'random_state': None,\n",
       " 'solver': 'lbfgs',\n",
       " 'tol': 0.0001,\n",
       " 'verbose': 0,\n",
       " 'warm_start': False}"
      ]
     },
     "execution_count": 53,
     "metadata": {},
     "output_type": "execute_result"
    }
   ],
   "source": [
    "log_model.get_params()"
   ]
  },
  {
   "cell_type": "code",
   "execution_count": 54,
   "metadata": {},
   "outputs": [],
   "source": [
    "log_params={'C': [0.1, 1, 10], 'penalty': ['l1', 'l2', 'elasticnet'], 'solver': ['liblinear', 'saga','lbfgs']}"
   ]
  },
  {
   "cell_type": "code",
   "execution_count": 55,
   "metadata": {
    "scrolled": true
   },
   "outputs": [
    {
     "name": "stdout",
     "output_type": "stream",
     "text": [
      "Fitting 5 folds for each of 27 candidates, totalling 135 fits\n"
     ]
    },
    {
     "name": "stderr",
     "output_type": "stream",
     "text": [
      "C:\\Users\\user\\anaconda3\\lib\\site-packages\\sklearn\\model_selection\\_validation.py:378: FitFailedWarning: \n",
      "60 fits failed out of a total of 135.\n",
      "The score on these train-test partitions for these parameters will be set to nan.\n",
      "If these failures are not expected, you can try to debug them by setting error_score='raise'.\n",
      "\n",
      "Below are more details about the failures:\n",
      "--------------------------------------------------------------------------------\n",
      "15 fits failed with the following error:\n",
      "Traceback (most recent call last):\n",
      "  File \"C:\\Users\\user\\anaconda3\\lib\\site-packages\\sklearn\\model_selection\\_validation.py\", line 686, in _fit_and_score\n",
      "    estimator.fit(X_train, y_train, **fit_params)\n",
      "  File \"C:\\Users\\user\\anaconda3\\lib\\site-packages\\sklearn\\linear_model\\_logistic.py\", line 1162, in fit\n",
      "    solver = _check_solver(self.solver, self.penalty, self.dual)\n",
      "  File \"C:\\Users\\user\\anaconda3\\lib\\site-packages\\sklearn\\linear_model\\_logistic.py\", line 54, in _check_solver\n",
      "    raise ValueError(\n",
      "ValueError: Solver lbfgs supports only 'l2' or 'none' penalties, got l1 penalty.\n",
      "\n",
      "--------------------------------------------------------------------------------\n",
      "15 fits failed with the following error:\n",
      "Traceback (most recent call last):\n",
      "  File \"C:\\Users\\user\\anaconda3\\lib\\site-packages\\sklearn\\model_selection\\_validation.py\", line 686, in _fit_and_score\n",
      "    estimator.fit(X_train, y_train, **fit_params)\n",
      "  File \"C:\\Users\\user\\anaconda3\\lib\\site-packages\\sklearn\\linear_model\\_logistic.py\", line 1162, in fit\n",
      "    solver = _check_solver(self.solver, self.penalty, self.dual)\n",
      "  File \"C:\\Users\\user\\anaconda3\\lib\\site-packages\\sklearn\\linear_model\\_logistic.py\", line 64, in _check_solver\n",
      "    raise ValueError(\n",
      "ValueError: Only 'saga' solver supports elasticnet penalty, got solver=liblinear.\n",
      "\n",
      "--------------------------------------------------------------------------------\n",
      "15 fits failed with the following error:\n",
      "Traceback (most recent call last):\n",
      "  File \"C:\\Users\\user\\anaconda3\\lib\\site-packages\\sklearn\\model_selection\\_validation.py\", line 686, in _fit_and_score\n",
      "    estimator.fit(X_train, y_train, **fit_params)\n",
      "  File \"C:\\Users\\user\\anaconda3\\lib\\site-packages\\sklearn\\linear_model\\_logistic.py\", line 1291, in fit\n",
      "    fold_coefs_ = Parallel(n_jobs=self.n_jobs, verbose=self.verbose, prefer=prefer)(\n",
      "  File \"C:\\Users\\user\\anaconda3\\lib\\site-packages\\sklearn\\utils\\parallel.py\", line 63, in __call__\n",
      "    return super().__call__(iterable_with_config)\n",
      "  File \"C:\\Users\\user\\anaconda3\\lib\\site-packages\\joblib\\parallel.py\", line 1085, in __call__\n",
      "    if self.dispatch_one_batch(iterator):\n",
      "  File \"C:\\Users\\user\\anaconda3\\lib\\site-packages\\joblib\\parallel.py\", line 901, in dispatch_one_batch\n",
      "    self._dispatch(tasks)\n",
      "  File \"C:\\Users\\user\\anaconda3\\lib\\site-packages\\joblib\\parallel.py\", line 819, in _dispatch\n",
      "    job = self._backend.apply_async(batch, callback=cb)\n",
      "  File \"C:\\Users\\user\\anaconda3\\lib\\site-packages\\joblib\\_parallel_backends.py\", line 208, in apply_async\n",
      "    result = ImmediateResult(func)\n",
      "  File \"C:\\Users\\user\\anaconda3\\lib\\site-packages\\joblib\\_parallel_backends.py\", line 597, in __init__\n",
      "    self.results = batch()\n",
      "  File \"C:\\Users\\user\\anaconda3\\lib\\site-packages\\joblib\\parallel.py\", line 288, in __call__\n",
      "    return [func(*args, **kwargs)\n",
      "  File \"C:\\Users\\user\\anaconda3\\lib\\site-packages\\joblib\\parallel.py\", line 288, in <listcomp>\n",
      "    return [func(*args, **kwargs)\n",
      "  File \"C:\\Users\\user\\anaconda3\\lib\\site-packages\\sklearn\\utils\\parallel.py\", line 123, in __call__\n",
      "    return self.function(*args, **kwargs)\n",
      "  File \"C:\\Users\\user\\anaconda3\\lib\\site-packages\\sklearn\\linear_model\\_logistic.py\", line 521, in _logistic_regression_path\n",
      "    alpha = (1.0 / C) * (1 - l1_ratio)\n",
      "TypeError: unsupported operand type(s) for -: 'int' and 'NoneType'\n",
      "\n",
      "--------------------------------------------------------------------------------\n",
      "15 fits failed with the following error:\n",
      "Traceback (most recent call last):\n",
      "  File \"C:\\Users\\user\\anaconda3\\lib\\site-packages\\sklearn\\model_selection\\_validation.py\", line 686, in _fit_and_score\n",
      "    estimator.fit(X_train, y_train, **fit_params)\n",
      "  File \"C:\\Users\\user\\anaconda3\\lib\\site-packages\\sklearn\\linear_model\\_logistic.py\", line 1162, in fit\n",
      "    solver = _check_solver(self.solver, self.penalty, self.dual)\n",
      "  File \"C:\\Users\\user\\anaconda3\\lib\\site-packages\\sklearn\\linear_model\\_logistic.py\", line 54, in _check_solver\n",
      "    raise ValueError(\n",
      "ValueError: Solver lbfgs supports only 'l2' or 'none' penalties, got elasticnet penalty.\n",
      "\n",
      "  warnings.warn(some_fits_failed_message, FitFailedWarning)\n",
      "C:\\Users\\user\\anaconda3\\lib\\site-packages\\sklearn\\model_selection\\_search.py:952: UserWarning: One or more of the test scores are non-finite: [0.78516473 0.77729956        nan 0.78405383 0.78855456 0.78855456\n",
      "        nan        nan        nan 0.78068939 0.78406653        nan\n",
      " 0.78181299 0.78293658 0.78406653        nan        nan        nan\n",
      " 0.78406653 0.78406653        nan 0.78406653 0.78406653 0.78406653\n",
      "        nan        nan        nan]\n",
      "  warnings.warn(\n"
     ]
    }
   ],
   "source": [
    "log_gs_best=GridSearchCV(log_model,log_params,cv=5,n_jobs=1,verbose=1).fit(X_train,y_train)"
   ]
  },
  {
   "cell_type": "code",
   "execution_count": 56,
   "metadata": {
    "scrolled": true
   },
   "outputs": [],
   "source": [
    "best_model=log_gs_best.best_estimator_"
   ]
  },
  {
   "cell_type": "code",
   "execution_count": 57,
   "metadata": {},
   "outputs": [
    {
     "data": {
      "text/plain": [
       "{'C': 0.1, 'penalty': 'l2', 'solver': 'saga'}"
      ]
     },
     "execution_count": 57,
     "metadata": {},
     "output_type": "execute_result"
    }
   ],
   "source": [
    "log_gs_best.best_params_"
   ]
  },
  {
   "cell_type": "code",
   "execution_count": 58,
   "metadata": {},
   "outputs": [],
   "source": [
    "log_final=log_model.set_params(**log_gs_best.best_params_).fit(X_train,y_train)"
   ]
  },
  {
   "cell_type": "code",
   "execution_count": null,
   "metadata": {},
   "outputs": [],
   "source": []
  },
  {
   "cell_type": "code",
   "execution_count": 59,
   "metadata": {},
   "outputs": [],
   "source": [
    "cv_results=cross_validate(log_final,X_train,y_train,cv=5,scoring=['accuracy',\"f1\",\"roc_auc\"])"
   ]
  },
  {
   "cell_type": "code",
   "execution_count": 60,
   "metadata": {},
   "outputs": [
    {
     "data": {
      "text/plain": [
       "0.7885545610359932"
      ]
     },
     "execution_count": 60,
     "metadata": {},
     "output_type": "execute_result"
    }
   ],
   "source": [
    "cv_results[\"test_accuracy\"].mean()"
   ]
  },
  {
   "cell_type": "code",
   "execution_count": 61,
   "metadata": {},
   "outputs": [
    {
     "data": {
      "text/plain": [
       "0.7075214404169629"
      ]
     },
     "execution_count": 61,
     "metadata": {},
     "output_type": "execute_result"
    }
   ],
   "source": [
    "cv_results[\"test_f1\"].mean()"
   ]
  },
  {
   "cell_type": "code",
   "execution_count": 62,
   "metadata": {},
   "outputs": [
    {
     "data": {
      "text/plain": [
       "0.8446763234067605"
      ]
     },
     "execution_count": 62,
     "metadata": {},
     "output_type": "execute_result"
    }
   ],
   "source": [
    "cv_results[\"test_roc_auc\"].mean()"
   ]
  },
  {
   "cell_type": "code",
   "execution_count": 63,
   "metadata": {},
   "outputs": [
    {
     "name": "stdout",
     "output_type": "stream",
     "text": [
      "              precision    recall  f1-score   support\n",
      "\n",
      "           0       0.82      0.87      0.84       549\n",
      "           1       0.76      0.69      0.72       340\n",
      "\n",
      "    accuracy                           0.80       889\n",
      "   macro avg       0.79      0.78      0.78       889\n",
      "weighted avg       0.80      0.80      0.80       889\n",
      "\n"
     ]
    }
   ],
   "source": [
    "print(classification_report(y_train, best_model.predict(X_train)))"
   ]
  },
  {
   "cell_type": "code",
   "execution_count": 64,
   "metadata": {},
   "outputs": [
    {
     "name": "stdout",
     "output_type": "stream",
     "text": [
      "0.8550332154719811\n"
     ]
    }
   ],
   "source": [
    "print(roc_auc_score(y_train, best_model.predict_proba(X_train)[:,1]))"
   ]
  },
  {
   "cell_type": "code",
   "execution_count": 65,
   "metadata": {},
   "outputs": [
    {
     "data": {
      "text/plain": [
       "array([0, 0, 0, 0, 0, 0, 1, 0, 1, 0, 0, 0, 1, 0, 1, 1, 0, 0, 0, 0, 1, 0,\n",
       "       1, 0, 1, 0, 1, 0, 1, 0, 0, 0, 1, 0, 0, 0, 0, 0, 0, 1, 1, 0, 0, 1,\n",
       "       1, 0, 1, 0, 1, 0, 0, 0, 1, 1, 0, 0, 0, 0, 0, 1, 0, 0, 0, 1, 1, 1,\n",
       "       1, 0, 1, 1, 1, 0, 0, 0, 1, 0, 0, 1, 0, 1, 1, 0, 0, 0, 1, 0, 1, 0,\n",
       "       1, 1, 0, 0, 0, 0, 0, 0, 1, 0, 1, 0, 1, 0, 0, 0, 1, 0, 0, 0, 0, 0,\n",
       "       0, 1, 1, 1, 1, 0, 0, 1, 0, 1, 1, 0, 1, 0, 0, 1, 0, 1, 0, 0, 0, 0,\n",
       "       0, 0, 0, 0, 0, 0, 0, 0, 0, 1, 0, 0, 1, 0, 0, 0, 0, 0, 1, 0, 0, 0,\n",
       "       0, 0, 1, 1, 1, 1, 1, 1, 1, 0, 0, 0, 0, 0, 1, 0, 0, 0, 1, 0, 0, 0,\n",
       "       1, 1, 1, 1, 0, 0, 1, 0, 1, 0, 1, 0, 0, 0, 0, 0, 1, 0, 1, 0, 1, 1,\n",
       "       0, 0, 1, 1, 1, 1, 0, 0, 0, 0, 1, 0, 0, 0, 0, 1, 1, 0, 1, 0, 1, 0,\n",
       "       1, 0, 1, 0, 0, 1, 0, 1, 0, 0, 0, 1, 0, 0, 0, 0, 0, 0, 1, 1, 0, 1,\n",
       "       0, 0, 0, 0, 1, 0, 1, 0, 1, 0, 0, 0, 0, 0, 0, 0, 1, 0, 0, 0, 1, 1,\n",
       "       1, 0, 0, 0, 0, 0, 0, 0, 1, 1, 0, 1, 0, 0, 0, 0, 0, 1, 1, 0, 1, 0,\n",
       "       0, 0, 0, 0, 0, 1, 0, 0, 0, 0, 1, 0, 0, 0, 0, 0, 0, 0, 1, 1, 1, 1,\n",
       "       0, 0, 0, 0, 0, 0, 1, 1, 1, 0, 0, 0, 0, 0, 0, 1, 1, 0, 1, 0, 0, 0,\n",
       "       1, 1, 0, 1, 0, 0, 0, 0, 0, 0, 0, 0, 0, 1, 0, 1, 0, 0, 0, 1, 1, 0,\n",
       "       0, 0, 1, 0, 1, 0, 0, 1, 0, 1, 1, 0, 1, 0, 0, 1, 1, 1, 0, 1, 0, 0,\n",
       "       1, 1, 1, 0, 0, 0, 0, 0, 1, 1, 0, 1, 0, 0, 0, 0, 0, 1, 1, 0, 0, 1,\n",
       "       0, 1, 0, 0, 1, 0, 1, 0, 1, 1, 0, 0, 1, 1, 1, 1, 1, 0, 1, 0, 0, 1],\n",
       "      dtype=int64)"
      ]
     },
     "execution_count": 65,
     "metadata": {},
     "output_type": "execute_result"
    }
   ],
   "source": [
    "tree_model=DecisionTreeClassifier()\n",
    "tree = DecisionTreeClassifier().fit(X_train, y_train)\n",
    "y_pred = tree.predict(X_test)\n",
    "y_pred"
   ]
  },
  {
   "cell_type": "code",
   "execution_count": 66,
   "metadata": {},
   "outputs": [
    {
     "data": {
      "text/plain": [
       "array([0.        , 0.        , 0.        , 0.11864407, 0.        ,\n",
       "       0.        , 0.7826087 , 0.        , 1.        , 0.        ,\n",
       "       0.07894737, 0.42857143, 1.        , 0.        , 1.        ,\n",
       "       1.        , 0.        , 0.17391304, 0.        , 0.        ,\n",
       "       0.75      , 0.        , 1.        , 0.5       , 1.        ,\n",
       "       0.        , 1.        , 0.17391304, 0.75      , 0.        ,\n",
       "       0.        , 0.        , 1.        , 0.        , 0.5       ,\n",
       "       0.17391304, 0.33333333, 0.33333333, 0.11864407, 0.6       ,\n",
       "       1.        , 0.5       , 0.05263158, 0.9       , 1.        ,\n",
       "       0.11864407, 0.75      , 0.0952381 , 1.        , 0.        ,\n",
       "       0.33333333, 0.        , 1.        , 1.        , 0.        ,\n",
       "       0.        , 0.05263158, 0.07894737, 0.        , 1.        ,\n",
       "       0.07894737, 0.21428571, 0.07894737, 0.7826087 , 1.        ,\n",
       "       1.        , 0.7826087 , 0.        , 0.75      , 1.        ,\n",
       "       0.7826087 , 0.07894737, 0.33333333, 0.33333333, 1.        ,\n",
       "       0.5       , 0.11864407, 1.        , 0.07142857, 0.7826087 ,\n",
       "       1.        , 0.        , 0.42857143, 0.07894737, 1.        ,\n",
       "       0.        , 0.7826087 , 0.33333333, 0.7826087 , 1.        ,\n",
       "       0.        , 0.07894737, 0.        , 0.11864407, 0.33333333,\n",
       "       0.07894737, 1.        , 0.11864407, 0.63636364, 0.28571429,\n",
       "       1.        , 0.        , 0.0952381 , 0.07894737, 1.        ,\n",
       "       0.        , 0.0952381 , 0.0952381 , 0.11864407, 0.07142857,\n",
       "       0.        , 0.7826087 , 1.        , 0.7826087 , 1.        ,\n",
       "       0.        , 0.17391304, 1.        , 0.5       , 0.83333333,\n",
       "       1.        , 0.        , 1.        , 0.07894737, 0.0952381 ,\n",
       "       1.        , 0.07894737, 1.        , 0.21428571, 0.11864407,\n",
       "       0.28571429, 0.        , 0.        , 0.        , 0.05263158,\n",
       "       0.07894737, 0.17391304, 0.07142857, 0.33333333, 0.        ,\n",
       "       0.2       , 1.        , 0.        , 0.        , 0.75      ,\n",
       "       0.        , 0.25      , 0.11864407, 0.5       , 0.        ,\n",
       "       1.        , 0.17391304, 0.        , 0.        , 0.33333333,\n",
       "       0.07894737, 1.        , 0.63636364, 0.75      , 1.        ,\n",
       "       0.7826087 , 1.        , 0.9       , 0.07894737, 0.21428571,\n",
       "       0.        , 0.5       , 0.        , 1.        , 0.33333333,\n",
       "       0.07894737, 0.17391304, 1.        , 0.17391304, 0.        ,\n",
       "       0.5       , 1.        , 0.75      , 1.        , 1.        ,\n",
       "       0.07142857, 0.5       , 1.        , 0.0952381 , 1.        ,\n",
       "       0.        , 1.        , 0.        , 0.        , 0.21428571,\n",
       "       0.14285714, 0.5       , 1.        , 0.        , 1.        ,\n",
       "       0.05263158, 1.        , 0.63636364, 0.07142857, 0.33333333,\n",
       "       1.        , 1.        , 0.75      , 1.        , 0.07142857,\n",
       "       0.33333333, 0.        , 0.07142857, 1.        , 0.07894737,\n",
       "       0.        , 0.07894737, 0.        , 1.        , 1.        ,\n",
       "       0.        , 0.7826087 , 0.        , 1.        , 0.11864407,\n",
       "       1.        , 0.11864407, 0.9       , 0.07894737, 0.        ,\n",
       "       0.66666667, 0.07894737, 0.7826087 , 0.        , 0.21428571,\n",
       "       0.        , 1.        , 0.14285714, 0.0952381 , 0.5       ,\n",
       "       0.07894737, 0.        , 0.17391304, 0.66666667, 1.        ,\n",
       "       0.        , 1.        , 0.5       , 0.07894737, 0.        ,\n",
       "       0.375     , 1.        , 0.        , 0.83333333, 0.        ,\n",
       "       1.        , 0.11864407, 0.5       , 0.11864407, 0.28571429,\n",
       "       0.07894737, 0.0952381 , 0.11864407, 0.9       , 0.07894737,\n",
       "       0.        , 0.07894737, 1.        , 1.        , 1.        ,\n",
       "       0.07894737, 0.        , 0.07894737, 0.33333333, 0.11864407,\n",
       "       0.5       , 0.0952381 , 1.        , 1.        , 0.17391304,\n",
       "       0.83333333, 0.07142857, 0.14285714, 0.        , 0.07142857,\n",
       "       0.33333333, 1.        , 0.7826087 , 0.        , 1.        ,\n",
       "       0.05263158, 0.07894737, 0.33333333, 0.17391304, 0.11864407,\n",
       "       0.25      , 0.7826087 , 0.17391304, 0.        , 0.28571429,\n",
       "       0.07894737, 1.        , 0.        , 0.25      , 0.07894737,\n",
       "       0.05263158, 0.        , 0.        , 0.11864407, 0.7826087 ,\n",
       "       1.        , 1.        , 1.        , 0.        , 0.        ,\n",
       "       0.11864407, 0.17391304, 0.07894737, 0.        , 1.        ,\n",
       "       0.7826087 , 0.75      , 0.07142857, 0.07894737, 0.        ,\n",
       "       0.07894737, 0.17391304, 0.07142857, 0.75      , 1.        ,\n",
       "       0.07894737, 1.        , 0.5       , 0.        , 0.07142857,\n",
       "       1.        , 0.75      , 0.17391304, 1.        , 0.07894737,\n",
       "       0.5       , 0.21428571, 0.        , 0.        , 0.17391304,\n",
       "       0.07142857, 0.05263158, 0.        , 1.        , 0.        ,\n",
       "       0.63636364, 0.07142857, 0.        , 0.07142857, 1.        ,\n",
       "       1.        , 0.07142857, 0.        , 0.        , 1.        ,\n",
       "       0.42857143, 1.        , 0.07894737, 0.0952381 , 0.6       ,\n",
       "       0.        , 1.        , 1.        , 0.11864407, 1.        ,\n",
       "       0.        , 0.        , 0.6       , 1.        , 1.        ,\n",
       "       0.        , 1.        , 0.        , 0.21428571, 1.        ,\n",
       "       1.        , 1.        , 0.07142857, 0.        , 0.33333333,\n",
       "       0.0952381 , 0.0952381 , 0.6       , 0.6       , 0.07142857,\n",
       "       1.        , 0.07894737, 0.        , 0.0952381 , 0.        ,\n",
       "       0.25      , 1.        , 1.        , 0.        , 0.        ,\n",
       "       1.        , 0.0952381 , 1.        , 0.07894737, 0.        ,\n",
       "       1.        , 0.14285714, 1.        , 0.25      , 0.75      ,\n",
       "       1.        , 0.        , 0.5       , 0.7826087 , 1.        ,\n",
       "       0.7826087 , 1.        , 0.63636364, 0.11864407, 1.        ,\n",
       "       0.05263158, 0.11864407, 1.        ])"
      ]
     },
     "execution_count": 66,
     "metadata": {},
     "output_type": "execute_result"
    }
   ],
   "source": [
    "y_prob=tree.predict_proba(X_test)[:,1]\n",
    "y_prob"
   ]
  },
  {
   "cell_type": "code",
   "execution_count": 67,
   "metadata": {},
   "outputs": [],
   "source": [
    "cv_results=cross_validate(tree_model,X_train,y_train,cv=5, scoring=[\"accuracy\",\"f1\",\"roc_auc\"])"
   ]
  },
  {
   "cell_type": "code",
   "execution_count": 68,
   "metadata": {},
   "outputs": [
    {
     "data": {
      "text/plain": [
       "0.7953215260585285"
      ]
     },
     "execution_count": 68,
     "metadata": {},
     "output_type": "execute_result"
    }
   ],
   "source": [
    "cv_results[\"test_accuracy\"].mean()"
   ]
  },
  {
   "cell_type": "code",
   "execution_count": 69,
   "metadata": {},
   "outputs": [
    {
     "data": {
      "text/plain": [
       "0.7152362562935173"
      ]
     },
     "execution_count": 69,
     "metadata": {},
     "output_type": "execute_result"
    }
   ],
   "source": [
    "cv_results[\"test_f1\"].mean()"
   ]
  },
  {
   "cell_type": "code",
   "execution_count": 70,
   "metadata": {},
   "outputs": [
    {
     "data": {
      "text/plain": [
       "0.7898967276652111"
      ]
     },
     "execution_count": 70,
     "metadata": {},
     "output_type": "execute_result"
    }
   ],
   "source": [
    "cv_results[\"test_roc_auc\"].mean()"
   ]
  },
  {
   "cell_type": "code",
   "execution_count": 71,
   "metadata": {},
   "outputs": [
    {
     "data": {
      "text/plain": [
       "{'ccp_alpha': 0.0,\n",
       " 'class_weight': None,\n",
       " 'criterion': 'gini',\n",
       " 'max_depth': None,\n",
       " 'max_features': None,\n",
       " 'max_leaf_nodes': None,\n",
       " 'min_impurity_decrease': 0.0,\n",
       " 'min_samples_leaf': 1,\n",
       " 'min_samples_split': 2,\n",
       " 'min_weight_fraction_leaf': 0.0,\n",
       " 'random_state': None,\n",
       " 'splitter': 'best'}"
      ]
     },
     "execution_count": 71,
     "metadata": {},
     "output_type": "execute_result"
    }
   ],
   "source": [
    "tree_model.get_params()"
   ]
  },
  {
   "cell_type": "code",
   "execution_count": 72,
   "metadata": {},
   "outputs": [],
   "source": [
    "tree_params={\"min_samples_leaf\":range(2,50),\"min_samples_split\":range(1,6),\"random_state\":[None,10,15,20,25,30,35,40]}"
   ]
  },
  {
   "cell_type": "code",
   "execution_count": 73,
   "metadata": {},
   "outputs": [
    {
     "name": "stdout",
     "output_type": "stream",
     "text": [
      "Fitting 5 folds for each of 1920 candidates, totalling 9600 fits\n"
     ]
    }
   ],
   "source": [
    "tree_gs_best=GridSearchCV(tree_model,tree_params,cv=5,n_jobs=1,verbose=1).fit(X_train,y_train)"
   ]
  },
  {
   "cell_type": "code",
   "execution_count": 74,
   "metadata": {},
   "outputs": [],
   "source": [
    "best_model=tree_gs_best.best_estimator_"
   ]
  },
  {
   "cell_type": "code",
   "execution_count": 75,
   "metadata": {},
   "outputs": [
    {
     "data": {
      "text/plain": [
       "{'min_samples_leaf': 2, 'min_samples_split': 5, 'random_state': 30}"
      ]
     },
     "execution_count": 75,
     "metadata": {},
     "output_type": "execute_result"
    }
   ],
   "source": [
    "tree_gs_best.best_params_"
   ]
  },
  {
   "cell_type": "code",
   "execution_count": 76,
   "metadata": {},
   "outputs": [],
   "source": [
    "tree_final=tree_model.set_params(**tree_gs_best.best_params_).fit(X_train,y_train)"
   ]
  },
  {
   "cell_type": "code",
   "execution_count": 77,
   "metadata": {},
   "outputs": [],
   "source": [
    "cv_results=cross_validate(tree_final,X_train,y_train,cv=5,scoring=['accuracy',\"f1\",\"roc_auc\"])"
   ]
  },
  {
   "cell_type": "code",
   "execution_count": 78,
   "metadata": {},
   "outputs": [
    {
     "data": {
      "text/plain": [
       "0.8133244461372436"
      ]
     },
     "execution_count": 78,
     "metadata": {},
     "output_type": "execute_result"
    }
   ],
   "source": [
    "cv_results[\"test_accuracy\"].mean()"
   ]
  },
  {
   "cell_type": "code",
   "execution_count": 79,
   "metadata": {},
   "outputs": [
    {
     "data": {
      "text/plain": [
       "0.7283762802655686"
      ]
     },
     "execution_count": 79,
     "metadata": {},
     "output_type": "execute_result"
    }
   ],
   "source": [
    "cv_results[\"test_f1\"].mean()"
   ]
  },
  {
   "cell_type": "code",
   "execution_count": 80,
   "metadata": {},
   "outputs": [
    {
     "data": {
      "text/plain": [
       "0.8487808467840846"
      ]
     },
     "execution_count": 80,
     "metadata": {},
     "output_type": "execute_result"
    }
   ],
   "source": [
    "cv_results[\"test_roc_auc\"].mean()"
   ]
  },
  {
   "cell_type": "code",
   "execution_count": 81,
   "metadata": {},
   "outputs": [
    {
     "name": "stdout",
     "output_type": "stream",
     "text": [
      "              precision    recall  f1-score   support\n",
      "\n",
      "           0       0.86      0.94      0.90       549\n",
      "           1       0.89      0.76      0.82       340\n",
      "\n",
      "    accuracy                           0.87       889\n",
      "   macro avg       0.87      0.85      0.86       889\n",
      "weighted avg       0.87      0.87      0.87       889\n",
      "\n"
     ]
    }
   ],
   "source": [
    "print(classification_report(y_train, best_model.predict(X_train)))"
   ]
  },
  {
   "cell_type": "code",
   "execution_count": 82,
   "metadata": {
    "scrolled": true
   },
   "outputs": [],
   "source": [
    "#print(roc_auc_score(y_train, best_model.predict_proba(X_train)[:,1]))"
   ]
  },
  {
   "cell_type": "code",
   "execution_count": 83,
   "metadata": {},
   "outputs": [
    {
     "data": {
      "text/plain": [
       "array([0, 0, 0, 0, 1, 0, 1, 0, 1, 0, 0, 0, 1, 0, 1, 1, 0, 0, 0, 0, 1, 0,\n",
       "       1, 0, 1, 0, 1, 0, 1, 0, 0, 0, 1, 0, 1, 0, 1, 1, 0, 1, 0, 0, 0, 1,\n",
       "       1, 0, 1, 0, 1, 1, 0, 0, 1, 1, 0, 0, 0, 0, 0, 1, 0, 0, 0, 1, 1, 1,\n",
       "       1, 0, 1, 1, 1, 0, 1, 0, 1, 0, 0, 1, 0, 1, 1, 0, 0, 0, 1, 0, 1, 1,\n",
       "       1, 1, 0, 0, 1, 0, 0, 0, 1, 0, 0, 0, 1, 0, 0, 0, 0, 0, 0, 0, 0, 0,\n",
       "       0, 1, 1, 1, 1, 0, 0, 1, 0, 1, 1, 0, 1, 0, 0, 1, 0, 1, 0, 0, 0, 0,\n",
       "       0, 0, 0, 0, 0, 0, 1, 0, 0, 1, 0, 0, 1, 0, 0, 0, 0, 0, 1, 0, 0, 1,\n",
       "       0, 0, 1, 0, 1, 1, 1, 1, 1, 0, 0, 1, 0, 0, 1, 1, 0, 0, 0, 0, 0, 1,\n",
       "       1, 1, 1, 0, 0, 1, 1, 0, 1, 0, 1, 0, 0, 0, 0, 0, 1, 0, 1, 0, 1, 0,\n",
       "       0, 1, 0, 1, 1, 1, 0, 0, 1, 0, 1, 0, 0, 0, 0, 0, 0, 0, 1, 1, 1, 0,\n",
       "       1, 0, 1, 0, 1, 1, 0, 1, 0, 0, 0, 0, 0, 0, 1, 0, 1, 0, 0, 1, 1, 1,\n",
       "       1, 0, 0, 0, 1, 1, 1, 1, 1, 0, 1, 0, 0, 0, 0, 0, 1, 0, 0, 0, 1, 1,\n",
       "       0, 0, 0, 0, 1, 0, 0, 0, 1, 1, 0, 1, 0, 0, 0, 0, 1, 1, 1, 1, 1, 0,\n",
       "       0, 0, 0, 0, 0, 1, 0, 1, 0, 0, 1, 0, 0, 0, 0, 0, 0, 0, 1, 1, 1, 1,\n",
       "       1, 0, 0, 0, 0, 1, 1, 1, 1, 0, 0, 0, 0, 0, 0, 1, 1, 0, 1, 0, 0, 0,\n",
       "       1, 1, 0, 1, 0, 0, 0, 0, 0, 0, 0, 0, 0, 1, 0, 0, 0, 0, 0, 1, 1, 0,\n",
       "       0, 0, 1, 0, 1, 0, 0, 1, 0, 1, 1, 0, 1, 0, 0, 1, 1, 0, 0, 1, 0, 0,\n",
       "       1, 1, 0, 0, 0, 0, 0, 0, 1, 1, 0, 1, 0, 0, 0, 0, 0, 1, 1, 0, 0, 1,\n",
       "       0, 1, 0, 0, 1, 0, 1, 0, 1, 0, 0, 1, 1, 1, 1, 1, 0, 0, 1, 0, 0, 1],\n",
       "      dtype=int64)"
      ]
     },
     "execution_count": 83,
     "metadata": {},
     "output_type": "execute_result"
    }
   ],
   "source": [
    "knn_model=KNeighborsClassifier()\n",
    "knn=KNeighborsClassifier().fit(X_train,y_train)\n",
    "y_pred=knn.predict(X_test)\n",
    "y_pred"
   ]
  },
  {
   "cell_type": "code",
   "execution_count": 84,
   "metadata": {},
   "outputs": [
    {
     "data": {
      "text/plain": [
       "array([0. , 0. , 0. , 0. , 0.6, 0. , 0.8, 0.2, 0.6, 0. , 0.2, 0.4, 1. ,\n",
       "       0. , 0.8, 0.8, 0.4, 0.2, 0.2, 0.4, 0.6, 0.4, 1. , 0.4, 0.8, 0. ,\n",
       "       1. , 0.2, 0.6, 0.2, 0. , 0. , 0.6, 0.2, 0.6, 0.2, 0.6, 0.6, 0. ,\n",
       "       0.6, 0. , 0.4, 0. , 0.8, 1. , 0. , 0.8, 0. , 0.8, 0.6, 0.4, 0.2,\n",
       "       0.8, 0.8, 0.2, 0. , 0. , 0.2, 0. , 1. , 0.2, 0.2, 0.2, 0.8, 1. ,\n",
       "       0.8, 0.8, 0. , 0.8, 0.6, 0.8, 0.2, 0.6, 0.2, 1. , 0.4, 0. , 1. ,\n",
       "       0.2, 0.8, 1. , 0.4, 0.4, 0.2, 0.6, 0. , 0.8, 0.6, 0.8, 1. , 0.2,\n",
       "       0.2, 0.6, 0. , 0.2, 0.2, 0.8, 0. , 0.4, 0.2, 1. , 0.4, 0. , 0.2,\n",
       "       0.4, 0. , 0. , 0. , 0. , 0.2, 0.2, 0.8, 1. , 0.8, 0.8, 0. , 0.2,\n",
       "       1. , 0.4, 0.8, 0.8, 0. , 1. , 0.2, 0. , 0.8, 0.2, 1. , 0.2, 0. ,\n",
       "       0.2, 0.2, 0.2, 0.2, 0. , 0.2, 0.2, 0.2, 0.6, 0.2, 0.2, 0.8, 0.2,\n",
       "       0. , 0.6, 0.2, 0.4, 0. , 0.4, 0.2, 1. , 0.2, 0. , 0.6, 0.4, 0.2,\n",
       "       1. , 0.4, 0.6, 1. , 0.8, 1. , 0.8, 0.2, 0.2, 0.6, 0.4, 0. , 0.6,\n",
       "       0.6, 0.2, 0.2, 0.2, 0.2, 0.2, 1. , 0.6, 0.6, 0.8, 0.4, 0.2, 1. ,\n",
       "       1. , 0. , 1. , 0.2, 1. , 0. , 0. , 0.2, 0. , 0.4, 0.8, 0. , 1. ,\n",
       "       0. , 0.8, 0.4, 0.2, 0.6, 0.4, 0.8, 0.6, 0.8, 0.2, 0.2, 1. , 0.2,\n",
       "       0.8, 0.2, 0.2, 0.2, 0.2, 0.4, 0.2, 0.2, 0.8, 0.6, 1. , 0. , 1. ,\n",
       "       0. , 0.8, 0.2, 0.6, 0.8, 0.2, 0.8, 0.2, 0.2, 0.2, 0.4, 0.2, 0. ,\n",
       "       0.6, 0.2, 0.6, 0.2, 0.4, 1. , 0.6, 0.8, 1. , 0.2, 0.2, 0.4, 0.8,\n",
       "       0.6, 0.8, 0.6, 1. , 0. , 0.6, 0. , 0.2, 0.2, 0. , 0. , 0.8, 0.2,\n",
       "       0. , 0.2, 1. , 0.6, 0.4, 0.2, 0. , 0.2, 0.6, 0. , 0.4, 0. , 1. ,\n",
       "       0.8, 0.2, 0.8, 0.2, 0. , 0.4, 0.2, 0.6, 1. , 0.8, 0.6, 1. , 0. ,\n",
       "       0.2, 0.4, 0.2, 0. , 0.4, 0.8, 0.2, 0.6, 0.2, 0.2, 1. , 0.2, 0.4,\n",
       "       0.2, 0. , 0.2, 0.4, 0. , 0.8, 0.8, 0.6, 0.8, 0.6, 0.2, 0. , 0.2,\n",
       "       0.2, 1. , 0.8, 0.8, 0.6, 0.2, 0.2, 0. , 0.2, 0.2, 0.2, 0.6, 0.8,\n",
       "       0.2, 0.8, 0.4, 0.4, 0.2, 1. , 0.8, 0.2, 0.6, 0.2, 0.4, 0.2, 0.2,\n",
       "       0.2, 0.2, 0.2, 0. , 0.2, 0.8, 0.2, 0.4, 0.2, 0.4, 0.2, 0.8, 1. ,\n",
       "       0.2, 0.2, 0.4, 0.8, 0.4, 1. , 0.2, 0. , 0.6, 0. , 0.8, 0.8, 0. ,\n",
       "       1. , 0.2, 0. , 0.8, 1. , 0.4, 0. , 1. , 0. , 0.2, 0.8, 1. , 0. ,\n",
       "       0.2, 0. , 0.4, 0. , 0. , 0.6, 0.6, 0.2, 0.6, 0.2, 0. , 0. , 0. ,\n",
       "       0.4, 0.8, 0.8, 0. , 0. , 1. , 0. , 1. , 0.2, 0. , 1. , 0. , 1. ,\n",
       "       0.4, 0.6, 0.4, 0. , 0.6, 0.8, 0.6, 0.8, 1. , 0.4, 0. , 1. , 0. ,\n",
       "       0. , 0.8])"
      ]
     },
     "execution_count": 84,
     "metadata": {},
     "output_type": "execute_result"
    }
   ],
   "source": [
    "y_prob=knn.predict_proba(X_test)[:,1]\n",
    "y_prob"
   ]
  },
  {
   "cell_type": "code",
   "execution_count": 85,
   "metadata": {},
   "outputs": [],
   "source": [
    "cv_results=cross_validate(knn_model,X_train,y_train,cv=10, scoring=[\"accuracy\",\"f1\",\"roc_auc\"])"
   ]
  },
  {
   "cell_type": "code",
   "execution_count": 86,
   "metadata": {},
   "outputs": [
    {
     "data": {
      "text/plain": [
       "0.8031920326864146"
      ]
     },
     "execution_count": 86,
     "metadata": {},
     "output_type": "execute_result"
    }
   ],
   "source": [
    "cv_results[\"test_accuracy\"].mean()"
   ]
  },
  {
   "cell_type": "code",
   "execution_count": 87,
   "metadata": {},
   "outputs": [
    {
     "data": {
      "text/plain": [
       "0.7290086042282562"
      ]
     },
     "execution_count": 87,
     "metadata": {},
     "output_type": "execute_result"
    }
   ],
   "source": [
    "cv_results[\"test_f1\"].mean()"
   ]
  },
  {
   "cell_type": "code",
   "execution_count": 88,
   "metadata": {},
   "outputs": [
    {
     "data": {
      "text/plain": [
       "0.8418587839176075"
      ]
     },
     "execution_count": 88,
     "metadata": {},
     "output_type": "execute_result"
    }
   ],
   "source": [
    "cv_results[\"test_roc_auc\"].mean()"
   ]
  },
  {
   "cell_type": "code",
   "execution_count": 89,
   "metadata": {},
   "outputs": [
    {
     "data": {
      "text/plain": [
       "{'algorithm': 'auto',\n",
       " 'leaf_size': 30,\n",
       " 'metric': 'minkowski',\n",
       " 'metric_params': None,\n",
       " 'n_jobs': None,\n",
       " 'n_neighbors': 5,\n",
       " 'p': 2,\n",
       " 'weights': 'uniform'}"
      ]
     },
     "execution_count": 89,
     "metadata": {},
     "output_type": "execute_result"
    }
   ],
   "source": [
    "knn_model.get_params()"
   ]
  },
  {
   "cell_type": "code",
   "execution_count": 90,
   "metadata": {},
   "outputs": [],
   "source": [
    "knn_params={\"n_neighbors\":range(2,50),\"p\":range(1,6),\"leaf_size\":[20,25,30,35,40,45],\"n_jobs\":[None,1,2,3]}"
   ]
  },
  {
   "cell_type": "code",
   "execution_count": 91,
   "metadata": {},
   "outputs": [
    {
     "name": "stdout",
     "output_type": "stream",
     "text": [
      "Fitting 5 folds for each of 5760 candidates, totalling 28800 fits\n"
     ]
    }
   ],
   "source": [
    "knn_gs_best=GridSearchCV(knn_model,knn_params,cv=5,n_jobs=1,verbose=1).fit(X_train,y_train)"
   ]
  },
  {
   "cell_type": "code",
   "execution_count": 92,
   "metadata": {},
   "outputs": [],
   "source": [
    "best_model=knn_gs_best.best_estimator_"
   ]
  },
  {
   "cell_type": "code",
   "execution_count": 93,
   "metadata": {},
   "outputs": [
    {
     "data": {
      "text/plain": [
       "{'leaf_size': 25, 'n_jobs': None, 'n_neighbors': 7, 'p': 2}"
      ]
     },
     "execution_count": 93,
     "metadata": {},
     "output_type": "execute_result"
    }
   ],
   "source": [
    "knn_gs_best.best_params_"
   ]
  },
  {
   "cell_type": "code",
   "execution_count": 94,
   "metadata": {},
   "outputs": [],
   "source": [
    "knn_final=knn.set_params(**knn_gs_best.best_params_).fit(X_train,y_train)"
   ]
  },
  {
   "cell_type": "code",
   "execution_count": 95,
   "metadata": {},
   "outputs": [],
   "source": [
    "cv_results=cross_validate(knn_final,X_train,y_train,cv=10,scoring=['accuracy',\"f1\",\"roc_auc\"])"
   ]
  },
  {
   "cell_type": "code",
   "execution_count": 96,
   "metadata": {},
   "outputs": [
    {
     "data": {
      "text/plain": [
       "0.8076864147088866"
      ]
     },
     "execution_count": 96,
     "metadata": {},
     "output_type": "execute_result"
    }
   ],
   "source": [
    "cv_results['test_accuracy'].mean()"
   ]
  },
  {
   "cell_type": "code",
   "execution_count": 97,
   "metadata": {},
   "outputs": [
    {
     "data": {
      "text/plain": [
       "0.7360398471760411"
      ]
     },
     "execution_count": 97,
     "metadata": {},
     "output_type": "execute_result"
    }
   ],
   "source": [
    "cv_results['test_f1'].mean()"
   ]
  },
  {
   "cell_type": "code",
   "execution_count": 98,
   "metadata": {},
   "outputs": [
    {
     "data": {
      "text/plain": [
       "0.846882551000198"
      ]
     },
     "execution_count": 98,
     "metadata": {},
     "output_type": "execute_result"
    }
   ],
   "source": [
    "cv_results['test_roc_auc'].mean()"
   ]
  },
  {
   "cell_type": "code",
   "execution_count": 99,
   "metadata": {},
   "outputs": [
    {
     "name": "stdout",
     "output_type": "stream",
     "text": [
      "              precision    recall  f1-score   support\n",
      "\n",
      "           0       0.87      0.91      0.89       549\n",
      "           1       0.84      0.77      0.80       340\n",
      "\n",
      "    accuracy                           0.86       889\n",
      "   macro avg       0.85      0.84      0.85       889\n",
      "weighted avg       0.86      0.86      0.86       889\n",
      "\n"
     ]
    }
   ],
   "source": [
    "print(classification_report(y_train, best_model.predict(X_train)))"
   ]
  },
  {
   "cell_type": "code",
   "execution_count": 100,
   "metadata": {
    "scrolled": true
   },
   "outputs": [
    {
     "name": "stdout",
     "output_type": "stream",
     "text": [
      "0.9047305260902175\n"
     ]
    }
   ],
   "source": [
    " print(roc_auc_score(y_train, best_model.predict_proba(X_train)[:, 1]))"
   ]
  },
  {
   "cell_type": "code",
   "execution_count": 101,
   "metadata": {},
   "outputs": [],
   "source": [
    "# Fit the final model on the full training set and make predictions on the test set\n",
    "#best_model.fit(X_train, y_train)\n",
    "#y_pred_final = best_model.predict(X_test)"
   ]
  },
  {
   "cell_type": "code",
   "execution_count": 102,
   "metadata": {},
   "outputs": [
    {
     "data": {
      "text/plain": [
       "array([0, 0, 0, 0, 0, 1, 1, 0, 1, 0, 0, 0, 1, 0, 1, 1, 0, 0, 0, 0, 1, 1,\n",
       "       1, 0, 1, 0, 1, 0, 1, 0, 0, 0, 0, 0, 0, 0, 0, 0, 0, 1, 0, 0, 0, 1,\n",
       "       1, 0, 1, 0, 1, 0, 0, 0, 1, 1, 0, 0, 0, 0, 0, 1, 0, 0, 0, 1, 1, 1,\n",
       "       1, 0, 1, 1, 1, 0, 0, 0, 1, 0, 0, 1, 0, 1, 1, 0, 0, 0, 0, 0, 1, 0,\n",
       "       1, 1, 0, 0, 0, 0, 0, 0, 1, 0, 1, 0, 1, 0, 0, 0, 1, 0, 0, 0, 0, 0,\n",
       "       0, 1, 1, 1, 1, 0, 0, 1, 0, 1, 1, 0, 1, 0, 0, 1, 0, 1, 0, 0, 0, 0,\n",
       "       0, 0, 0, 0, 0, 0, 0, 0, 0, 1, 0, 0, 1, 0, 0, 0, 0, 0, 1, 0, 0, 1,\n",
       "       0, 0, 1, 1, 1, 1, 1, 1, 1, 0, 0, 0, 1, 0, 1, 0, 0, 0, 1, 0, 0, 1,\n",
       "       1, 1, 1, 1, 0, 1, 1, 0, 1, 0, 1, 0, 0, 0, 0, 0, 1, 0, 1, 0, 1, 1,\n",
       "       0, 0, 1, 1, 1, 1, 0, 0, 0, 0, 1, 0, 0, 0, 0, 1, 0, 0, 1, 0, 1, 0,\n",
       "       1, 0, 1, 0, 0, 1, 0, 1, 0, 0, 1, 1, 0, 0, 0, 0, 0, 0, 1, 1, 0, 1,\n",
       "       1, 0, 0, 0, 1, 0, 1, 0, 1, 0, 0, 0, 0, 0, 0, 0, 1, 0, 0, 0, 1, 1,\n",
       "       1, 0, 0, 0, 0, 0, 1, 0, 1, 1, 0, 1, 0, 0, 0, 0, 0, 1, 1, 0, 1, 0,\n",
       "       0, 0, 0, 0, 0, 1, 0, 0, 0, 0, 1, 0, 0, 0, 0, 0, 0, 0, 1, 1, 1, 1,\n",
       "       0, 0, 0, 0, 0, 0, 1, 1, 1, 0, 0, 0, 0, 0, 0, 1, 1, 0, 1, 1, 0, 0,\n",
       "       1, 1, 0, 1, 0, 0, 0, 0, 0, 0, 0, 0, 0, 1, 0, 1, 0, 0, 0, 1, 1, 0,\n",
       "       0, 0, 1, 0, 1, 0, 0, 1, 0, 1, 1, 0, 1, 0, 0, 0, 1, 1, 0, 1, 0, 0,\n",
       "       1, 1, 0, 0, 0, 0, 0, 0, 0, 1, 0, 1, 0, 0, 0, 0, 0, 1, 1, 0, 0, 1,\n",
       "       0, 1, 0, 0, 1, 0, 1, 0, 0, 1, 0, 1, 1, 1, 1, 1, 1, 0, 1, 0, 0, 1],\n",
       "      dtype=int64)"
      ]
     },
     "execution_count": 102,
     "metadata": {},
     "output_type": "execute_result"
    }
   ],
   "source": [
    "forest_model=RandomForestClassifier()\n",
    "forest = RandomForestClassifier().fit(X_train, y_train)\n",
    "y_pred = forest.predict(X_test)\n",
    "y_pred"
   ]
  },
  {
   "cell_type": "code",
   "execution_count": 103,
   "metadata": {
    "scrolled": true
   },
   "outputs": [
    {
     "data": {
      "text/plain": [
       "array([9.52380952e-04, 2.80666667e-01, 1.26619048e-01, 1.16860482e-01,\n",
       "       8.00000000e-02, 6.01911674e-01, 7.96328845e-01, 1.75500000e-01,\n",
       "       9.38372786e-01, 0.00000000e+00, 7.89939662e-02, 4.21012085e-01,\n",
       "       1.00000000e+00, 1.19166667e-01, 1.00000000e+00, 9.61273810e-01,\n",
       "       1.20486928e-01, 1.66860672e-01, 1.53846154e-03, 4.22057971e-01,\n",
       "       7.49428571e-01, 5.29677125e-01, 1.00000000e+00, 4.89035714e-01,\n",
       "       8.81666667e-01, 2.00000000e-03, 9.90000000e-01, 1.66860672e-01,\n",
       "       7.72146104e-01, 5.00000000e-02, 3.18015873e-02, 2.20000000e-02,\n",
       "       4.91666667e-01, 1.92809524e-01, 4.92837302e-01, 1.66860672e-01,\n",
       "       3.29999042e-01, 3.29999042e-01, 1.16860482e-01, 6.24301587e-01,\n",
       "       1.70000000e-01, 4.92000957e-01, 4.95770443e-02, 9.02547064e-01,\n",
       "       1.00000000e+00, 1.16860482e-01, 7.33960317e-01, 9.71406610e-02,\n",
       "       9.46666667e-01, 2.40000000e-01, 3.68023810e-01, 5.50000000e-02,\n",
       "       9.15000000e-01, 9.33333333e-01, 5.50000000e-02, 0.00000000e+00,\n",
       "       4.95770443e-02, 7.89939662e-02, 0.00000000e+00, 1.00000000e+00,\n",
       "       7.89939662e-02, 2.02434957e-01, 7.89939662e-02, 7.96328845e-01,\n",
       "       8.07333333e-01, 9.73426768e-01, 7.96328845e-01, 0.00000000e+00,\n",
       "       7.33960317e-01, 6.52500000e-01, 7.96328845e-01, 7.89939662e-02,\n",
       "       3.29999042e-01, 3.41433983e-01, 1.00000000e+00, 4.53333333e-01,\n",
       "       1.16860482e-01, 8.79333333e-01, 6.88401876e-02, 7.96328845e-01,\n",
       "       6.96666667e-01, 1.86000000e-01, 4.21012085e-01, 7.89939662e-02,\n",
       "       4.05968166e-01, 3.00000000e-02, 7.96328845e-01, 3.29999042e-01,\n",
       "       7.96328845e-01, 1.00000000e+00, 1.53846154e-03, 7.89939662e-02,\n",
       "       3.35833333e-01, 1.16860482e-01, 3.41433983e-01, 7.89939662e-02,\n",
       "       9.30000000e-01, 1.16860482e-01, 6.46851386e-01, 2.76777094e-01,\n",
       "       1.00000000e+00, 2.77777778e-03, 9.71406610e-02, 7.89939662e-02,\n",
       "       5.45000000e-01, 0.00000000e+00, 9.71406610e-02, 9.71406610e-02,\n",
       "       1.16860482e-01, 6.88401876e-02, 7.75980392e-02, 7.96328845e-01,\n",
       "       1.00000000e+00, 7.96328845e-01, 9.30000000e-01, 3.00000000e-02,\n",
       "       1.66860672e-01, 8.31500000e-01, 4.53333333e-01, 8.01136724e-01,\n",
       "       9.77557720e-01, 3.13674963e-02, 1.00000000e+00, 7.89939662e-02,\n",
       "       9.71406610e-02, 5.27431373e-01, 7.89939662e-02, 9.20000000e-01,\n",
       "       2.02434957e-01, 1.16860482e-01, 2.76777094e-01, 1.20607143e-01,\n",
       "       1.90000000e-01, 1.18607969e-01, 4.95770443e-02, 7.89939662e-02,\n",
       "       1.66860672e-01, 6.88401876e-02, 3.29999042e-01, 5.16666667e-02,\n",
       "       9.77817460e-02, 1.00000000e+00, 2.03238095e-01, 6.52509653e-03,\n",
       "       7.72146104e-01, 1.10000000e-01, 2.55445610e-01, 1.16860482e-01,\n",
       "       4.92000957e-01, 1.75500000e-01, 9.90000000e-01, 1.66860672e-01,\n",
       "       2.00000000e-02, 5.56666667e-01, 2.89809524e-01, 7.89939662e-02,\n",
       "       1.00000000e+00, 6.46851386e-01, 7.72146104e-01, 9.73084416e-01,\n",
       "       7.96328845e-01, 6.96666667e-01, 9.02547064e-01, 7.89939662e-02,\n",
       "       2.02434957e-01, 1.61809524e-01, 5.39166667e-01, 7.52023810e-02,\n",
       "       9.70000000e-01, 3.29999042e-01, 7.89939662e-02, 1.66860672e-01,\n",
       "       7.07444765e-01, 1.66860672e-01, 6.16666667e-02, 9.16666667e-01,\n",
       "       9.70146104e-01, 7.49428571e-01, 9.25000000e-01, 8.30000000e-01,\n",
       "       6.88401876e-02, 6.29182151e-01, 1.00000000e+00, 9.71406610e-02,\n",
       "       9.80000000e-01, 2.45296631e-02, 9.94166667e-01, 6.24880383e-02,\n",
       "       0.00000000e+00, 2.02434957e-01, 1.19003358e-01, 4.92000957e-01,\n",
       "       9.90000000e-01, 1.26619048e-01, 9.26666667e-01, 4.95770443e-02,\n",
       "       8.41000000e-01, 6.46851386e-01, 6.88401876e-02, 3.29999042e-01,\n",
       "       5.15995588e-01, 9.08164378e-01, 7.49428571e-01, 9.76666667e-01,\n",
       "       6.88401876e-02, 3.41433983e-01, 4.01857618e-01, 6.88401876e-02,\n",
       "       9.58571429e-01, 7.89939662e-02, 6.19427736e-02, 7.89939662e-02,\n",
       "       2.26071429e-02, 7.47642857e-01, 4.87000000e-01, 6.58688811e-02,\n",
       "       7.96328845e-01, 1.40666667e-01, 9.71666667e-01, 1.16860482e-01,\n",
       "       9.58000000e-01, 1.16860482e-01, 9.02547064e-01, 7.89939662e-02,\n",
       "       3.30000000e-01, 6.41472222e-01, 7.89939662e-02, 7.96328845e-01,\n",
       "       6.19427736e-02, 2.02434957e-01, 5.35000000e-01, 9.94000000e-01,\n",
       "       1.51101732e-01, 9.71406610e-02, 4.66229770e-01, 7.89939662e-02,\n",
       "       3.81595238e-01, 1.66860672e-01, 6.58869353e-01, 1.00000000e+00,\n",
       "       3.30000000e-01, 9.80000000e-01, 6.29182151e-01, 7.89939662e-02,\n",
       "       4.00000000e-02, 3.50713717e-01, 9.73426768e-01, 7.83333333e-02,\n",
       "       8.01136724e-01, 8.40000000e-02, 9.82666667e-01, 1.16860482e-01,\n",
       "       4.92837302e-01, 1.16860482e-01, 2.76777094e-01, 7.89939662e-02,\n",
       "       9.71406610e-02, 1.16860482e-01, 9.02547064e-01, 7.89939662e-02,\n",
       "       3.25000000e-03, 7.89939662e-02, 9.87500000e-01, 8.61666667e-01,\n",
       "       6.82214119e-01, 7.89939662e-02, 2.47222222e-02, 7.89939662e-02,\n",
       "       3.29999042e-01, 1.16860482e-01, 5.39166667e-01, 9.71406610e-02,\n",
       "       1.00000000e+00, 9.80000000e-01, 1.66860672e-01, 8.01136724e-01,\n",
       "       6.88401876e-02, 1.19003358e-01, 2.77777778e-03, 6.88401876e-02,\n",
       "       3.29999042e-01, 9.15000000e-01, 7.96328845e-01, 2.58666667e-01,\n",
       "       8.31500000e-01, 4.95770443e-02, 7.89939662e-02, 3.68023810e-01,\n",
       "       1.66860672e-01, 1.16860482e-01, 2.55445610e-01, 7.96328845e-01,\n",
       "       1.66860672e-01, 1.40666667e-01, 2.76777094e-01, 7.89939662e-02,\n",
       "       9.18333333e-01, 5.00000000e-02, 2.55445610e-01, 7.89939662e-02,\n",
       "       4.95770443e-02, 5.50000000e-02, 4.76923077e-02, 1.16860482e-01,\n",
       "       7.96328845e-01, 8.82500000e-01, 5.37333333e-01, 8.75664378e-01,\n",
       "       1.40666667e-01, 1.10000000e-01, 1.16860482e-01, 1.66860672e-01,\n",
       "       7.89939662e-02, 4.01857618e-01, 9.46666667e-01, 7.96328845e-01,\n",
       "       7.49428571e-01, 6.88401876e-02, 7.89939662e-02, 2.20000000e-02,\n",
       "       7.89939662e-02, 1.66860672e-01, 6.88401876e-02, 7.72146104e-01,\n",
       "       1.00000000e+00, 7.89939662e-02, 9.60000000e-01, 5.39166667e-01,\n",
       "       2.77777778e-03, 6.88401876e-02, 9.70000000e-01, 7.33960317e-01,\n",
       "       1.66860672e-01, 7.15000000e-01, 7.89939662e-02, 4.92000957e-01,\n",
       "       2.02434957e-01, 9.33333333e-02, 2.26071429e-02, 1.66860672e-01,\n",
       "       6.88401876e-02, 4.95770443e-02, 3.95833333e-02, 9.70000000e-01,\n",
       "       5.00000000e-02, 6.46851386e-01, 6.88401876e-02, 4.22057971e-01,\n",
       "       6.88401876e-02, 9.96571429e-01, 1.00000000e+00, 6.88401876e-02,\n",
       "       2.26071429e-02, 1.90000000e-01, 5.51666667e-01, 4.21012085e-01,\n",
       "       9.80000000e-01, 7.89939662e-02, 9.71406610e-02, 5.71255772e-01,\n",
       "       0.00000000e+00, 9.59166667e-01, 9.96571429e-01, 1.16860482e-01,\n",
       "       1.00000000e+00, 1.34309524e-01, 3.00000000e-02, 4.41106723e-01,\n",
       "       1.00000000e+00, 6.82214119e-01, 8.58165707e-02, 1.00000000e+00,\n",
       "       4.83506494e-02, 2.02434957e-01, 9.90000000e-01, 1.00000000e+00,\n",
       "       4.15384615e-02, 6.88401876e-02, 0.00000000e+00, 2.89809524e-01,\n",
       "       9.71406610e-02, 9.71406610e-02, 4.61854892e-01, 5.71255772e-01,\n",
       "       6.88401876e-02, 9.50000000e-01, 7.89939662e-02, 0.00000000e+00,\n",
       "       9.71406610e-02, 9.00000000e-02, 2.55445610e-01, 9.70000000e-01,\n",
       "       9.60000000e-01, 0.00000000e+00, 0.00000000e+00, 1.00000000e+00,\n",
       "       9.71406610e-02, 9.71666667e-01, 7.89939662e-02, 9.52380952e-04,\n",
       "       1.00000000e+00, 1.19003358e-01, 9.90000000e-01, 2.55445610e-01,\n",
       "       4.99807692e-01, 6.82214119e-01, 8.58165707e-02, 5.27071429e-01,\n",
       "       7.96328845e-01, 8.61666667e-01, 7.96328845e-01, 9.70000000e-01,\n",
       "       6.46851386e-01, 1.16860482e-01, 1.00000000e+00, 4.95770443e-02,\n",
       "       1.16860482e-01, 9.50000000e-01])"
      ]
     },
     "execution_count": 103,
     "metadata": {},
     "output_type": "execute_result"
    }
   ],
   "source": [
    "y_prob=forest.predict_proba(X_test)[:,1]\n",
    "y_prob"
   ]
  },
  {
   "cell_type": "code",
   "execution_count": 104,
   "metadata": {},
   "outputs": [],
   "source": [
    "cv_results=cross_validate(forest_model,X_train,y_train,cv=5,scoring=[\"accuracy\",\"f1\",\"roc_auc\"])"
   ]
  },
  {
   "cell_type": "code",
   "execution_count": 105,
   "metadata": {},
   "outputs": [
    {
     "data": {
      "text/plain": [
       "0.8144353456484478"
      ]
     },
     "execution_count": 105,
     "metadata": {},
     "output_type": "execute_result"
    }
   ],
   "source": [
    "cv_results[\"test_accuracy\"].mean()"
   ]
  },
  {
   "cell_type": "code",
   "execution_count": 106,
   "metadata": {},
   "outputs": [
    {
     "data": {
      "text/plain": [
       "0.7459791780682417"
      ]
     },
     "execution_count": 106,
     "metadata": {},
     "output_type": "execute_result"
    }
   ],
   "source": [
    "cv_results[\"test_f1\"].mean()"
   ]
  },
  {
   "cell_type": "code",
   "execution_count": 107,
   "metadata": {},
   "outputs": [
    {
     "data": {
      "text/plain": [
       "0.8575343423441103"
      ]
     },
     "execution_count": 107,
     "metadata": {},
     "output_type": "execute_result"
    }
   ],
   "source": [
    "cv_results[\"test_roc_auc\"].mean()"
   ]
  },
  {
   "cell_type": "code",
   "execution_count": 108,
   "metadata": {},
   "outputs": [
    {
     "data": {
      "text/plain": [
       "{'bootstrap': True,\n",
       " 'ccp_alpha': 0.0,\n",
       " 'class_weight': None,\n",
       " 'criterion': 'gini',\n",
       " 'max_depth': None,\n",
       " 'max_features': 'sqrt',\n",
       " 'max_leaf_nodes': None,\n",
       " 'max_samples': None,\n",
       " 'min_impurity_decrease': 0.0,\n",
       " 'min_samples_leaf': 1,\n",
       " 'min_samples_split': 2,\n",
       " 'min_weight_fraction_leaf': 0.0,\n",
       " 'n_estimators': 100,\n",
       " 'n_jobs': None,\n",
       " 'oob_score': False,\n",
       " 'random_state': None,\n",
       " 'verbose': 0,\n",
       " 'warm_start': False}"
      ]
     },
     "execution_count": 108,
     "metadata": {},
     "output_type": "execute_result"
    }
   ],
   "source": [
    "forest_model.get_params()"
   ]
  },
  {
   "cell_type": "code",
   "execution_count": 109,
   "metadata": {},
   "outputs": [],
   "source": [
    "forest_params={'n_estimators':[100, 200, 300],'max_depth':[5, 10, 20, 30,None],'min_samples_split':[2, 5, 10],'min_samples_leaf': [1, 2, 4]}"
   ]
  },
  {
   "cell_type": "code",
   "execution_count": 110,
   "metadata": {},
   "outputs": [
    {
     "name": "stdout",
     "output_type": "stream",
     "text": [
      "Fitting 5 folds for each of 135 candidates, totalling 675 fits\n"
     ]
    }
   ],
   "source": [
    "forest_best_grid=GridSearchCV(forest_model,forest_params,cv=5,n_jobs=1,verbose=True).fit(X_train,y_train)"
   ]
  },
  {
   "cell_type": "code",
   "execution_count": 111,
   "metadata": {},
   "outputs": [],
   "source": [
    "forest_final=forest_model.set_params(**forest_best_grid.best_params_,random_state=17).fit(X_train,y_train)"
   ]
  },
  {
   "cell_type": "code",
   "execution_count": 112,
   "metadata": {},
   "outputs": [],
   "source": [
    "cv_results=cross_validate(forest_final,X_train,y_train,cv=5,scoring=[\"accuracy\",\"f1\",\"roc_auc\"])"
   ]
  },
  {
   "cell_type": "code",
   "execution_count": 113,
   "metadata": {},
   "outputs": [
    {
     "data": {
      "text/plain": [
       "0.8166825366596839"
      ]
     },
     "execution_count": 113,
     "metadata": {},
     "output_type": "execute_result"
    }
   ],
   "source": [
    "cv_results[\"test_accuracy\"].mean()"
   ]
  },
  {
   "cell_type": "code",
   "execution_count": 114,
   "metadata": {},
   "outputs": [
    {
     "data": {
      "text/plain": [
       "0.7444193331815983"
      ]
     },
     "execution_count": 114,
     "metadata": {},
     "output_type": "execute_result"
    }
   ],
   "source": [
    "cv_results[\"test_f1\"].mean()"
   ]
  },
  {
   "cell_type": "code",
   "execution_count": 115,
   "metadata": {},
   "outputs": [
    {
     "data": {
      "text/plain": [
       "0.8701553991070992"
      ]
     },
     "execution_count": 115,
     "metadata": {},
     "output_type": "execute_result"
    }
   ],
   "source": [
    "cv_results[\"test_roc_auc\"].mean()"
   ]
  },
  {
   "cell_type": "code",
   "execution_count": 116,
   "metadata": {},
   "outputs": [
    {
     "name": "stdout",
     "output_type": "stream",
     "text": [
      "              precision    recall  f1-score   support\n",
      "\n",
      "           0       0.87      0.91      0.89       549\n",
      "           1       0.84      0.77      0.80       340\n",
      "\n",
      "    accuracy                           0.86       889\n",
      "   macro avg       0.85      0.84      0.85       889\n",
      "weighted avg       0.86      0.86      0.86       889\n",
      "\n"
     ]
    }
   ],
   "source": [
    "print(classification_report(y_train, best_model.predict(X_train)))"
   ]
  },
  {
   "cell_type": "code",
   "execution_count": 117,
   "metadata": {},
   "outputs": [
    {
     "name": "stdout",
     "output_type": "stream",
     "text": [
      "0.9047305260902175\n"
     ]
    }
   ],
   "source": [
    "print(roc_auc_score(y_train, best_model.predict_proba(X_train)[:,1]))"
   ]
  },
  {
   "cell_type": "code",
   "execution_count": 118,
   "metadata": {},
   "outputs": [],
   "source": [
    "cart_model=DecisionTreeClassifier()\n",
    "cart=DecisionTreeClassifier().fit(X_train,y_train)"
   ]
  },
  {
   "cell_type": "code",
   "execution_count": 119,
   "metadata": {},
   "outputs": [
    {
     "data": {
      "text/plain": [
       "array([0, 0, 0, 0, 0, 0, 1, 0, 1, 0, 0, 0, 1, 0, 1, 1, 0, 0, 0, 0, 1, 0,\n",
       "       1, 0, 1, 0, 1, 0, 1, 0, 0, 0, 1, 0, 0, 0, 0, 0, 0, 1, 1, 0, 0, 1,\n",
       "       1, 0, 1, 0, 1, 0, 0, 0, 1, 1, 0, 0, 0, 0, 0, 1, 0, 0, 0, 1, 1, 1,\n",
       "       1, 0, 1, 1, 1, 0, 0, 0, 1, 0, 0, 1, 0, 1, 1, 0, 0, 0, 1, 0, 1, 0,\n",
       "       1, 1, 0, 0, 0, 0, 0, 0, 1, 0, 1, 0, 1, 0, 0, 0, 1, 0, 0, 0, 0, 0,\n",
       "       0, 1, 1, 1, 1, 0, 0, 1, 0, 1, 1, 0, 1, 0, 0, 1, 0, 1, 0, 0, 0, 0,\n",
       "       0, 0, 0, 0, 0, 0, 0, 0, 0, 1, 0, 0, 1, 0, 0, 0, 0, 0, 1, 0, 0, 0,\n",
       "       0, 0, 1, 1, 1, 1, 1, 1, 1, 0, 0, 0, 0, 0, 1, 0, 0, 0, 1, 0, 0, 0,\n",
       "       1, 1, 1, 1, 0, 0, 1, 0, 1, 0, 1, 0, 0, 0, 0, 0, 1, 0, 1, 0, 1, 1,\n",
       "       0, 0, 1, 1, 1, 1, 0, 0, 0, 0, 1, 0, 0, 0, 0, 1, 1, 0, 1, 0, 1, 0,\n",
       "       1, 0, 1, 0, 0, 1, 0, 1, 0, 0, 0, 1, 0, 0, 0, 0, 0, 0, 1, 1, 0, 1,\n",
       "       0, 0, 0, 0, 1, 0, 1, 0, 1, 0, 0, 0, 0, 0, 0, 0, 1, 0, 0, 0, 1, 1,\n",
       "       1, 0, 0, 0, 0, 0, 0, 0, 1, 1, 0, 1, 0, 0, 0, 0, 0, 1, 1, 0, 1, 0,\n",
       "       0, 0, 0, 0, 0, 1, 0, 0, 0, 0, 1, 0, 0, 0, 0, 0, 0, 0, 1, 1, 1, 1,\n",
       "       0, 0, 0, 0, 0, 0, 1, 1, 1, 0, 0, 0, 0, 0, 0, 1, 1, 0, 1, 0, 0, 0,\n",
       "       1, 1, 0, 1, 0, 0, 0, 0, 0, 0, 0, 0, 0, 1, 0, 1, 0, 0, 0, 1, 1, 0,\n",
       "       0, 0, 1, 0, 1, 0, 0, 1, 0, 1, 1, 0, 1, 0, 0, 1, 1, 1, 0, 1, 0, 0,\n",
       "       1, 1, 1, 0, 0, 0, 0, 0, 1, 1, 0, 1, 0, 0, 0, 0, 0, 1, 1, 0, 0, 1,\n",
       "       0, 1, 0, 0, 1, 0, 1, 0, 1, 1, 0, 0, 1, 1, 1, 1, 1, 0, 1, 0, 0, 1],\n",
       "      dtype=int64)"
      ]
     },
     "execution_count": 119,
     "metadata": {},
     "output_type": "execute_result"
    }
   ],
   "source": [
    "y_pred=cart.predict(X_test)\n",
    "y_pred"
   ]
  },
  {
   "cell_type": "code",
   "execution_count": 120,
   "metadata": {},
   "outputs": [
    {
     "data": {
      "text/plain": [
       "array([0.        , 0.        , 0.        , 0.11864407, 0.        ,\n",
       "       0.        , 0.7826087 , 0.        , 1.        , 0.        ,\n",
       "       0.07894737, 0.42857143, 1.        , 0.        , 1.        ,\n",
       "       1.        , 0.        , 0.17391304, 0.        , 0.        ,\n",
       "       0.75      , 0.        , 1.        , 0.5       , 1.        ,\n",
       "       0.        , 1.        , 0.17391304, 0.75      , 0.        ,\n",
       "       0.        , 0.        , 1.        , 0.        , 0.5       ,\n",
       "       0.17391304, 0.33333333, 0.33333333, 0.11864407, 0.6       ,\n",
       "       1.        , 0.5       , 0.05263158, 0.9       , 1.        ,\n",
       "       0.11864407, 0.75      , 0.0952381 , 1.        , 0.        ,\n",
       "       0.33333333, 0.        , 1.        , 1.        , 0.        ,\n",
       "       0.        , 0.05263158, 0.07894737, 0.        , 1.        ,\n",
       "       0.07894737, 0.21428571, 0.07894737, 0.7826087 , 1.        ,\n",
       "       1.        , 0.7826087 , 0.        , 0.75      , 1.        ,\n",
       "       0.7826087 , 0.07894737, 0.33333333, 0.33333333, 1.        ,\n",
       "       0.5       , 0.11864407, 1.        , 0.07142857, 0.7826087 ,\n",
       "       1.        , 0.        , 0.42857143, 0.07894737, 1.        ,\n",
       "       0.        , 0.7826087 , 0.33333333, 0.7826087 , 1.        ,\n",
       "       0.        , 0.07894737, 0.        , 0.11864407, 0.33333333,\n",
       "       0.07894737, 1.        , 0.11864407, 0.63636364, 0.28571429,\n",
       "       1.        , 0.        , 0.0952381 , 0.07894737, 1.        ,\n",
       "       0.        , 0.0952381 , 0.0952381 , 0.11864407, 0.07142857,\n",
       "       0.        , 0.7826087 , 1.        , 0.7826087 , 1.        ,\n",
       "       0.        , 0.17391304, 1.        , 0.5       , 0.83333333,\n",
       "       1.        , 0.        , 1.        , 0.07894737, 0.0952381 ,\n",
       "       1.        , 0.07894737, 1.        , 0.21428571, 0.11864407,\n",
       "       0.28571429, 0.        , 0.        , 0.        , 0.05263158,\n",
       "       0.07894737, 0.17391304, 0.07142857, 0.33333333, 0.        ,\n",
       "       0.        , 1.        , 0.        , 0.        , 0.75      ,\n",
       "       0.        , 0.25      , 0.11864407, 0.5       , 0.        ,\n",
       "       1.        , 0.17391304, 0.        , 0.        , 0.33333333,\n",
       "       0.07894737, 1.        , 0.63636364, 0.75      , 1.        ,\n",
       "       0.7826087 , 1.        , 0.9       , 0.07894737, 0.21428571,\n",
       "       0.        , 0.5       , 0.        , 1.        , 0.33333333,\n",
       "       0.07894737, 0.17391304, 1.        , 0.17391304, 0.        ,\n",
       "       0.5       , 1.        , 0.75      , 1.        , 1.        ,\n",
       "       0.07142857, 0.5       , 1.        , 0.0952381 , 1.        ,\n",
       "       0.        , 1.        , 0.        , 0.        , 0.21428571,\n",
       "       0.14285714, 0.5       , 1.        , 0.        , 1.        ,\n",
       "       0.05263158, 1.        , 0.63636364, 0.07142857, 0.33333333,\n",
       "       1.        , 1.        , 0.75      , 1.        , 0.07142857,\n",
       "       0.33333333, 0.        , 0.07142857, 1.        , 0.07894737,\n",
       "       0.        , 0.07894737, 0.        , 1.        , 1.        ,\n",
       "       0.        , 0.7826087 , 0.        , 1.        , 0.11864407,\n",
       "       1.        , 0.11864407, 0.9       , 0.07894737, 0.        ,\n",
       "       0.66666667, 0.07894737, 0.7826087 , 0.        , 0.21428571,\n",
       "       0.        , 1.        , 0.14285714, 0.0952381 , 0.5       ,\n",
       "       0.07894737, 0.        , 0.17391304, 0.66666667, 1.        ,\n",
       "       0.        , 1.        , 0.5       , 0.07894737, 0.        ,\n",
       "       0.375     , 1.        , 0.        , 0.83333333, 0.        ,\n",
       "       1.        , 0.11864407, 0.5       , 0.11864407, 0.28571429,\n",
       "       0.07894737, 0.0952381 , 0.11864407, 0.9       , 0.07894737,\n",
       "       0.        , 0.07894737, 1.        , 1.        , 1.        ,\n",
       "       0.07894737, 0.        , 0.07894737, 0.33333333, 0.11864407,\n",
       "       0.5       , 0.0952381 , 1.        , 1.        , 0.17391304,\n",
       "       0.83333333, 0.07142857, 0.14285714, 0.        , 0.07142857,\n",
       "       0.33333333, 1.        , 0.7826087 , 0.        , 1.        ,\n",
       "       0.05263158, 0.07894737, 0.33333333, 0.17391304, 0.11864407,\n",
       "       0.25      , 0.7826087 , 0.17391304, 0.        , 0.28571429,\n",
       "       0.07894737, 1.        , 0.        , 0.25      , 0.07894737,\n",
       "       0.05263158, 0.        , 0.        , 0.11864407, 0.7826087 ,\n",
       "       1.        , 1.        , 1.        , 0.        , 0.        ,\n",
       "       0.11864407, 0.17391304, 0.07894737, 0.        , 1.        ,\n",
       "       0.7826087 , 0.75      , 0.07142857, 0.07894737, 0.        ,\n",
       "       0.07894737, 0.17391304, 0.07142857, 0.75      , 1.        ,\n",
       "       0.07894737, 1.        , 0.5       , 0.        , 0.07142857,\n",
       "       1.        , 0.75      , 0.17391304, 1.        , 0.07894737,\n",
       "       0.5       , 0.21428571, 0.        , 0.        , 0.17391304,\n",
       "       0.07142857, 0.05263158, 0.        , 1.        , 0.        ,\n",
       "       0.63636364, 0.07142857, 0.        , 0.07142857, 1.        ,\n",
       "       1.        , 0.07142857, 0.        , 0.        , 1.        ,\n",
       "       0.42857143, 1.        , 0.07894737, 0.0952381 , 0.6       ,\n",
       "       0.        , 1.        , 1.        , 0.11864407, 1.        ,\n",
       "       0.        , 0.        , 0.6       , 1.        , 1.        ,\n",
       "       0.        , 1.        , 0.        , 0.21428571, 1.        ,\n",
       "       1.        , 1.        , 0.07142857, 0.        , 0.33333333,\n",
       "       0.0952381 , 0.0952381 , 0.6       , 0.6       , 0.07142857,\n",
       "       1.        , 0.07894737, 0.        , 0.0952381 , 0.        ,\n",
       "       0.25      , 1.        , 1.        , 0.        , 0.        ,\n",
       "       1.        , 0.0952381 , 1.        , 0.07894737, 0.        ,\n",
       "       1.        , 0.14285714, 1.        , 0.25      , 0.75      ,\n",
       "       1.        , 0.        , 0.5       , 0.7826087 , 1.        ,\n",
       "       0.7826087 , 1.        , 0.63636364, 0.11864407, 1.        ,\n",
       "       0.05263158, 0.11864407, 1.        ])"
      ]
     },
     "execution_count": 120,
     "metadata": {},
     "output_type": "execute_result"
    }
   ],
   "source": [
    "y_prob=cart.predict_proba(X_test)[:,1]\n",
    "y_prob"
   ]
  },
  {
   "cell_type": "code",
   "execution_count": 121,
   "metadata": {},
   "outputs": [],
   "source": [
    "cv_results=cross_validate(cart_model,X_train,y_train,cv=5,scoring=[\"accuracy\",\"f1\",\"roc_auc\"])"
   ]
  },
  {
   "cell_type": "code",
   "execution_count": 122,
   "metadata": {},
   "outputs": [
    {
     "data": {
      "text/plain": [
       "0.7986859645781756"
      ]
     },
     "execution_count": 122,
     "metadata": {},
     "output_type": "execute_result"
    }
   ],
   "source": [
    "cv_results[\"test_accuracy\"].mean()"
   ]
  },
  {
   "cell_type": "code",
   "execution_count": 123,
   "metadata": {},
   "outputs": [
    {
     "data": {
      "text/plain": [
       "0.721519772435568"
      ]
     },
     "execution_count": 123,
     "metadata": {},
     "output_type": "execute_result"
    }
   ],
   "source": [
    "cv_results[\"test_f1\"].mean()"
   ]
  },
  {
   "cell_type": "code",
   "execution_count": 124,
   "metadata": {},
   "outputs": [
    {
     "data": {
      "text/plain": [
       "0.7971856449001619"
      ]
     },
     "execution_count": 124,
     "metadata": {},
     "output_type": "execute_result"
    }
   ],
   "source": [
    "cv_results[\"test_roc_auc\"].mean()"
   ]
  },
  {
   "cell_type": "code",
   "execution_count": 125,
   "metadata": {},
   "outputs": [
    {
     "data": {
      "text/plain": [
       "{'ccp_alpha': 0.0,\n",
       " 'class_weight': None,\n",
       " 'criterion': 'gini',\n",
       " 'max_depth': None,\n",
       " 'max_features': None,\n",
       " 'max_leaf_nodes': None,\n",
       " 'min_impurity_decrease': 0.0,\n",
       " 'min_samples_leaf': 1,\n",
       " 'min_samples_split': 2,\n",
       " 'min_weight_fraction_leaf': 0.0,\n",
       " 'random_state': None,\n",
       " 'splitter': 'best'}"
      ]
     },
     "execution_count": 125,
     "metadata": {},
     "output_type": "execute_result"
    }
   ],
   "source": [
    "cart_model.get_params()"
   ]
  },
  {
   "cell_type": "code",
   "execution_count": 126,
   "metadata": {},
   "outputs": [],
   "source": [
    "cart_params={\"max_depth\":range(1,11),\"min_samples_split\":range(2,20),\"min_samples_leaf\":range(1,11)}"
   ]
  },
  {
   "cell_type": "code",
   "execution_count": 127,
   "metadata": {},
   "outputs": [
    {
     "name": "stdout",
     "output_type": "stream",
     "text": [
      "Fitting 5 folds for each of 1800 candidates, totalling 9000 fits\n"
     ]
    }
   ],
   "source": [
    "cart_best_grid=GridSearchCV(cart_model,cart_params,cv=5,n_jobs=1,verbose=1).fit(X_train,y_train)"
   ]
  },
  {
   "cell_type": "code",
   "execution_count": 128,
   "metadata": {},
   "outputs": [],
   "source": [
    "best_model=cart_best_grid.best_estimator_"
   ]
  },
  {
   "cell_type": "code",
   "execution_count": 129,
   "metadata": {},
   "outputs": [
    {
     "data": {
      "text/plain": [
       "{'max_depth': 4, 'min_samples_leaf': 1, 'min_samples_split': 3}"
      ]
     },
     "execution_count": 129,
     "metadata": {},
     "output_type": "execute_result"
    }
   ],
   "source": [
    "cart_best_grid.best_params_"
   ]
  },
  {
   "cell_type": "code",
   "execution_count": 130,
   "metadata": {},
   "outputs": [],
   "source": [
    "cart_final=DecisionTreeClassifier(**cart_best_grid.best_params_).fit(X_train,y_train)"
   ]
  },
  {
   "cell_type": "code",
   "execution_count": 131,
   "metadata": {},
   "outputs": [],
   "source": [
    "cv_results=cross_validate(cart_model,X_train,y_train,cv=5,scoring=[\"accuracy\",\"f1\",\"roc_auc\"])"
   ]
  },
  {
   "cell_type": "code",
   "execution_count": 132,
   "metadata": {},
   "outputs": [
    {
     "data": {
      "text/plain": [
       "0.7964324255697328"
      ]
     },
     "execution_count": 132,
     "metadata": {},
     "output_type": "execute_result"
    }
   ],
   "source": [
    "cv_results[\"test_accuracy\"].mean()"
   ]
  },
  {
   "cell_type": "code",
   "execution_count": 133,
   "metadata": {},
   "outputs": [
    {
     "data": {
      "text/plain": [
       "0.7183259670237578"
      ]
     },
     "execution_count": 133,
     "metadata": {},
     "output_type": "execute_result"
    }
   ],
   "source": [
    "cv_results[\"test_f1\"].mean()"
   ]
  },
  {
   "cell_type": "code",
   "execution_count": 134,
   "metadata": {},
   "outputs": [
    {
     "data": {
      "text/plain": [
       "0.7932713535789628"
      ]
     },
     "execution_count": 134,
     "metadata": {},
     "output_type": "execute_result"
    }
   ],
   "source": [
    "cv_results[\"test_roc_auc\"].mean()"
   ]
  },
  {
   "cell_type": "code",
   "execution_count": 135,
   "metadata": {},
   "outputs": [
    {
     "name": "stdout",
     "output_type": "stream",
     "text": [
      "              precision    recall  f1-score   support\n",
      "\n",
      "           0       0.81      0.95      0.88       549\n",
      "           1       0.90      0.64      0.75       340\n",
      "\n",
      "    accuracy                           0.83       889\n",
      "   macro avg       0.85      0.80      0.81       889\n",
      "weighted avg       0.84      0.83      0.83       889\n",
      "\n"
     ]
    }
   ],
   "source": [
    "print(classification_report(y_train, best_model.predict(X_train)))"
   ]
  },
  {
   "cell_type": "code",
   "execution_count": 136,
   "metadata": {},
   "outputs": [
    {
     "name": "stdout",
     "output_type": "stream",
     "text": [
      "0.8819672131147541\n"
     ]
    }
   ],
   "source": [
    "print(roc_auc_score(y_train, best_model.predict_proba(X_train)[:,1]))"
   ]
  },
  {
   "cell_type": "code",
   "execution_count": 137,
   "metadata": {},
   "outputs": [],
   "source": [
    "gbm=GradientBoostingClassifier()\n",
    "gbm_model=GradientBoostingClassifier().fit(X_train,y_train)"
   ]
  },
  {
   "cell_type": "code",
   "execution_count": 138,
   "metadata": {},
   "outputs": [
    {
     "data": {
      "text/plain": [
       "array([0, 0, 0, 0, 0, 1, 1, 0, 1, 0, 0, 0, 1, 0, 1, 1, 0, 0, 0, 1, 1, 1,\n",
       "       1, 0, 1, 0, 1, 0, 1, 0, 0, 0, 0, 0, 0, 0, 0, 0, 0, 0, 0, 0, 0, 1,\n",
       "       1, 0, 0, 0, 1, 0, 0, 0, 1, 1, 0, 0, 0, 0, 0, 1, 0, 0, 0, 1, 1, 1,\n",
       "       1, 0, 0, 1, 1, 0, 0, 0, 1, 1, 0, 1, 0, 1, 1, 0, 0, 0, 0, 0, 1, 0,\n",
       "       1, 1, 0, 0, 1, 0, 0, 0, 1, 0, 1, 0, 1, 0, 0, 0, 1, 0, 0, 0, 0, 0,\n",
       "       0, 1, 1, 1, 1, 0, 0, 1, 1, 1, 1, 0, 1, 0, 0, 0, 0, 1, 0, 0, 0, 0,\n",
       "       0, 0, 0, 0, 0, 0, 0, 0, 0, 1, 0, 0, 1, 0, 0, 0, 0, 0, 1, 0, 0, 1,\n",
       "       0, 0, 1, 1, 1, 0, 1, 1, 1, 0, 0, 0, 0, 0, 1, 0, 0, 0, 0, 0, 0, 1,\n",
       "       1, 1, 1, 1, 0, 1, 1, 0, 1, 0, 1, 0, 0, 0, 0, 0, 1, 0, 1, 0, 1, 1,\n",
       "       0, 0, 1, 1, 1, 1, 0, 0, 0, 0, 1, 0, 0, 0, 0, 1, 1, 0, 1, 0, 1, 0,\n",
       "       1, 0, 1, 0, 1, 1, 0, 1, 0, 0, 1, 1, 0, 0, 1, 0, 0, 0, 1, 1, 1, 1,\n",
       "       1, 0, 0, 0, 1, 0, 1, 1, 1, 0, 0, 0, 0, 0, 0, 0, 1, 0, 0, 0, 1, 1,\n",
       "       0, 0, 0, 0, 0, 0, 0, 0, 1, 1, 0, 1, 0, 0, 0, 0, 0, 1, 1, 1, 1, 0,\n",
       "       0, 0, 0, 0, 0, 1, 0, 0, 0, 0, 1, 0, 0, 0, 0, 0, 0, 0, 1, 1, 0, 1,\n",
       "       0, 0, 0, 0, 0, 0, 1, 1, 1, 0, 0, 0, 0, 0, 0, 1, 1, 0, 1, 0, 0, 0,\n",
       "       1, 0, 0, 1, 0, 0, 0, 0, 0, 0, 0, 0, 0, 1, 0, 1, 0, 1, 0, 1, 1, 0,\n",
       "       0, 0, 1, 0, 1, 0, 0, 0, 0, 1, 1, 0, 1, 0, 0, 0, 1, 0, 0, 1, 0, 0,\n",
       "       1, 1, 0, 0, 0, 0, 0, 0, 0, 0, 0, 1, 0, 0, 0, 0, 0, 1, 1, 0, 0, 1,\n",
       "       0, 1, 0, 0, 1, 0, 1, 0, 1, 0, 0, 1, 1, 1, 1, 1, 1, 0, 1, 0, 0, 0],\n",
       "      dtype=int64)"
      ]
     },
     "execution_count": 138,
     "metadata": {},
     "output_type": "execute_result"
    }
   ],
   "source": [
    "y_pred=gbm_model.predict(X_test)\n",
    "y_pred"
   ]
  },
  {
   "cell_type": "code",
   "execution_count": 139,
   "metadata": {},
   "outputs": [
    {
     "data": {
      "text/plain": [
       "array([0.04277641, 0.3008293 , 0.064718  , 0.13131619, 0.37810173,\n",
       "       0.85160358, 0.76131359, 0.09666565, 0.76131359, 0.0847817 ,\n",
       "       0.08003875, 0.30532494, 0.93485759, 0.28273522, 0.95677305,\n",
       "       0.92677249, 0.07907659, 0.12885483, 0.37330018, 0.53868651,\n",
       "       0.53923892, 0.51156763, 0.95166789, 0.42956622, 0.97456337,\n",
       "       0.05591231, 0.96612414, 0.12885483, 0.55897231, 0.25077936,\n",
       "       0.08297917, 0.08763637, 0.42109729, 0.33974662, 0.47840116,\n",
       "       0.12885483, 0.43323191, 0.43323191, 0.13131619, 0.3378067 ,\n",
       "       0.12942668, 0.43960965, 0.06319553, 0.90275811, 0.96026121,\n",
       "       0.13131619, 0.46693546, 0.10504795, 0.91699887, 0.47967844,\n",
       "       0.28290127, 0.1569263 , 0.87034854, 0.88179823, 0.1569263 ,\n",
       "       0.07069233, 0.06319553, 0.08003875, 0.10614833, 0.97612839,\n",
       "       0.08003875, 0.15327498, 0.08003875, 0.76131359, 0.94765535,\n",
       "       0.90381135, 0.76131359, 0.20660712, 0.46693546, 0.88491168,\n",
       "       0.76131359, 0.08003875, 0.43323191, 0.41271692, 0.97612839,\n",
       "       0.51916401, 0.13131619, 0.98661272, 0.11774344, 0.76131359,\n",
       "       0.84216954, 0.17909304, 0.30532494, 0.08003875, 0.13974762,\n",
       "       0.19713251, 0.76131359, 0.43323191, 0.76131359, 0.89774585,\n",
       "       0.37330018, 0.08003875, 0.928248  , 0.13131619, 0.41271692,\n",
       "       0.08003875, 0.96193102, 0.13131619, 0.51565118, 0.17015365,\n",
       "       0.97812624, 0.09489275, 0.10504795, 0.08003875, 0.68897823,\n",
       "       0.1326976 , 0.10504795, 0.10504795, 0.13131619, 0.11774344,\n",
       "       0.10468366, 0.76131359, 0.97612839, 0.76131359, 0.96193102,\n",
       "       0.19713251, 0.12885483, 0.55436795, 0.51916401, 0.86751881,\n",
       "       0.95389647, 0.06481816, 0.97812624, 0.08003875, 0.10504795,\n",
       "       0.41105497, 0.08003875, 0.73092174, 0.15327498, 0.13131619,\n",
       "       0.17015365, 0.15387069, 0.06385748, 0.08032613, 0.06319553,\n",
       "       0.08003875, 0.12885483, 0.11774344, 0.43323191, 0.04274675,\n",
       "       0.02481284, 0.96952379, 0.26136465, 0.11900163, 0.55897231,\n",
       "       0.24975806, 0.32705413, 0.13131619, 0.43960965, 0.09666565,\n",
       "       0.96612414, 0.12885483, 0.05501242, 0.50751677, 0.13656332,\n",
       "       0.08003875, 0.95166789, 0.51565118, 0.55897231, 0.43173814,\n",
       "       0.76131359, 0.84216954, 0.90275811, 0.08003875, 0.15327498,\n",
       "       0.3457291 , 0.17652746, 0.1366555 , 0.93654533, 0.43323191,\n",
       "       0.08003875, 0.12885483, 0.10775253, 0.12885483, 0.14780087,\n",
       "       0.98273863, 0.96760573, 0.53923892, 0.96883694, 0.92014551,\n",
       "       0.11774344, 0.56804166, 0.93485759, 0.10504795, 0.96893261,\n",
       "       0.15484621, 0.90557642, 0.0860941 , 0.02672423, 0.15327498,\n",
       "       0.12907602, 0.43960965, 0.83445173, 0.064718  , 0.94824089,\n",
       "       0.06319553, 0.922268  , 0.51565118, 0.11774344, 0.43323191,\n",
       "       0.62413443, 0.8541721 , 0.53923892, 0.94159436, 0.11774344,\n",
       "       0.41271692, 0.49561005, 0.11774344, 0.94844457, 0.08003875,\n",
       "       0.17186279, 0.08003875, 0.21579443, 0.85816136, 0.81233668,\n",
       "       0.43984269, 0.76131359, 0.31543378, 0.97796501, 0.13131619,\n",
       "       0.92790422, 0.13131619, 0.90275811, 0.08003875, 0.83864122,\n",
       "       0.62270563, 0.08003875, 0.76131359, 0.17186279, 0.15327498,\n",
       "       0.95372517, 0.94630877, 0.09513858, 0.10504795, 0.56804166,\n",
       "       0.08003875, 0.3028129 , 0.12885483, 0.87174362, 0.97971353,\n",
       "       0.83864122, 0.92683482, 0.56804166, 0.08003875, 0.10810641,\n",
       "       0.39913843, 0.90381135, 0.13399614, 0.86751881, 0.65353686,\n",
       "       0.9401166 , 0.13131619, 0.47840116, 0.13131619, 0.17015365,\n",
       "       0.08003875, 0.10504795, 0.13131619, 0.90275811, 0.08003875,\n",
       "       0.14374229, 0.08003875, 0.90328095, 0.58869853, 0.1699253 ,\n",
       "       0.08003875, 0.09934714, 0.08003875, 0.43323191, 0.13131619,\n",
       "       0.17652746, 0.10504795, 0.96893261, 0.65353686, 0.12885483,\n",
       "       0.86751881, 0.11774344, 0.12907602, 0.09489275, 0.11774344,\n",
       "       0.43323191, 0.83675896, 0.76131359, 0.74983737, 0.55436795,\n",
       "       0.06319553, 0.08003875, 0.28290127, 0.12885483, 0.13131619,\n",
       "       0.32705413, 0.76131359, 0.12885483, 0.31543378, 0.17015365,\n",
       "       0.08003875, 0.96972113, 0.25077936, 0.32705413, 0.08003875,\n",
       "       0.06319553, 0.1569263 , 0.15754427, 0.13131619, 0.76131359,\n",
       "       0.9619491 , 0.26750994, 0.8541721 , 0.31543378, 0.45712263,\n",
       "       0.13131619, 0.12885483, 0.08003875, 0.49561005, 0.91699887,\n",
       "       0.76131359, 0.53923892, 0.11774344, 0.08003875, 0.08763637,\n",
       "       0.08003875, 0.12885483, 0.11774344, 0.55897231, 0.96952379,\n",
       "       0.08003875, 0.95292914, 0.17652746, 0.09489275, 0.11774344,\n",
       "       0.91510611, 0.46693546, 0.12885483, 0.65815747, 0.08003875,\n",
       "       0.43960965, 0.15327498, 0.06394017, 0.21579443, 0.12885483,\n",
       "       0.11774344, 0.06319553, 0.03238195, 0.91699887, 0.10810641,\n",
       "       0.51565118, 0.11774344, 0.53868651, 0.11774344, 0.92724645,\n",
       "       0.97612839, 0.11774344, 0.21579443, 0.07652233, 0.54779796,\n",
       "       0.30532494, 0.98799997, 0.08003875, 0.10504795, 0.34111316,\n",
       "       0.03092106, 0.95374257, 0.92724645, 0.13131619, 0.96893261,\n",
       "       0.06714504, 0.19713251, 0.45569983, 0.97612839, 0.1699253 ,\n",
       "       0.09634518, 0.97612839, 0.04876944, 0.15327498, 0.95314184,\n",
       "       0.97612839, 0.32923719, 0.11774344, 0.20660712, 0.13656332,\n",
       "       0.10504795, 0.10504795, 0.40610822, 0.34111316, 0.11774344,\n",
       "       0.91219007, 0.08003875, 0.04832508, 0.10504795, 0.06457291,\n",
       "       0.32705413, 0.93488415, 0.85566745, 0.04832508, 0.04292892,\n",
       "       0.93485759, 0.10504795, 0.97796501, 0.08003875, 0.04277641,\n",
       "       0.95166789, 0.12907602, 0.96612414, 0.32705413, 0.51617449,\n",
       "       0.1699253 , 0.09634518, 0.51819587, 0.76131359, 0.58869853,\n",
       "       0.76131359, 0.96843418, 0.51565118, 0.13131619, 0.97612839,\n",
       "       0.06319553, 0.13131619, 0.20039266])"
      ]
     },
     "execution_count": 139,
     "metadata": {},
     "output_type": "execute_result"
    }
   ],
   "source": [
    "y_prob=gbm_model.predict_proba(X_test)[:,1]\n",
    "y_prob"
   ]
  },
  {
   "cell_type": "code",
   "execution_count": 140,
   "metadata": {},
   "outputs": [],
   "source": [
    "cv_results=cross_validate(gbm_model,X_train,y_train, cv=5,scoring=[\"accuracy\",\"f1\",\"roc_auc\"])"
   ]
  },
  {
   "cell_type": "code",
   "execution_count": 141,
   "metadata": {},
   "outputs": [
    {
     "data": {
      "text/plain": [
       "0.8144543896400686"
      ]
     },
     "execution_count": 141,
     "metadata": {},
     "output_type": "execute_result"
    }
   ],
   "source": [
    "cv_results[\"test_accuracy\"].mean()"
   ]
  },
  {
   "cell_type": "code",
   "execution_count": 142,
   "metadata": {},
   "outputs": [
    {
     "data": {
      "text/plain": [
       "0.7352108284186393"
      ]
     },
     "execution_count": 142,
     "metadata": {},
     "output_type": "execute_result"
    }
   ],
   "source": [
    "cv_results[\"test_f1\"].mean()"
   ]
  },
  {
   "cell_type": "code",
   "execution_count": 143,
   "metadata": {},
   "outputs": [
    {
     "data": {
      "text/plain": [
       "0.8732479271942305"
      ]
     },
     "execution_count": 143,
     "metadata": {},
     "output_type": "execute_result"
    }
   ],
   "source": [
    "cv_results[\"test_roc_auc\"].mean()"
   ]
  },
  {
   "cell_type": "code",
   "execution_count": 144,
   "metadata": {},
   "outputs": [],
   "source": [
    "gbm_params = {'n_estimators': [50, 100, 150],'learning_rate': [0.05, 0.1, 0.15],'max_depth': [2, 3, 4,None],'min_samples_split': [2, 4, 6],'min_samples_leaf': [1, 2, 3]}"
   ]
  },
  {
   "cell_type": "code",
   "execution_count": 145,
   "metadata": {},
   "outputs": [
    {
     "name": "stdout",
     "output_type": "stream",
     "text": [
      "Fitting 5 folds for each of 324 candidates, totalling 1620 fits\n"
     ]
    }
   ],
   "source": [
    "gbm_best_grid=GridSearchCV(gbm_model,gbm_params,cv=5,n_jobs=1,verbose=True).fit(X_train,y_train)"
   ]
  },
  {
   "cell_type": "code",
   "execution_count": 146,
   "metadata": {},
   "outputs": [],
   "source": [
    "gbm_final=gbm_model.set_params(**gbm_best_grid.best_params_,random_state=17).fit(X_train,y_train)"
   ]
  },
  {
   "cell_type": "code",
   "execution_count": 147,
   "metadata": {},
   "outputs": [],
   "source": [
    "cv_results=cross_validate(gbm_final,X_train,y_train, cv=5,scoring=[\"accuracy\",\"f1\",\"roc_auc\"])"
   ]
  },
  {
   "cell_type": "code",
   "execution_count": 148,
   "metadata": {},
   "outputs": [
    {
     "data": {
      "text/plain": [
       "0.8245540531962166"
      ]
     },
     "execution_count": 148,
     "metadata": {},
     "output_type": "execute_result"
    }
   ],
   "source": [
    "cv_results[\"test_accuracy\"].mean()"
   ]
  },
  {
   "cell_type": "code",
   "execution_count": 149,
   "metadata": {},
   "outputs": [
    {
     "data": {
      "text/plain": [
       "0.7419717184067137"
      ]
     },
     "execution_count": 149,
     "metadata": {},
     "output_type": "execute_result"
    }
   ],
   "source": [
    "cv_results[\"test_f1\"].mean()"
   ]
  },
  {
   "cell_type": "code",
   "execution_count": 150,
   "metadata": {},
   "outputs": [
    {
     "data": {
      "text/plain": [
       "0.872078693028504"
      ]
     },
     "execution_count": 150,
     "metadata": {},
     "output_type": "execute_result"
    }
   ],
   "source": [
    "cv_results[\"test_roc_auc\"].mean()"
   ]
  },
  {
   "cell_type": "code",
   "execution_count": 151,
   "metadata": {},
   "outputs": [],
   "source": [
    "best_model=gbm_best_grid.best_estimator_"
   ]
  },
  {
   "cell_type": "code",
   "execution_count": 152,
   "metadata": {},
   "outputs": [
    {
     "name": "stdout",
     "output_type": "stream",
     "text": [
      "              precision    recall  f1-score   support\n",
      "\n",
      "           0       0.82      0.94      0.88       549\n",
      "           1       0.87      0.67      0.76       340\n",
      "\n",
      "    accuracy                           0.84       889\n",
      "   macro avg       0.85      0.80      0.82       889\n",
      "weighted avg       0.84      0.84      0.83       889\n",
      "\n"
     ]
    }
   ],
   "source": [
    "print(classification_report(y_train, best_model.predict(X_train)))"
   ]
  },
  {
   "cell_type": "code",
   "execution_count": 153,
   "metadata": {},
   "outputs": [
    {
     "name": "stdout",
     "output_type": "stream",
     "text": [
      "0.8866977392049717\n"
     ]
    }
   ],
   "source": [
    "print(roc_auc_score(y_train, best_model.predict_proba(X_train)[:,1]))"
   ]
  },
  {
   "cell_type": "code",
   "execution_count": 154,
   "metadata": {},
   "outputs": [],
   "source": [
    "lgbm=LGBMClassifier().fit(X_train,y_train)"
   ]
  },
  {
   "cell_type": "code",
   "execution_count": 155,
   "metadata": {},
   "outputs": [
    {
     "data": {
      "text/plain": [
       "array([0, 0, 0, 0, 0, 1, 1, 0, 1, 0, 0, 0, 1, 0, 1, 1, 0, 0, 0, 1, 1, 0,\n",
       "       1, 0, 1, 0, 1, 0, 1, 0, 0, 0, 0, 0, 0, 0, 0, 0, 0, 1, 0, 0, 0, 1,\n",
       "       1, 0, 1, 0, 1, 0, 0, 0, 1, 1, 0, 0, 0, 0, 0, 1, 0, 0, 0, 1, 1, 1,\n",
       "       1, 0, 1, 1, 1, 0, 0, 0, 1, 0, 0, 1, 0, 1, 1, 0, 0, 0, 0, 0, 1, 0,\n",
       "       1, 1, 0, 0, 1, 0, 0, 0, 1, 0, 1, 0, 1, 0, 0, 0, 1, 0, 0, 0, 0, 0,\n",
       "       0, 1, 1, 1, 1, 0, 0, 1, 0, 1, 1, 0, 1, 0, 0, 1, 0, 1, 0, 0, 0, 0,\n",
       "       0, 0, 0, 0, 0, 0, 0, 0, 0, 1, 0, 0, 1, 0, 0, 0, 0, 0, 1, 0, 0, 0,\n",
       "       0, 0, 1, 1, 1, 1, 1, 1, 1, 0, 0, 0, 0, 0, 1, 0, 0, 0, 0, 0, 0, 1,\n",
       "       1, 1, 1, 1, 0, 1, 1, 0, 1, 0, 1, 0, 0, 0, 0, 0, 1, 0, 1, 0, 1, 1,\n",
       "       0, 0, 1, 1, 1, 1, 0, 0, 1, 0, 1, 0, 0, 0, 0, 1, 0, 0, 1, 0, 1, 0,\n",
       "       1, 0, 1, 0, 1, 1, 0, 1, 0, 0, 1, 1, 0, 0, 1, 0, 1, 0, 1, 1, 1, 1,\n",
       "       1, 0, 0, 0, 1, 0, 1, 0, 1, 0, 0, 0, 0, 0, 0, 0, 1, 0, 0, 0, 1, 1,\n",
       "       0, 0, 0, 0, 0, 0, 0, 0, 1, 1, 0, 1, 0, 0, 0, 0, 0, 1, 1, 1, 1, 0,\n",
       "       0, 0, 0, 0, 0, 1, 0, 0, 0, 0, 1, 0, 0, 0, 0, 0, 0, 0, 1, 1, 0, 1,\n",
       "       0, 0, 0, 0, 0, 1, 1, 1, 1, 0, 0, 0, 0, 0, 0, 1, 1, 0, 1, 0, 0, 0,\n",
       "       1, 1, 0, 1, 0, 0, 0, 0, 0, 0, 0, 0, 0, 1, 0, 1, 0, 1, 0, 1, 1, 0,\n",
       "       0, 0, 0, 0, 1, 0, 0, 0, 0, 1, 1, 0, 1, 0, 0, 1, 1, 0, 0, 1, 0, 0,\n",
       "       1, 1, 0, 0, 0, 0, 0, 0, 1, 0, 0, 1, 0, 0, 0, 0, 0, 1, 1, 0, 0, 1,\n",
       "       0, 1, 0, 0, 1, 0, 1, 0, 1, 0, 0, 0, 1, 1, 1, 1, 1, 0, 1, 0, 0, 1],\n",
       "      dtype=int64)"
      ]
     },
     "execution_count": 155,
     "metadata": {},
     "output_type": "execute_result"
    }
   ],
   "source": [
    "y_pred=lgbm.predict(X_test)\n",
    "y_pred"
   ]
  },
  {
   "cell_type": "code",
   "execution_count": 156,
   "metadata": {},
   "outputs": [
    {
     "data": {
      "text/plain": [
       "array([0.02306625, 0.308412  , 0.04164668, 0.12086466, 0.28137407,\n",
       "       0.90306732, 0.78904069, 0.0306403 , 0.86704999, 0.03280224,\n",
       "       0.07748894, 0.30150967, 0.98360569, 0.03919768, 0.9880342 ,\n",
       "       0.81312666, 0.08011627, 0.18020406, 0.25113394, 0.63824225,\n",
       "       0.67851651, 0.45753088, 0.99289926, 0.42849815, 0.87277854,\n",
       "       0.04778972, 0.98611147, 0.18020406, 0.73677122, 0.1191472 ,\n",
       "       0.03593891, 0.0903692 , 0.22162784, 0.11370693, 0.47703906,\n",
       "       0.18020406, 0.35707408, 0.35707408, 0.12086466, 0.54860973,\n",
       "       0.14754394, 0.49030309, 0.02918334, 0.91098449, 0.98820282,\n",
       "       0.12086466, 0.5851998 , 0.06581817, 0.97988096, 0.31264276,\n",
       "       0.34847716, 0.04010687, 0.92210434, 0.7818893 , 0.04010687,\n",
       "       0.05149188, 0.02918334, 0.07748894, 0.03557499, 0.99118869,\n",
       "       0.07748894, 0.21127497, 0.07748894, 0.78904069, 0.8571267 ,\n",
       "       0.95652375, 0.78904069, 0.07974023, 0.5851998 , 0.88084638,\n",
       "       0.78904069, 0.07748894, 0.35707408, 0.35860408, 0.99118869,\n",
       "       0.48316691, 0.12086466, 0.93100475, 0.06811109, 0.78904069,\n",
       "       0.97025836, 0.29306467, 0.30150967, 0.07748894, 0.12867589,\n",
       "       0.11029193, 0.78904069, 0.35707408, 0.78904069, 0.9587118 ,\n",
       "       0.25113394, 0.07748894, 0.56918049, 0.12086466, 0.35860408,\n",
       "       0.07748894, 0.98758798, 0.12086466, 0.57474702, 0.26945662,\n",
       "       0.99138379, 0.02083947, 0.06581817, 0.07748894, 0.73914817,\n",
       "       0.03968359, 0.06581817, 0.06581817, 0.12086466, 0.06811109,\n",
       "       0.07136695, 0.78904069, 0.99118869, 0.78904069, 0.98758798,\n",
       "       0.11029193, 0.18020406, 0.567493  , 0.48316691, 0.83146377,\n",
       "       0.97393497, 0.06922096, 0.99138379, 0.07748894, 0.06581817,\n",
       "       0.55733126, 0.07748894, 0.8803385 , 0.21127497, 0.12086466,\n",
       "       0.26945662, 0.11490452, 0.34474902, 0.16725546, 0.02918334,\n",
       "       0.07748894, 0.18020406, 0.06811109, 0.35707408, 0.109212  ,\n",
       "       0.16608947, 0.99043862, 0.30013608, 0.01643519, 0.73677122,\n",
       "       0.03017274, 0.22493776, 0.12086466, 0.49030309, 0.0306403 ,\n",
       "       0.98611147, 0.18020406, 0.04334773, 0.38185248, 0.06226359,\n",
       "       0.07748894, 0.99289926, 0.57474702, 0.73677122, 0.62989407,\n",
       "       0.78904069, 0.97025836, 0.91098449, 0.07748894, 0.21127497,\n",
       "       0.21676622, 0.21577738, 0.07495552, 0.93956036, 0.35707408,\n",
       "       0.07748894, 0.18020406, 0.17233083, 0.18020406, 0.109212  ,\n",
       "       0.98268648, 0.99280888, 0.67851651, 0.96534048, 0.85106126,\n",
       "       0.06811109, 0.80249137, 0.98360569, 0.06581817, 0.98298737,\n",
       "       0.07616777, 0.98335475, 0.11388058, 0.13565698, 0.21127497,\n",
       "       0.06251658, 0.49030309, 0.94101005, 0.04164668, 0.96292462,\n",
       "       0.02918334, 0.90832059, 0.57474702, 0.06811109, 0.35707408,\n",
       "       0.54068451, 0.95297299, 0.67851651, 0.94891529, 0.06811109,\n",
       "       0.35860408, 0.58175059, 0.06811109, 0.88503874, 0.07748894,\n",
       "       0.16413492, 0.07748894, 0.13012738, 0.80110484, 0.18468163,\n",
       "       0.22090375, 0.78904069, 0.19160199, 0.98016308, 0.12086466,\n",
       "       0.93348547, 0.12086466, 0.91098449, 0.07748894, 0.61038488,\n",
       "       0.66115503, 0.07748894, 0.78904069, 0.16413492, 0.21127497,\n",
       "       0.9209611 , 0.97747823, 0.10729309, 0.06581817, 0.60707446,\n",
       "       0.07748894, 0.591344  , 0.18020406, 0.8578413 , 0.99247804,\n",
       "       0.61038488, 0.98892046, 0.80249137, 0.07748894, 0.03844113,\n",
       "       0.39615245, 0.95652375, 0.19260854, 0.83146377, 0.38640131,\n",
       "       0.94247296, 0.12086466, 0.47703906, 0.12086466, 0.26945662,\n",
       "       0.07748894, 0.06581817, 0.12086466, 0.91098449, 0.07748894,\n",
       "       0.0692141 , 0.07748894, 0.99033902, 0.64915659, 0.41255887,\n",
       "       0.07748894, 0.11489781, 0.07748894, 0.35707408, 0.12086466,\n",
       "       0.21577738, 0.06581817, 0.9908782 , 0.79759336, 0.18020406,\n",
       "       0.83146377, 0.06811109, 0.06251658, 0.02083947, 0.06811109,\n",
       "       0.35707408, 0.95357841, 0.78904069, 0.77981948, 0.567493  ,\n",
       "       0.02918334, 0.07748894, 0.34847716, 0.18020406, 0.12086466,\n",
       "       0.22493776, 0.78904069, 0.18020406, 0.19160199, 0.26945662,\n",
       "       0.07748894, 0.9533048 , 0.1191472 , 0.22493776, 0.07748894,\n",
       "       0.02918334, 0.04010687, 0.02414089, 0.12086466, 0.78904069,\n",
       "       0.9462097 , 0.17632596, 0.94570282, 0.19160199, 0.29542134,\n",
       "       0.12086466, 0.18020406, 0.07748894, 0.58175059, 0.97988096,\n",
       "       0.78904069, 0.67851651, 0.06811109, 0.07748894, 0.0903692 ,\n",
       "       0.07748894, 0.18020406, 0.06811109, 0.73677122, 0.99043862,\n",
       "       0.07748894, 0.98426454, 0.21577738, 0.02083947, 0.06811109,\n",
       "       0.93347467, 0.5851998 , 0.18020406, 0.64104889, 0.07748894,\n",
       "       0.49030309, 0.21127497, 0.01000091, 0.13012738, 0.18020406,\n",
       "       0.06811109, 0.02918334, 0.07352434, 0.94603001, 0.04057228,\n",
       "       0.57474702, 0.06811109, 0.63824225, 0.06811109, 0.95288156,\n",
       "       0.98775479, 0.06811109, 0.13012738, 0.04073461, 0.32951289,\n",
       "       0.30150967, 0.99461582, 0.07748894, 0.06581817, 0.44645329,\n",
       "       0.06226359, 0.98818891, 0.95288156, 0.12086466, 0.9908782 ,\n",
       "       0.07488615, 0.11029193, 0.79098898, 0.98775479, 0.41255887,\n",
       "       0.080115  , 0.99118869, 0.05175527, 0.21127497, 0.98415763,\n",
       "       0.99118869, 0.24713543, 0.06811109, 0.07974023, 0.06226359,\n",
       "       0.06581817, 0.06581817, 0.53543096, 0.44645329, 0.06811109,\n",
       "       0.74044291, 0.07748894, 0.06150206, 0.06581817, 0.02921813,\n",
       "       0.22493776, 0.97423318, 0.93259847, 0.06150206, 0.00786792,\n",
       "       0.98360569, 0.06581817, 0.98016308, 0.07748894, 0.02306625,\n",
       "       0.99289926, 0.06251658, 0.98611147, 0.22493776, 0.55909901,\n",
       "       0.41255887, 0.080115  , 0.46797724, 0.78904069, 0.64915659,\n",
       "       0.78904069, 0.99470543, 0.57474702, 0.12086466, 0.99118869,\n",
       "       0.02918334, 0.12086466, 0.70111567])"
      ]
     },
     "execution_count": 156,
     "metadata": {},
     "output_type": "execute_result"
    }
   ],
   "source": [
    "y_prob=lgbm.predict_proba(X_test)[:,1]\n",
    "y_prob"
   ]
  },
  {
   "cell_type": "code",
   "execution_count": 157,
   "metadata": {},
   "outputs": [],
   "source": [
    "cv_results=cross_validate(lgbm,X_train,y_train, cv=5,scoring=[\"accuracy\",\"f1\",\"roc_auc\"])"
   ]
  },
  {
   "cell_type": "code",
   "execution_count": 158,
   "metadata": {},
   "outputs": [
    {
     "data": {
      "text/plain": [
       "0.8234495016822192"
      ]
     },
     "execution_count": 158,
     "metadata": {},
     "output_type": "execute_result"
    }
   ],
   "source": [
    "cv_results[\"test_accuracy\"].mean()"
   ]
  },
  {
   "cell_type": "code",
   "execution_count": 159,
   "metadata": {},
   "outputs": [
    {
     "data": {
      "text/plain": [
       "0.7548612022749434"
      ]
     },
     "execution_count": 159,
     "metadata": {},
     "output_type": "execute_result"
    }
   ],
   "source": [
    "cv_results[\"test_f1\"].mean()"
   ]
  },
  {
   "cell_type": "code",
   "execution_count": 160,
   "metadata": {},
   "outputs": [
    {
     "data": {
      "text/plain": [
       "0.8726430113329737"
      ]
     },
     "execution_count": 160,
     "metadata": {},
     "output_type": "execute_result"
    }
   ],
   "source": [
    "cv_results[\"test_roc_auc\"].mean()"
   ]
  },
  {
   "cell_type": "code",
   "execution_count": 161,
   "metadata": {},
   "outputs": [],
   "source": [
    "#lgbm_params = {'num_leaves': [15, 31, 63],'max_depth': [3, 5, 7],'learning_rate': [0.05, 0.1, 0.2],'min_child_samples': [10, 20, 30],'subsample': [0.7, 0.8, 0.9],'colsample_bytree': [0.7, 0.8, 0.9],'reg_alpha': [0, 1e-1, 1, 2],'reg_lambda': [0, 1e-1, 1, 5],'n_estimators': [100, 500, 1000],'random_state': [42]}"
   ]
  },
  {
   "cell_type": "code",
   "execution_count": 162,
   "metadata": {},
   "outputs": [],
   "source": [
    "#lgbm_best_grid=GridSearchCV(lgbm,lgbm_params,cv=5,n_jobs=1,verbose=True).fit(X_train,y_train)"
   ]
  },
  {
   "cell_type": "code",
   "execution_count": 163,
   "metadata": {},
   "outputs": [],
   "source": [
    "#lgbm_final=gbm_model.set_params(**lgbm_best_grid.best_params_,random_state=17).fit(X_train,y_train)"
   ]
  },
  {
   "cell_type": "code",
   "execution_count": 164,
   "metadata": {},
   "outputs": [],
   "source": [
    "#cv_results=cross_validate(lgbm_final,X_train,y_train, cv=5,scoring=[\"accuracy\",\"f1\",\"roc_auc\"])"
   ]
  },
  {
   "cell_type": "code",
   "execution_count": 165,
   "metadata": {},
   "outputs": [],
   "source": [
    "#cv_results[\"test_accuracy\"].mean()"
   ]
  },
  {
   "cell_type": "code",
   "execution_count": 166,
   "metadata": {},
   "outputs": [],
   "source": [
    "#cv_results[\"test_f1\"].mean()"
   ]
  },
  {
   "cell_type": "code",
   "execution_count": 167,
   "metadata": {},
   "outputs": [],
   "source": [
    "#cv_results[\"test_roc_auc\"].mean()"
   ]
  },
  {
   "cell_type": "code",
   "execution_count": 168,
   "metadata": {},
   "outputs": [],
   "source": [
    "#best_model=lgbm_best_grid.best_estimator_"
   ]
  },
  {
   "cell_type": "code",
   "execution_count": 169,
   "metadata": {},
   "outputs": [],
   "source": [
    "#print(classification_report(y_train, best_model.predict(X_train)))"
   ]
  },
  {
   "cell_type": "code",
   "execution_count": 170,
   "metadata": {},
   "outputs": [],
   "source": [
    "#print(roc_auc_score(y_train, best_model.predict_proba(X_train)[:,1]))"
   ]
  },
  {
   "cell_type": "code",
   "execution_count": 171,
   "metadata": {},
   "outputs": [],
   "source": [
    "def plot_importance(model, feature, nun=len(X_train)):\n",
    "    if hasattr(model, \"feature_importances_\"):\n",
    "        feature_imp=pd.DataFrame({\"Value\":model.feature_importances_,\"Feature\":feature.columns})\n",
    "    else:\n",
    "        feature_imp=pd.DataFrame({\"Value\":model.coef_[0],\"Feature\":feature.columns})\n",
    "    plt.figure(figsize=(10,10))\n",
    "    sns.set(font_scale=1)\n",
    "    sns.barplot(x=\"Value\",y=\"Feature\",data=feature_imp.sort_values(by=\"Value\",ascending=False,)[0:nun])\n",
    "    plt.title(\"Feature\")\n",
    "    plt.tight_layout()\n",
    "    plt.show()"
   ]
  },
  {
   "cell_type": "code",
   "execution_count": 172,
   "metadata": {},
   "outputs": [],
   "source": [
    "models=[log_final,forest_final,tree_final,cart_final,gbm_final,lgbm]"
   ]
  },
  {
   "cell_type": "code",
   "execution_count": 173,
   "metadata": {
    "scrolled": true
   },
   "outputs": [
    {
     "data": {
      "image/png": "[encoded data removed]",
      "text/plain": [
       "<Figure size 720x720 with 1 Axes>"
      ]
     },
     "metadata": {},
     "output_type": "display_data"
    },
    {
     "data": {
      "image/png": "[encoded data removed]",
      "text/plain": [
       "<Figure size 720x720 with 1 Axes>"
      ]
     },
     "metadata": {},
     "output_type": "display_data"
    },
    {
     "data": {
      "image/png": "[encoded data removed]",
      "text/plain": [
       "<Figure size 720x720 with 1 Axes>"
      ]
     },
     "metadata": {},
     "output_type": "display_data"
    },
    {
     "data": {
      "image/png": "[encoded data removed]",
      "text/plain": [
       "<Figure size 720x720 with 1 Axes>"
      ]
     },
     "metadata": {},
     "output_type": "display_data"
    },
    {
     "data": {
      "image/png": "[encoded data removed]",
      "text/plain": [
       "<Figure size 720x720 with 1 Axes>"
      ]
     },
     "metadata": {},
     "output_type": "display_data"
    },
    {
     "data": {
      "image/png": "[encoded data removed]",
      "text/plain": [
       "<Figure size 720x720 with 1 Axes>"
      ]
     },
     "metadata": {},
     "output_type": "display_data"
    }
   ],
   "source": [
    "for i in models:\n",
    "    plot_importance(i,X_train,nun=5)"
   ]
  },
  {
   "cell_type": "code",
   "execution_count": null,
   "metadata": {},
   "outputs": [],
   "source": []
  }
 ],
 "metadata": {
  "kernelspec": {
   "display_name": "Python 3",
   "language": "python",
   "name": "python3"
  },
  "language_info": {
   "codemirror_mode": {
    "name": "ipython",
    "version": 3
   },
   "file_extension": ".py",
   "mimetype": "text/x-python",
   "name": "python",
   "nbconvert_exporter": "python",
   "pygments_lexer": "ipython3",
   "version": "3.8.5"
  }
 },
 "nbformat": 4,
 "nbformat_minor": 4
}
